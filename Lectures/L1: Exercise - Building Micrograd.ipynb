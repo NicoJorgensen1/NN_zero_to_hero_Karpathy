{
  "cells": [
    {
      "cell_type": "markdown",
      "metadata": {
        "id": "JnGHatCI51JP"
      },
      "source": [
        "# micrograd exercises\n",
        "\n",
        "1. watch the [micrograd video](https://www.youtube.com/watch?v=VMj-3S1tku0) on YouTube\n",
        "2. come back and complete these exercises to level up :)"
      ]
    },
    {
      "cell_type": "markdown",
      "metadata": {
        "id": "OFt6NKOz6iBZ"
      },
      "source": [
        "## Section 1: derivatives"
      ]
    },
    {
      "cell_type": "code",
      "execution_count": 1,
      "metadata": {
        "colab": {
          "base_uri": "https://localhost:8080/"
        },
        "id": "3Jx9fCXl5xHd",
        "outputId": "6950e35b-c08b-4665-f79e-79bf49a49a25"
      },
      "outputs": [],
      "source": [
        "# here is a mathematical expression that takes 3 inputs and produces one output\n",
        "from math import sin, cos\n",
        "import numpy as np \n",
        "\n",
        "# At first, we define the primary function \n",
        "def f(a, b, c):\n",
        "  return -a**3 + sin(3*b) - 1.0/c + b**2.5 - a**0.5"
      ]
    },
    {
      "cell_type": "code",
      "execution_count": 2,
      "metadata": {
        "colab": {
          "base_uri": "https://localhost:8080/"
        },
        "id": "qXaH59eL9zxf",
        "outputId": "9c19668f-a2c9-469f-a7b2-d64c99bd631c"
      },
      "outputs": [
        {
          "name": "stdout",
          "output_type": "stream",
          "text": [
            "OK for dim 0: expected -12.353553390593273, yours returns -12.353553390593273\n",
            "OK for dim 1: expected 10.25699027111255, yours returns 10.25699027111255\n",
            "OK for dim 2: expected 0.0625, yours returns 0.0625\n"
          ]
        }
      ],
      "source": [
        "# Write the function df that returns the analytical gradient of f\n",
        "# i.e. use your skills from calculus to take the derivative, then implement the formula\n",
        "# if you do not calculus then feel free to ask wolframalpha, e.g.:\n",
        "# https://www.wolframalpha.com/input?i=d%2Fda%28sin%283*a%29%29%29\n",
        "\n",
        "#--------------------------------------------------------------------------------------------------------------------------------------\n",
        "########################################################################################################################################\n",
        "################################# EXERCISE: Compute the partial derivatives of f with respect to a,b,c #################################\n",
        "########################################################################################################################################\n",
        "#### As we have three independent variables (a,b,c), we need three partial derivatives\n",
        "#### These partial derivatives have been calculated using Wolframalpha \n",
        "def f_prime_a(a):\n",
        "  return -3*a**2 - 1/(2*np.sqrt(a))\n",
        "\n",
        "def f_prime_b(b):\n",
        "  return 2.5*b**1.5 + 3*cos(3*b)\n",
        "\n",
        "def f_prime_c(c):\n",
        "  return 1/c**2\n",
        "\n",
        "\n",
        "#### Insert these partial derivatives in the gradf function \n",
        "def gradf(a, b, c):\n",
        "  return [f_prime_a(a), f_prime_b(b), f_prime_c(c)]         # todo, return [df/da, df/db, df/dc]\n",
        "\n",
        "#--------------------------------------------------------------------------------------------------------------------------------------\n",
        "\n",
        "# Expected answer is the list of \n",
        "a,b,c = 2,3,4\n",
        "ans = [-12.353553390593273, 10.25699027111255, 0.0625]\n",
        "yours = gradf(a=a, b=b, c=c)\n",
        "for dim in range(3):\n",
        "  ok = 'OK' if abs(yours[dim] - ans[dim]) < 1e-5 else 'WRONG!'\n",
        "  print(f\"{ok} for dim {dim}: expected {ans[dim]}, yours returns {yours[dim]}\")\n"
      ]
    },
    {
      "cell_type": "code",
      "execution_count": 3,
      "metadata": {
        "colab": {
          "base_uri": "https://localhost:8080/"
        },
        "id": "_27n-KTA9Qla",
        "outputId": "a37bb5af-b565-45d9-95cb-f30bc79a441a"
      },
      "outputs": [
        {
          "name": "stdout",
          "output_type": "stream",
          "text": [
            "OK for dim 0: expected -12.353553390593273, yours returns -12.35355817641448\n",
            "OK for dim 1: expected 10.25699027111255, yours returns 10.256986371359744\n",
            "OK for dim 2: expected 0.0625, yours returns 0.06250111539429781\n"
          ]
        }
      ],
      "source": [
        "# Now estimate the gradient numerically without any calculus, using the approximation we used in the video.\n",
        "# you should not call the function df from the last cell\n",
        "\n",
        "\n",
        "#--------------------------------------------------------------------------------------------------------------------------------------\n",
        "########################################################################################################################################\n",
        "############################################# EXERCISE: Estimate the gradients numerically #############################################\n",
        "########################################################################################################################################\n",
        "numerical_grad = [0, 0, 0] # TODO\n",
        "\n",
        "# Estimating numerically \n",
        "h = 10**-10\n",
        "a_numerical_grad = (f(a+h, b, c) - f(a, b, c)) / h \n",
        "b_numerical_grad = (f(a, b+h, c) - f(a, b, c)) / h \n",
        "c_numerical_grad = (f(a, b, c+h) - f(a, b, c)) / h \n",
        "numerical_grad = [a_numerical_grad, b_numerical_grad, c_numerical_grad]\n",
        "\n",
        "# ----------------------------------------------------------------------------------------------------\n",
        "\n",
        "for dim in range(3):\n",
        "  ok = 'OK' if abs(numerical_grad[dim] - ans[dim]) < 1e-5 else 'WRONG!'\n",
        "  print(f\"{ok} for dim {dim}: expected {ans[dim]}, yours returns {numerical_grad[dim]}\")\n"
      ]
    },
    {
      "cell_type": "code",
      "execution_count": 4,
      "metadata": {
        "colab": {
          "base_uri": "https://localhost:8080/"
        },
        "id": "BUqsGb5o_h2P",
        "outputId": "0f58c740-de8c-4f14-e2c9-27a0b3a4be2e"
      },
      "outputs": [
        {
          "name": "stdout",
          "output_type": "stream",
          "text": [
            "OK for dim 0: expected -12.353553390593273, yours returns -12.353553735522382\n",
            "OK for dim 1: expected 10.25699027111255, yours returns 10.256990812251843\n",
            "OK for dim 2: expected 0.0625, yours returns 0.06250111539429781\n"
          ]
        }
      ],
      "source": [
        "# there is an alternative formula that provides a much better numerical\n",
        "# approximation to the derivative of a function.\n",
        "# learn about it here: https://en.wikipedia.org/wiki/Symmetric_derivative\n",
        "# implement it. confirm that for the same step size h this version gives a\n",
        "# better approximation.\n",
        "\n",
        "#--------------------------------------------------------------------------------------------------------------------------------------\n",
        "########################################################################################################################################\n",
        "############################## EXERCISE: Estimate the gradients numerically using the symmetric derivative #############################\n",
        "########################################################################################################################################\n",
        "numerical_grad2 = [0, 0, 0] # TODO\n",
        "\n",
        "\n",
        "#### The symmetric derivative is an operation that will perform the following operation lim h->0 (f(x+h) - f(x-h) / 2h)\n",
        "#### i.e. the symmetric derivative goes a small step of h to both sides of x on the function f, where we want to estimate the gradient, and then divides by 2h \n",
        "h = 10**-10\n",
        "a_sym_num_grad = (f(a+h, b, c) - f(a-h, b, c)) / (2*h)\n",
        "b_sym_num_grad = (f(a, b+h, c) - f(a, b-h, c)) / (2*h)\n",
        "c_sym_num_grad = (f(a, b, c+h) - f(a, b, c-h)) / (2*h)\n",
        "numerical_grad2 = [a_sym_num_grad, b_sym_num_grad, c_sym_num_grad]\n",
        "\n",
        "#--------------------------------------------------------------------------------------------------------------------------------------\n",
        "\n",
        "for dim in range(3):\n",
        "  ok = 'OK' if abs(numerical_grad2[dim] - ans[dim]) < 1e-5 else 'WRONG!'\n",
        "  print(f\"{ok} for dim {dim}: expected {ans[dim]}, yours returns {numerical_grad2[dim]}\")\n"
      ]
    },
    {
      "cell_type": "markdown",
      "metadata": {
        "id": "tklF9s_4AtlI"
      },
      "source": [
        "## section 2: support for softmax"
      ]
    },
    {
      "cell_type": "code",
      "execution_count": 36,
      "metadata": {
        "id": "nAPe_RVrCTeO"
      },
      "outputs": [],
      "source": [
        "# Value class starter code, with many functions taken out\n",
        "from math import exp, log, log10\n",
        "\n",
        "class Value:\n",
        "\n",
        "  def __init__(self, data, _children=(), _op='', label=''):\n",
        "    self.data = data\n",
        "    self.grad = 0.0\n",
        "    self._backward = lambda: None\n",
        "    self._prev = set(_children)\n",
        "    self._op = _op\n",
        "    self.label = label\n",
        "\n",
        "  def __repr__(self):\n",
        "    return f\"Value(data={self.data})\"\n",
        "\n",
        "  def __add__(self, other):\n",
        "    other = other if isinstance(other, Value) else Value(other)                         \n",
        "    out = Value(data=self.data + other.data, _children=(self, other), _op='+')          \n",
        "    \n",
        "    def _backward():     \n",
        "      self.grad += 1.0 * out.grad                                                       \n",
        "      other.grad += 1.0 * out.grad                                                      \n",
        "    out._backward = _backward                                                           \n",
        "    return out\n",
        "\n",
        "  def __mul__(self, other):\n",
        "    other = other if isinstance(other, Value) else Value(other)\n",
        "    out = Value(data=self.data * other.data, _children=(self, other), _op='*') \n",
        "\n",
        "    # Chain rule, local_grad * outer_grad, i.e. dz/dx = dz/dy * dy/dx \n",
        "    def _backward():\n",
        "      self.grad += other.data * out.grad\n",
        "      other.grad += self.data * out.grad\n",
        "    out._backward = _backward\n",
        "    return out\n",
        "\n",
        "\n",
        "  \n",
        "\n",
        "  #--------------------------------------------------------------------------------------------------------------------------------------\n",
        "  ########################################################################################################################################\n",
        "  ################################## EXERCISE: Reimplement the necessary operations to perform a softmax #################################\n",
        "  ########################################################################################################################################\n",
        "  ### re-implement all the other functions needed for the exercises below\n",
        "  # i.e. we need the .exp() and the __truediv__ \n",
        "\n",
        "  # Define the __pow__ function \n",
        "  def __pow__(self, other):\n",
        "    assert isinstance(other, (int, float)), \"only supporting int/float powers for now\"\n",
        "    out = Value(self.data**other, (self,), f'**{other}')\n",
        "\n",
        "    def _backward():\n",
        "        self.grad += other * (self.data ** (other - 1)) * out.grad\n",
        "    out._backward = _backward\n",
        "\n",
        "    return out\n",
        "\n",
        "  # Define the __truediv__, which is simply a special case of the power function \n",
        "  def __truediv__(self, other): # self / other\n",
        "    return self * (other**-1)\n",
        "\n",
        "  def __rtruediv__(self, other): # other / self\n",
        "    return other * self**-1\n",
        "\n",
        "  # Define the negation function for negating it self\n",
        "  def __neg__(self): # -self\n",
        "    return self * -1\n",
        "\n",
        "  def __sub__(self, other): # self - other\n",
        "    return self + (-other)\n",
        "\n",
        "\n",
        "  # Define the exponential function\n",
        "  def exp(self):\n",
        "    out = Value(exp(self.data), (self, ), 'exp')\n",
        "    \n",
        "    def _backward():\n",
        "      self.grad += out.data * out.grad # NOTE: in the video I incorrectly used = instead of +=. Fixed here.\n",
        "    out._backward = _backward\n",
        "    return out\n",
        "\n",
        "  # Define the logarithm function\n",
        "  def log(self):\n",
        "    # forward pass \n",
        "    out = Value(data=log10(self.data), _children=(self, ), _op=\"log\")\n",
        "\n",
        "    # backward pass \n",
        "    def _backward():\n",
        "      self.grad += (1.0 / self.data) * out.grad\n",
        "    out._backward = _backward\n",
        "    return out \n",
        "  \n",
        "\n",
        "  # Define the recursive add function\n",
        "  def __radd__(self, other):\n",
        "    return self + other\n",
        "\n",
        "  \n",
        "  \n",
        "  \n",
        "  #--------------------------------------------------------------------------------------------------------------------------------------\n",
        "\n",
        "  def backward(self): # exactly as in video\n",
        "    topo = []\n",
        "    visited = set()\n",
        "    def build_topo(v):\n",
        "      if v not in visited:\n",
        "        visited.add(v)\n",
        "        for child in v._prev:\n",
        "          build_topo(child)\n",
        "        topo.append(v)\n",
        "    build_topo(self)\n",
        "\n",
        "    self.grad = 1.0\n",
        "    for node in reversed(topo):\n",
        "      node._backward()"
      ]
    },
    {
      "cell_type": "code",
      "execution_count": 57,
      "metadata": {
        "colab": {
          "base_uri": "https://localhost:8080/",
          "height": 381
        },
        "id": "VgWvwVQNAvnI",
        "outputId": "94d6a20a-f2f9-4db4-b0e0-66781137ac76"
      },
      "outputs": [
        {
          "name": "stdout",
          "output_type": "stream",
          "text": [
            "The loss value is 0.944814317280191\n",
            "OK for dim 0: expected 0.041772570515350445, yours returns 0.041772570515350445\n",
            "OK for dim 1: expected 0.8390245074625319, yours returns 0.8390245074625319\n",
            "OK for dim 2: expected 0.005653302662216329, yours returns 0.005653302662216329\n",
            "OK for dim 3: expected -0.8864503806400986, yours returns -0.8864503806400986\n"
          ]
        }
      ],
      "source": [
        "# without referencing our code/video __too__ much, make this cell work\n",
        "# you'll have to implement (in some cases re-implemented) a number of functions\n",
        "# of the Value object, similar to what we've seen in the video.\n",
        "# instead of the squared error loss this implements the negative log likelihood\n",
        "# loss, which is very often used in classification.\n",
        "\n",
        "# this is the softmax function\n",
        "# https://en.wikipedia.org/wiki/Softmax_function\n",
        "def softmax(logits):\n",
        "  counts = [logit.exp() for logit in logits]\n",
        "  denominator = sum(counts)\n",
        "  out = [c / denominator for c in counts]\n",
        "  return out\n",
        "\n",
        "\n",
        "# this is the negative log likelihood loss function, pervasive in classification\n",
        "logits = [Value(0.0), Value(3.0), Value(-2.0), Value(1.0)]\n",
        "probs = softmax(logits)\n",
        "\n",
        "loss = -probs[3].log() # dim 3 acts as the label for this input example\n",
        "print(f\"The loss value is {loss.data}\")\n",
        "loss.backward()\n",
        "\n",
        "ans = [0.041772570515350445, 0.8390245074625319, 0.005653302662216329, -0.8864503806400986]\n",
        "for dim in range(4):\n",
        "  ok = 'OK' if abs(logits[dim].grad - ans[dim]) < 1e-5 else 'WRONG!'\n",
        "  print(f\"{ok} for dim {dim}: expected {ans[dim]}, yours returns {logits[dim].grad}\")\n"
      ]
    },
    {
      "cell_type": "code",
      "execution_count": 66,
      "metadata": {
        "id": "q7ca1SVAGG1S"
      },
      "outputs": [
        {
          "name": "stdout",
          "output_type": "stream",
          "text": [
            "tensor(-0.0400, dtype=torch.float64)\n",
            "tensor(0.0350, dtype=torch.float64)\n",
            "tensor(0.0002, dtype=torch.float64)\n",
            "tensor(0.0047, dtype=torch.float64)\n"
          ]
        }
      ],
      "source": [
        "# verify the gradient using the torch library\n",
        "# torch should give you the exact same gradient\n",
        "import torch\n",
        "\n",
        "# I don't know what he means here... \n",
        "\n",
        "logits_torch = torch.tensor([x.data for x in logits]).double(); logits_torch.requires_grad = True \n",
        "probs_torch = torch.nn.functional.softmax(input=logits_torch, dim=-1)\n",
        "loss_torch = torch.nn.functional.nll_loss(input=probs_torch, target=torch.tensor([0,0,0,1]))\n",
        "loss_torch.requires_grad_ = True \n",
        "loss_torch.backward()\n",
        "for dim in range(4):\n",
        "    print(logits_torch.grad[dim])"
      ]
    }
  ],
  "metadata": {
    "colab": {
      "provenance": []
    },
    "kernelspec": {
      "display_name": "Python 3",
      "name": "python3"
    },
    "language_info": {
      "codemirror_mode": {
        "name": "ipython",
        "version": 3
      },
      "file_extension": ".py",
      "mimetype": "text/x-python",
      "name": "python",
      "nbconvert_exporter": "python",
      "pygments_lexer": "ipython3",
      "version": "3.10.12"
    }
  },
  "nbformat": 4,
  "nbformat_minor": 0
}
