{
  "cells": [
    {
      "cell_type": "markdown",
      "metadata": {
        "id": "wJpXpmjEYC_T"
      },
      "source": [
        "## Building a GPT\n",
        "\n",
        "Companion notebook to the [Zero To Hero](https://karpathy.ai/zero-to-hero.html) video on GPT."
      ]
    },
    {
      "cell_type": "code",
      "execution_count": 35,
      "metadata": {},
      "outputs": [],
      "source": [
        "# Import libaries \n",
        "import os \n",
        "import torch \n",
        "import tiktoken\n",
        "import urllib.request\n",
        "import capra_standard_functions as csf\n",
        "from matplotlib import pyplot as plt \n",
        "%matplotlib inline "
      ]
    },
    {
      "cell_type": "code",
      "execution_count": 36,
      "metadata": {
        "colab": {
          "base_uri": "https://localhost:8080/"
        },
        "id": "h5hjCcLDr2WC",
        "outputId": "ccc60f0c-fd78-4dbe-8598-0512d1036aad"
      },
      "outputs": [],
      "source": [
        "# We always start with a dataset to train on. Let's download the tiny shakespeare dataset\n",
        "url = \"https://raw.githubusercontent.com/karpathy/char-rnn/master/data/tinyshakespeare/input.txt\"\n",
        "save_dir = \"/home/nico/NN_zero_to_hero/Lectures/L7\" \n",
        "full_path = os.path.join(save_dir, os.path.basename(url))\n",
        "if not os.path.isfile(full_path):\n",
        "    _=urllib.request.urlretrieve(url, full_path)"
      ]
    },
    {
      "cell_type": "code",
      "execution_count": 37,
      "metadata": {
        "id": "O6medjfRsLD9"
      },
      "outputs": [
        {
          "name": "stdout",
          "output_type": "stream",
          "text": [
            "In this Shakespeare dataset we have 1,115,394 characters. Let's look at the first 250 characters:\n",
            "\n",
            "First Citizen:\n",
            "Before we proceed any further, hear me speak.\n",
            "\n",
            "All:\n",
            "Speak, speak.\n",
            "\n",
            "First Citizen:\n",
            "You are all resolved rather to die than to famish?\n",
            "\n",
            "All:\n",
            "Resolved. resolved.\n",
            "\n",
            "First Citizen:\n",
            "First, you know Caius Marcius is chief enemy to the people.\n",
            "\n"
          ]
        }
      ],
      "source": [
        "# Read the Shakespeare file \n",
        "with open(full_path, 'r', encoding='utf-8') as f:\n",
        "    shakespeare_text = f.read()                                         # Read the file as an entire string \n",
        "\n",
        "# txt = csf.read_lblfile(\"input.txt\")                       # Read the file as a list \n",
        "watch_num = 250\n",
        "print(f\"In this Shakespeare dataset we have {len(shakespeare_text):,} characters. Let's look at the first {watch_num:d} characters:\\n\\n{shakespeare_text[:watch_num]}\")"
      ]
    },
    {
      "cell_type": "code",
      "execution_count": 38,
      "metadata": {
        "colab": {
          "base_uri": "https://localhost:8080/"
        },
        "id": "0e-Rbyr8sfM8",
        "outputId": "f34e94a9-5b44-4cf3-885b-986731929109"
      },
      "outputs": [
        {
          "name": "stdout",
          "output_type": "stream",
          "text": [
            "In the Shakespeare dataset we have 65 unique characters:\n",
            "\n",
            " !$&',-.3:;?ABCDEFGHIJKLMNOPQRSTUVWXYZabcdefghijklmnopqrstuvwxyz\n"
          ]
        }
      ],
      "source": [
        "# here are all the unique characters that occur in this text\n",
        "chars = sorted(list(set(shakespeare_text)))         # Create a sorted list of all single characters that occur in the dataset \n",
        "vocab_size = len(chars)                             # The vocabulary size is the possible characters in our dataset, i.e. the number of classes \n",
        "\n",
        "# Decode to utf-8 in order to be specific about that we also have '\\n' and ' ' (i.e. lineskip and a space) as possible characters in the dataset \n",
        "print(f\"In the Shakespeare dataset we have {vocab_size} unique characters:\\n{''.join(chars)}\")  # Note the lineskip before printing the characters and that we start with a space of the new line "
      ]
    },
    {
      "cell_type": "code",
      "execution_count": 39,
      "metadata": {
        "colab": {
          "base_uri": "https://localhost:8080/"
        },
        "id": "Yw1LKNCgwjj1",
        "outputId": "86fcc21c-2cf7-40d9-cd7b-b5a253da4459"
      },
      "outputs": [],
      "source": [
        "### Create a mapping from characters to integers\n",
        "# This is our tokenizer --> i.e. our translation from characters into indices, as a NN model cannot take characters directly \n",
        "\n",
        "### This is a VERY simply tokenizer --> one of many different tokenizers out there \n",
        "# Google uses 'Sentence-Piece' tokenizer => which is a sub-word unit-level tokenizer \n",
        "# OpenAI has a library called 'tiktoken' which uses a BPE (Byte-Pair Encoding), which is then used by all GPT models \n",
        "stoi = { ch:i for i,ch in enumerate(chars) }                # Dictionary mapping characters to integers \n",
        "itos = { i:ch for i,ch in enumerate(chars) }                # Dictionary mapping integers to characters\n",
        "encode = lambda s: [stoi[c] for c in s]                     # encoder: take a string, output a list of integers\n",
        "decode = lambda l: ''.join([itos[i] for i in l])            # decoder: take a list of integers, output a string"
      ]
    },
    {
      "cell_type": "code",
      "execution_count": 40,
      "metadata": {},
      "outputs": [
        {
          "name": "stdout",
          "output_type": "stream",
          "text": [
            "Using our own, simple encoder <-> decoder with a vocabulary size of 65 and the test string: 'hii there', we get:\n",
            "Our simple tokenizer-encoder outputs:                       '[46, 47, 47, 1, 58, 46, 43, 56, 43]'\n",
            "Our simple tokenizer-decoding outputs:                      'hii there'\n",
            "\n",
            "The OpenAI encoder for GPT2 has a vocavulary size of 50,257\n",
            "Encoding our test string using OpenAI tokenizer gets:       [71, 4178, 612]\n",
            "Decoding that back using the OpenAI tokenizer gets:         hii there\n"
          ]
        }
      ],
      "source": [
        "### Encode and decode our test string using our own encoder and decoder tokenizer \n",
        "encode_decode_txt_test_str = \"hii there\"\n",
        "ljust_length = 60\n",
        "print(f\"Using our own, simple encoder <-> decoder with a vocabulary size of {vocab_size} and the test string: '{encode_decode_txt_test_str}', we get:\")\n",
        "print(f\"Our simple tokenizer-encoder outputs:\".ljust(ljust_length) +f\"'{encode(encode_decode_txt_test_str)}'\")\n",
        "print(f\"Our simple tokenizer-decoding outputs:\".ljust(ljust_length) + f\"'{decode(encode(encode_decode_txt_test_str))}'\")\n",
        "\n",
        "### Encode and decode our test string using the encoder used for GPT2 by OpenAI \n",
        "openai_encoder = tiktoken.get_encoding(\"gpt2\")\n",
        "print(f\"\\nThe OpenAI encoder for GPT2 has a vocavulary size of {openai_encoder.n_vocab:,d}\")\n",
        "print(f\"Encoding our test string using OpenAI tokenizer gets:\".ljust(ljust_length) + f\"{openai_encoder.encode(encode_decode_txt_test_str)}\")\n",
        "print(f\"Decoding that back using the OpenAI tokenizer gets:\".ljust(ljust_length) + f\"{openai_encoder.decode(openai_encoder.encode(encode_decode_txt_test_str))}\")\n",
        "\n",
        "### Notice how the vocabulary size of the OpenAI tokenizer is much larger than our simple character level approach \n",
        "# This means that they can distinguish between 50k different tokens, whereas we can only distinguish between 65 different characters\n",
        "# This makes their task way heavier, as that means their final linear layer will have to output a logits vector of length 50k \n",
        "# This then means that a model used with such a vocabulary size will have way more parameters than our simple approach model\n",
        "# However, distinguishing between that many tokens will also allow a model to learn more representative combinations of tokens\n",
        "# Hence, the OpenAI tokenizer will allow the OpenAI models to become better than our simple character-level based models \n",
        "# Notice that in the bottom code block our simple character based tokenizer outputs a list of 9 integers for the two words 'hii there', where as the OpenAI tokenizer only outputs a list of three integers\n",
        "    # Hence, we can see that there is a tradeoff between having small sequence lengths but large vocabularies (as OpenAI) or longer sequence lengths but with smaller vocabularies (as with our simple approach)."
      ]
    },
    {
      "cell_type": "code",
      "execution_count": 41,
      "metadata": {
        "colab": {
          "base_uri": "https://localhost:8080/"
        },
        "id": "YJb0OXPwzvqg",
        "outputId": "db7297cc-36a9-4fae-e941-e7bb9e0e91d1"
      },
      "outputs": [
        {
          "name": "stdout",
          "output_type": "stream",
          "text": [
            "Now we have our data of torch.Size([1115394]) of type torch.int64\n",
            "This is the tokens input that our GPT model gets for the first 250 tokens:\n",
            "tensor([18, 47, 56, 57, 58,  1, 15, 47, 58, 47, 64, 43, 52, 10,  0, 14, 43, 44,\n",
            "        53, 56, 43,  1, 61, 43,  1, 54, 56, 53, 41, 43, 43, 42,  1, 39, 52, 63,\n",
            "         1, 44, 59, 56, 58, 46, 43, 56,  6,  1, 46, 43, 39, 56,  1, 51, 43,  1,\n",
            "        57, 54, 43, 39, 49,  8,  0,  0, 13, 50, 50, 10,  0, 31, 54, 43, 39, 49,\n",
            "         6,  1, 57, 54, 43, 39, 49,  8,  0,  0, 18, 47, 56, 57, 58,  1, 15, 47,\n",
            "        58, 47, 64, 43, 52, 10,  0, 37, 53, 59,  1, 39, 56, 43,  1, 39, 50, 50,\n",
            "         1, 56, 43, 57, 53, 50, 60, 43, 42,  1, 56, 39, 58, 46, 43, 56,  1, 58,\n",
            "        53,  1, 42, 47, 43,  1, 58, 46, 39, 52,  1, 58, 53,  1, 44, 39, 51, 47,\n",
            "        57, 46, 12,  0,  0, 13, 50, 50, 10,  0, 30, 43, 57, 53, 50, 60, 43, 42,\n",
            "         8,  1, 56, 43, 57, 53, 50, 60, 43, 42,  8,  0,  0, 18, 47, 56, 57, 58,\n",
            "         1, 15, 47, 58, 47, 64, 43, 52, 10,  0, 18, 47, 56, 57, 58,  6,  1, 63,\n",
            "        53, 59,  1, 49, 52, 53, 61,  1, 15, 39, 47, 59, 57,  1, 25, 39, 56, 41,\n",
            "        47, 59, 57,  1, 47, 57,  1, 41, 46, 47, 43, 44,  1, 43, 52, 43, 51, 63,\n",
            "         1, 58, 53,  1, 58, 46, 43,  1, 54, 43, 53, 54, 50, 43,  8,  0])\n"
          ]
        }
      ],
      "source": [
        "### Let's now encode the entire text dataset and store it into a torch.Tensor\n",
        "data = torch.tensor(encode(shakespeare_text), dtype=torch.long)                 # Here we encode the entire Shakespeare text dataset and convert these encodings into a torch.tensor \n",
        "print(f\"Now we have our data of {data.shape} of type {data.dtype}\")\n",
        "print(f\"This is the tokens input that our GPT model gets for the first {watch_num} tokens:\\n{data[:watch_num]}\")   # The first 'watch_num' characters we looked at earier will to the GPT look like this"
      ]
    },
    {
      "cell_type": "code",
      "execution_count": 42,
      "metadata": {
        "id": "f_WIXqxz0lU5"
      },
      "outputs": [],
      "source": [
        "### Let's now split up the data into train and validation sets\n",
        "n = int(0.9*len(data))          # First 90% will be train, rest validation \n",
        "train_data = data[:n]           # Read the first 90% of the dataset     \n",
        "val_data = data[n:]             # Read the final 10% of the dataset "
      ]
    },
    {
      "cell_type": "code",
      "execution_count": 43,
      "metadata": {
        "colab": {
          "base_uri": "https://localhost:8080/"
        },
        "id": "TD5Bj8Y6IAD4",
        "outputId": "bf23c586-1d33-4af1-b63d-ce6f90b0a528"
      },
      "outputs": [
        {
          "name": "stdout",
          "output_type": "stream",
          "text": [
            "Hence, the string 'First Cit' translates into [18, 47, 56, 57, 58, 1, 15, 47, 58]\n",
            "\n",
            "When input is tensor([18]) the target is:                             47\n",
            "When input is tensor([18, 47]) the target is:                         56\n",
            "When input is tensor([18, 47, 56]) the target is:                     57\n",
            "When input is tensor([18, 47, 56, 57]) the target is:                 58\n",
            "When input is tensor([18, 47, 56, 57, 58]) the target is:             1\n",
            "When input is tensor([18, 47, 56, 57, 58,  1]) the target is:         15\n",
            "When input is tensor([18, 47, 56, 57, 58,  1, 15]) the target is:     47\n",
            "When input is tensor([18, 47, 56, 57, 58,  1, 15, 47]) the target is: 58\n"
          ]
        }
      ],
      "source": [
        "### When we are training the Transformer based model, we will never send in the entire dataset\n",
        "# We will instead feed smaller chunks of data --> the mini-batches \n",
        "# In our earlier lectures we have denoted the size of each sequence as our \"block_size\"\n",
        "    # This is what's denoted as context_length etc. in other NLP transformer papers \n",
        "block_size = 8\n",
        "print(f\"Hence, the string '{decode(train_data[:block_size+1].tolist())}' translates into {train_data[:block_size+1].tolist()}\\n\")\n",
        "\n",
        "### Hence, we can create sequences of different lengths\n",
        "    # We feed in a sequences of as little as 1 token and then all the way up to a sequence of length 'block_size' \n",
        "    # This is done in order for the Transformer to learn how to handle sequences of varying sizes \n",
        "# When we are going to the inference stage with the Transformer model, the model will then know how to sample and continue on\n",
        "# from sequences as small as only one token input and all the way up to a sequence of length 'block_size' \n",
        "    # If the sequence gets longer than 'block_size', then that's where we start truncating the sequence and remove the first in favour of the last tokens \n",
        "x = train_data[:block_size]             # Creating a bunch of sequences from the training data \n",
        "y = train_data[1:block_size+1]          # Creating their corresponding targets from the training data, i.e. what character will follow the input sequence \n",
        "for t in range(block_size):             # Iterating through all these possible sequence lengths. From 0 all the way to 'block_size' \n",
        "    context = x[:t+1]                   # The context length of the sequence will then be the earlier 't' characters \n",
        "    target = y[t]                       # The target is then going to be the following character \n",
        "    print(f\"When input is {context} the target is:\".ljust(70) + f\"{target}\")"
      ]
    },
    {
      "cell_type": "code",
      "execution_count": 44,
      "metadata": {
        "colab": {
          "base_uri": "https://localhost:8080/"
        },
        "id": "Q3k1Czf7LuA9",
        "outputId": "4ea8e8a0-443c-49bb-b3bf-ba36e1712999"
      },
      "outputs": [
        {
          "name": "stdout",
          "output_type": "stream",
          "text": [
            "Inputs of shape torch.Size([4, 8]) => Strings: [\"Let's he\", 'for that', 'nt that ', 'MEO:\\nI p']:\n",
            "Integers: tensor([[24, 43, 58,  5, 57,  1, 46, 43],\n",
            "        [44, 53, 56,  1, 58, 46, 39, 58],\n",
            "        [52, 58,  1, 58, 46, 39, 58,  1],\n",
            "        [25, 17, 27, 10,  0, 21,  1, 54]])\n",
            "\n",
            "Targets of shape torch.Size([4, 8]) => Strings: [\"et's hea\", 'or that ', 't that h', 'EO:\\nI pa']:\n",
            "Integers: tensor([[43, 58,  5, 57,  1, 46, 43, 39],\n",
            "        [53, 56,  1, 58, 46, 39, 58,  1],\n",
            "        [58,  1, 58, 46, 39, 58,  1, 46],\n",
            "        [17, 27, 10,  0, 21,  1, 54, 39]])\n",
            "----------------------------------------------------------------------------------------------------\n",
            "When the input is [24] the target is:                            43\n",
            "When the input is [24, 43] the target is:                        58\n",
            "When the input is [24, 43, 58] the target is:                    5\n",
            "When the input is [24, 43, 58, 5] the target is:                 57\n",
            "When the input is [24, 43, 58, 5, 57] the target is:             1\n",
            "When the input is [24, 43, 58, 5, 57, 1] the target is:          46\n",
            "When the input is [24, 43, 58, 5, 57, 1, 46] the target is:      43\n",
            "When the input is [24, 43, 58, 5, 57, 1, 46, 43] the target is:  39\n",
            "\n",
            "When the input is [44] the target is:                            53\n",
            "When the input is [44, 53] the target is:                        56\n",
            "When the input is [44, 53, 56] the target is:                    1\n",
            "When the input is [44, 53, 56, 1] the target is:                 58\n",
            "When the input is [44, 53, 56, 1, 58] the target is:             46\n",
            "When the input is [44, 53, 56, 1, 58, 46] the target is:         39\n",
            "When the input is [44, 53, 56, 1, 58, 46, 39] the target is:     58\n",
            "When the input is [44, 53, 56, 1, 58, 46, 39, 58] the target is: 1\n",
            "\n"
          ]
        }
      ],
      "source": [
        "torch.manual_seed(1337)         # Set a manual seed for deterministic reproduction \n",
        "batch_size = 4                  # how many independent sequences will we process in parallel?\n",
        "block_size = 8                  # what is the maximum context length for predictions?\n",
        "\n",
        "# Generate a small batch of data of inputs x and targets y\n",
        "def get_batch(split):\n",
        "    data = train_data if split == 'train' else val_data                         # Sample from either the train_data or val_data \n",
        "    ix = torch.randint(low=0, high=len(data)-block_size, size=(batch_size,))    # Generate a random integer array of indices of size 'batch_size', sampled from integers between [0, len(data)-block_size]\n",
        "    x = torch.stack([data[i:i+block_size] for i in ix])                         # Stack the data along the first dimension in a new tensor \n",
        "    y = torch.stack([data[i+1:i+block_size+1] for i in ix])                     # Stack the targets, as the sequences taken 1 step further in a new tensor\n",
        "    return x, y                                                                 # Return both the sequence batch and their corresponding targets \n",
        "\n",
        "# Create inputs \n",
        "xb, yb = get_batch('train')\n",
        "print(f\"Inputs of shape {xb.shape} => Strings: {[decode(xb[i,:].tolist()) for i in range(xb.shape[0])]}:\\nIntegers: {xb}\")\n",
        "print(f\"\\nTargets of shape {yb.shape} => Strings: {[decode(yb[i,:].tolist()) for i in range(yb.shape[0])]}:\\nIntegers: {yb}\")\n",
        "print('-'*100)\n",
        "\n",
        "### Print the different sequences we are capable of creating from this batch\n",
        "# We will only print the sequences for the first two rows (half the batch) to save output space ... \n",
        "# Hence, this \n",
        "for b in range(batch_size//2):      # batch dimension\n",
        "    for t in range(block_size):     # time dimension\n",
        "        context = xb[b, :t+1]\n",
        "        target = yb[b,t]\n",
        "        print(f\"When the input is {context.tolist()} the target is:\".ljust(65) + f\"{target}\")\n",
        "    print(\"\")"
      ]
    },
    {
      "cell_type": "code",
      "execution_count": 45,
      "metadata": {
        "colab": {
          "base_uri": "https://localhost:8080/"
        },
        "id": "nql_1ER53oCf",
        "outputId": "5de90b1b-4603-428a-f571-fe4bd3c45436"
      },
      "outputs": [],
      "source": [
        "import torch\n",
        "import torch.nn as nn\n",
        "from torch.nn import functional as F\n",
        "torch.manual_seed(1337)\n",
        "\n",
        "\n",
        "### This is the most simple model we can build for a language model\n",
        "# This is a bigram language model, where each token is directly predicted from the previous token\n",
        "# This is a very simple model, but it is a good starting point to understand the basic concepts of language modeling\n",
        "class BigramLanguageModel(nn.Module):\n",
        "\n",
        "    def __init__(self, vocab_size):\n",
        "        \"\"\"\n",
        "        Here we are simply creating an embedding table we can use for embeddings for all our of possible characters \n",
        "        \"\"\"\n",
        "        super().__init__()\n",
        "        # each token directly reads off the logits for the next token from a lookup table\n",
        "        self.token_embedding_table = nn.Embedding(vocab_size, vocab_size)\n",
        "\n",
        "    def forward(self, idx, targets=None):\n",
        "        \"\"\"\n",
        "        We are simply taking the indices and passing them into the Embedding table \n",
        "        Each token we is then only concerned about it-self, as it cannot see any context in this bigram modelling scenario \n",
        "        However, we are still in a relatively good position to predict the next token, just from knowing the current token,\n",
        "        as we know that some tokens are more likely to follow than others\n",
        "        E.g. if we look at the 'n' token, then we know that a 'g' token is more likely than a 'z' token, hence even though\n",
        "        the context is very limited, we still have some information to base our predictions on \n",
        "        We are then going to use the Negative Log Likelihood (implemented as cross entropy in torch) loss as that is the \n",
        "        standard loss function for language modeling \n",
        "        \n",
        "        In this example we have a multi-dimensional input, as we are using (B, T, C) arrays \n",
        "        For the cross entropy loss to work, we then have to view the logits and targets to be proper shaped \n",
        "        \"\"\"\n",
        "\n",
        "        # Idx and targets are both (B, T) tensor of integers\n",
        "        logits = self.token_embedding_table(idx)                        # (B,T,C)  --> (Batch_size, Time, Channels), where time is the block_size (i.e. context length) of the model \n",
        "        loss = None                                                     # As a default, the loss is None in order to allow for logits computations without computing a loss in the generate function\n",
        "\n",
        "        if targets is not None:                                         # However, if the targets are provided (if we are training the model) ... \n",
        "            B, T, C = logits.shape                                      # ... extract the dimensions of the logits (which is the embedded inputs) i.e. (4, 8, 65)\n",
        "            logits = logits.view(B*T, C)                                # ... view the logits as a 2D array of (B*T, C), i.e. (32, 65), i.e. the two \"batch\" dimensions multiplied and the embedding dim \n",
        "            targets = targets.view(B*T)                                 # ... view the targets as a 1D array of (B*T) i.e. (65)\n",
        "            loss = F.cross_entropy(logits, targets)                     # ... compute the cross entropy loss, i.e. this will measure the \"quality\" of the logits compared to the targets \n",
        "        \n",
        "        return logits, loss                                             # Return the logits and the computed loss \n",
        "\n",
        "\n",
        "    def generate(self, idx, max_new_tokens):\n",
        "        \"\"\"\n",
        "        Sample from the model using a generation function\n",
        "        idx is (B, T) array of indices in the current context\n",
        "            The idx is the current context of some characters in a batch, hence the size (B, T)\n",
        "        The job for this generate function is to generate new samples, i.e. expanding the context to (B, T+1), then (B, T+2) ... (B, T+max_new_tokens) \n",
        "            I.e. we are going to generate new characters from the model in the time dimension for the batch \n",
        "        However, notice here that this is a very simple bigram model, where we feed in the entire context history, \n",
        "        even though we for the bigram model will only use the last character in the context\n",
        "        However, we want to be able to keep this function somewhat fixed, when the model is extended, hence we just keep in feeding the entire list of context (=past characters) \n",
        "        \"\"\"\n",
        "        for _ in range(max_new_tokens):                                 # Iterating over the maximum number of tokens allowed \n",
        "            logits, loss = self(idx)                                    # Make a prediction with the model \n",
        "            logits = logits[:, -1, :]                                   # Focus only on the last time step of the logits --> the logits becomes (B, C), this is because we only focus on the final predicted character \n",
        "            probs = F.softmax(logits, dim=-1)                           # apply softmax to get probabilities --> probs are of shape (B, C)\n",
        "            idx_next = torch.multinomial(probs, num_samples=1)          # sample from the distribution --> idx_next is of shape (B, 1), because we only have a single new character prediction we predict \n",
        "            idx = torch.cat((idx, idx_next), dim=1)                     # append sampled index to the running sequence --> idx is of shape (B, T+1), as we appended the new character to the sequence \n",
        "        return idx"
      ]
    },
    {
      "cell_type": "code",
      "execution_count": 46,
      "metadata": {},
      "outputs": [
        {
          "name": "stdout",
          "output_type": "stream",
          "text": [
            "We can see that we are expecting an initial loss of about 4.1744 from an estimated initial probability of 0.0154\n",
            "Now we have logits of shape (32, 65) and the loss of 4.8786\n",
            "This means that the average probability for the predicted first character is 0.00761\n"
          ]
        }
      ],
      "source": [
        "### Initiate the simple bigram language model and try a simple forward pass \n",
        "m = BigramLanguageModel(vocab_size)\n",
        "logits, loss = m(xb, yb)\n",
        "\n",
        "### Compute the expected initial loss \n",
        "# We have a vocabulary of 65. \n",
        "# Initially we expect each of the characters to be equally likely, as the model is simply randomly initialized \n",
        "# Hence, we can compute the negative log likelihood loss of a uniform distribution \n",
        "    # The NLL loss: log(-1 * p)\n",
        "    # The probability for each of the characters are assumed to be 1/vocab_size \n",
        "initial_expected_probability = 1/65\n",
        "expected_initial_loss = -torch.log(torch.as_tensor(initial_expected_probability))\n",
        "actual_prob_for_example_character = torch.exp(-loss)\n",
        "print(f\"We can see that we are expecting an initial loss of about {expected_initial_loss:.4f} from an estimated initial probability of {initial_expected_probability:.4f}\")\n",
        "print(f\"Now we have logits of shape {tuple(logits.shape)} and the loss of {loss.item():.4f}\") \n",
        "print(f\"This means that the average probability for the predicted first character is {actual_prob_for_example_character:.5f}\")"
      ]
    },
    {
      "cell_type": "code",
      "execution_count": 47,
      "metadata": {},
      "outputs": [
        {
          "name": "stdout",
          "output_type": "stream",
          "text": [
            "\n",
            "Sr?qP-QWktXoL&jLDJgOLVz'RIoDqHdhsV&vLLxatjscMpwLERSPyao.qfzs$Ys$zF-w,;eEkzxjgCKFChs!iWW.ObzDnxA Ms$3\n"
          ]
        }
      ],
      "source": [
        "### Sample from the model \n",
        "initial_idx = torch.zeros((1,1), dtype=torch.long)                                  # As decode([0])=\\n, this seems like a reasonably, fair starting token \n",
        "max_tokens = 100                                                                    # The number of new tokens/characters we want to generate from the model \n",
        "print(decode(m.generate(idx = initial_idx, max_new_tokens=max_tokens)[0].tolist())) # Print the 100 generated characters from the untrained model "
      ]
    },
    {
      "cell_type": "code",
      "execution_count": 48,
      "metadata": {
        "id": "eTyJ8qAaDdiF"
      },
      "outputs": [],
      "source": [
        "### Create a PyTorch optimizer\n",
        "# The Adam optimizer is way more advanced than SGD, as we have been using in earlier lectures\n",
        "# This is because ADAM uses momentum for the first and second order statistics of the gradients\n",
        "# This will allow for \"varying learning rates\" for each of the parameters, as the momentum will take \n",
        "# care of \"scaling\" the learning rate appropriately \n",
        "### A typical good starting learning rate would be around 1e-4 or perhaps 1e-3, but for such a small\n",
        "# network as what we have for the bigram model here, 1e-3 is probably a bit too low, and we could \n",
        "# probably afford starting with a higher learning rate \n",
        "optimizer = torch.optim.AdamW(m.parameters(), lr=1e-3)              "
      ]
    },
    {
      "cell_type": "code",
      "execution_count": 49,
      "metadata": {},
      "outputs": [],
      "source": [
        "batch_size = 32                             # Initial batch size \n",
        "num_iterations = 10000                      # The number of iterations to train for\n",
        "loss_list = list()                          # Create a list to store the loss for each iteration "
      ]
    },
    {
      "cell_type": "code",
      "execution_count": 50,
      "metadata": {
        "colab": {
          "base_uri": "https://localhost:8080/"
        },
        "id": "Hs4kI8YdEkQj",
        "outputId": "42ded55c-2983-4d91-c528-675b2edfa849"
      },
      "outputs": [
        {
          "name": "stdout",
          "output_type": "stream",
          "text": [
            "After 10000 iterations, loss = 2.47019\n"
          ]
        }
      ],
      "source": [
        "### Define a small training loop, where we train the bigram model \n",
        "for steps in range(num_iterations): \n",
        "\n",
        "    # sample a batch of data\n",
        "    xb, yb = get_batch('train')\n",
        "\n",
        "    # evaluate the loss\n",
        "    logits, loss = m(xb, yb)\n",
        "    optimizer.zero_grad(set_to_none=True)\n",
        "    loss.backward()\n",
        "    optimizer.step() \n",
        "    loss_list.append(loss.item())\n",
        "print(f\"After {len(loss_list)} iterations, loss = {csf.moving_average(loss_list,150)[-1]:.5f}\")"
      ]
    },
    {
      "cell_type": "code",
      "execution_count": 51,
      "metadata": {},
      "outputs": [
        {
          "data": {
            "image/png": "[encoded data removed]",
            "text/plain": [
              "<Figure size 1000x300 with 1 Axes>"
            ]
          },
          "metadata": {},
          "output_type": "display_data"
        }
      ],
      "source": [
        "fig = plt.figure(figsize=(10,3))\n",
        "plt.plot(torch.linspace(start=1,end=len(loss_list), steps=len(loss_list)), loss_list, color=\"blue\", alpha=0.5, label=\"Loss\")\n",
        "plt.plot(torch.linspace(start=1,end=len(loss_list), steps=len(loss_list)), csf.moving_average(inp_array=loss_list, n=150), color=\"red\", label=\"Mov_avg loss\")\n",
        "plt.grid(True)\n",
        "plt.legend()\n",
        "plt.title(\"Training loss\")\n",
        "plt.draw()"
      ]
    },
    {
      "cell_type": "code",
      "execution_count": 52,
      "metadata": {
        "colab": {
          "base_uri": "https://localhost:8080/"
        },
        "id": "EcVIDWAZEtjN",
        "outputId": "0ad6f9d2-ad58-4498-a5f8-6f31407bb18b"
      },
      "outputs": [
        {
          "name": "stdout",
          "output_type": "stream",
          "text": [
            "\n",
            "Iyoteng h hasbe pave pirance\n",
            "Rie hicomyonthar's\n",
            "Plinseard ith henoure wounonthioneir thondy, y heltieiengerofo'dsssit ey\n",
            "KIN d pe wither vouprrouthercc.\n",
            "hathe; d!\n",
            "My hind tt hinig t ouchos tes; st yo \n"
          ]
        }
      ],
      "source": [
        "### Sample from the now trained bigram model \n",
        "initial_idx = torch.zeros((1,1), dtype=torch.long)                                  # As decode([0])=\\n, this seems like a reasonably, fair starting token \n",
        "max_tokens = 200                                                                    # The number of new tokens/characters we want to generate from the model \n",
        "print(decode(m.generate(idx = initial_idx, max_new_tokens=max_tokens)[0].tolist())) # Print the 100 generated characters from the untrained model "
      ]
    },
    {
      "cell_type": "markdown",
      "metadata": {
        "id": "XinV8nmAnmKN"
      },
      "source": [
        "## The mathematical trick in self-attention"
      ]
    },
    {
      "cell_type": "markdown",
      "metadata": {},
      "source": [
        "##### v1) Running average of features - for loop"
      ]
    },
    {
      "cell_type": "code",
      "execution_count": 53,
      "metadata": {
        "colab": {
          "base_uri": "https://localhost:8080/"
        },
        "id": "Hs_E24uRE8kr",
        "outputId": "8bf3ff5f-565e-48b8-de8e-7272706c8e12"
      },
      "outputs": [
        {
          "data": {
            "text/plain": [
              "torch.Size([4, 8, 2])"
            ]
          },
          "execution_count": 53,
          "metadata": {},
          "output_type": "execute_result"
        }
      ],
      "source": [
        "### consider the following toy example:\n",
        "\n",
        "torch.manual_seed(1337)\n",
        "\n",
        "\"\"\"\n",
        "they are currently not talking to each other, but we want to couple them in a very specific way\n",
        "e.g. the tokens in e.g. position 5 should not be talking to tokens in position 6 or 7, as they are future tokens\n",
        "but tokens in position 5 should only be talking to earlier tokens, in position 1,2,3,4 ... \n",
        "    Information is only allowed to flow from earlier context to the current time-steps \n",
        "So, what is the easiest way for tokens to communicate? \n",
        "    - The simplest weight to communicate with the previous tokens is simply to average the earlier steps.\n",
        "        - i.e. for the 5th token, the easiest way to communicate with the previous context would be to take the mean\n",
        "        of the four earlier embedded tokens, hence that could be some kind of feature vector to use \n",
        "        - However, the average feature vector is a noisy context -> we can't tell which are the important ones,\n",
        "        and we lost a lot of information by averaging all the earlier tokens \n",
        "    - For every single batch element (i.e. for every t'th element) we want to compute the feature vectors for earlier tokens\n",
        "        - This is what we are calling the bag-of-words features for the current token\n",
        "\"\"\"\n",
        "\n",
        "B,T,C = 4,8,2                       # batch, time, channels => \n",
        "x = torch.randn(B,T,C)\n",
        "x.shape"
      ]
    },
    {
      "cell_type": "code",
      "execution_count": 54,
      "metadata": {
        "id": "86NuXX0fn7ps"
      },
      "outputs": [],
      "source": [
        "# We want x[b,t] = mean_{i<=t} x[b,i]\n",
        "\"\"\"\n",
        "- Here we will compute the bag of words\n",
        "    - We run through each sample in the batch ...\n",
        "        - For each sample:\n",
        "            - we extract the previous tokens => into a tensor of shape (t, C), where t is the point\n",
        "                        in time we have reached and C is the number of channels (embedding dimension) \n",
        "            - we take the mean of those previous tokens along the time dimension and\n",
        "                        add that to our bag-of-words feature array => this is an array of shape (C)\n",
        "\"\"\"\n",
        "xbow = torch.zeros((B,T,C))\n",
        "for b in range(B):\n",
        "    for t in range(T):\n",
        "        xprev = x[b,:t+1] \n",
        "        xbow[b,t] = torch.mean(xprev, 0)"
      ]
    },
    {
      "cell_type": "code",
      "execution_count": 55,
      "metadata": {},
      "outputs": [
        {
          "name": "stdout",
          "output_type": "stream",
          "text": [
            "The first sample of x:\n",
            "tensor([[ 0.1808, -0.0700],\n",
            "        [-0.3596, -0.9152],\n",
            "        [ 0.6258,  0.0255],\n",
            "        [ 0.9545,  0.0643],\n",
            "        [ 0.3612,  1.1679],\n",
            "        [-1.3499, -0.5102],\n",
            "        [ 0.2360, -0.2398],\n",
            "        [-0.9211,  1.5433]])\n",
            "\n",
            "The first sample of xbow:\n",
            "tensor([[ 0.1808, -0.0700],\n",
            "        [-0.0894, -0.4926],\n",
            "        [ 0.1490, -0.3199],\n",
            "        [ 0.3504, -0.2238],\n",
            "        [ 0.3525,  0.0545],\n",
            "        [ 0.0688, -0.0396],\n",
            "        [ 0.0927, -0.0682],\n",
            "        [-0.0341,  0.1332]])\n"
          ]
        }
      ],
      "source": [
        "### Print the x array and the x_bow tensor array in order to inspect them and visualize what we just did\n",
        "print(f\"The first sample of x:\\n{x[0]}\\n\\nThe first sample of xbow:\\n{xbow[0]}\")\n",
        "\n",
        "\"\"\"\n",
        "Notice that the first rows of the two tensors are equal [0.1808, -0.0700].\n",
        "    Because at the first row (i.e. first time step) we have only one context token to compute the mean over \n",
        "From the second row and on the two tensors differ\n",
        "    As now the xbow becomes a rolling mean of the previous inputs of x \n",
        "\"\"\";"
      ]
    },
    {
      "cell_type": "markdown",
      "metadata": {},
      "source": [
        "##### v2) Running average of features - matrix multiplication with summing normalization"
      ]
    },
    {
      "cell_type": "code",
      "execution_count": 56,
      "metadata": {},
      "outputs": [
        {
          "name": "stdout",
          "output_type": "stream",
          "text": [
            "a:\n",
            "tensor([[1.0000, 0.0000, 0.0000],\n",
            "        [0.5000, 0.5000, 0.0000],\n",
            "        [0.3333, 0.3333, 0.3333]])\n",
            "-----------------------\n",
            "b:\n",
            "tensor([[2., 7.],\n",
            "        [6., 4.],\n",
            "        [6., 5.]])\n",
            "-----------------------\n",
            "c:\n",
            "tensor([[2.0000, 7.0000],\n",
            "        [4.0000, 5.5000],\n",
            "        [4.6667, 5.3333]])\n"
          ]
        }
      ],
      "source": [
        "### toy example illustrating how matrix multiplication can be used for a \"weighted aggregation\"\n",
        "# This is a toy example to use to get used to what self-attention is and how it works \n",
        "\"\"\"\n",
        "Notice here that we create the three tensor matrices a, b, c\n",
        "    We run through three examples:\n",
        "        1) Triangular = False, normalization = False \n",
        "        2) Triangular = True, normalization = False\n",
        "        3) Triangular = True, normalization = True \n",
        "    In each example we create the a (which may or may not be edited) and b matrices.\n",
        "    Then we form c by taking the dot product between a and b.\n",
        "        The values of c is then what's interesting to us here \n",
        "    *** Remember the dot product m*n is computed by multiplying each element in the columns of the first matrix by each of the elements in the rows of the second matrix *** \n",
        "Example 1)\n",
        "    - If a is all ones => the resulting c matrix will be equal in each row:\n",
        "        - torch.equal(c[0,:], c[1,:]) and torch.equal(c[0,:], c[2,:]) \n",
        "        >>> True \n",
        "Example 2)\n",
        "    - If a is a lower triangular matrix of all ones => the resulting c matrix will be the cumulative sum of the b matrix \n",
        "        - i.e. the first row of c will be identical to the first row of b, as the cumulative sum of a single row is just that row\n",
        "        - the second row of c is then equal to the first and second row of b summed together \n",
        "        - the third row of c is then equal to all the rows of example 1), as it is the sum of all three rows of b\n",
        "Example 3)\n",
        "    - If a is a lower triangular matrix of all ones, and then it gets normalized to make the sum of each row '1', the resulting c matrix will be the moving average of b\n",
        "        - i.e. the first row of c will be identical to the first row of b, as the moving average of a single row is just that row\n",
        "        - the second row of c is then equal to the average of the first and second row of b \n",
        "        - the third row of c is then equal to the average of the first three rows of b \n",
        "\"\"\"\n",
        "\n",
        "\n",
        "triangular = True \n",
        "normalization = True \n",
        "\n",
        "\n",
        "### Running our experiments \n",
        "torch.manual_seed(42)\n",
        "a = torch.tril(torch.ones(3, 3)) if triangular else torch.ones(3, 3) \n",
        "a = a / torch.sum(a, 1, keepdim=True) if normalization else a \n",
        "b = torch.randint(0,10,(3,2)).float() \n",
        "c = a @ b \n",
        "print(f\"a:\\n{a}\\n{'-'*23}\\nb:\\n{b}\\n{'-'*23}\\nc:\\n{c}\") "
      ]
    },
    {
      "cell_type": "code",
      "execution_count": 57,
      "metadata": {
        "colab": {
          "base_uri": "https://localhost:8080/"
        },
        "id": "yhdOAd6-wXkZ",
        "outputId": "eaf6ab61-dff1-4bb7-e623-47f692bad5f9"
      },
      "outputs": [
        {
          "name": "stdout",
          "output_type": "stream",
          "text": [
            "The xbow and xbow2 are equal\n"
          ]
        }
      ],
      "source": [
        "### version 2: using matrix multiply for a weighted aggregation\n",
        "# Hence, now we are doing weighted sums, as with the for loop before,\n",
        "# we are just doing it using matrix multiplication, which is way more efficient \n",
        "wei = torch.tril(torch.ones(T, T))              # torch.tril will give us the lower triangular part of the torch.ones() tensor (earlier denoted a)\n",
        "wei = wei / wei.sum(1, keepdim=True)            # Normalize the weight matrix (earlier denoted b)\n",
        "xbow2 = wei @ x                                 # (B, T, T) @ (B, T, C) ----> (B, T, C), because, broadcasting happens along the batch dimension (earlier denoted c)\n",
        "\n",
        "print(f\"The xbow and xbow2 are {'' if torch.allclose(xbow, xbow2, rtol=1e-15, atol=1e-6) else 'NOT '}equal\")"
      ]
    },
    {
      "cell_type": "markdown",
      "metadata": {},
      "source": [
        "##### v3) Running average of features - matrix multiplication with softmax normalization"
      ]
    },
    {
      "cell_type": "code",
      "execution_count": 58,
      "metadata": {
        "colab": {
          "base_uri": "https://localhost:8080/"
        },
        "id": "wOURrfG-ysoL",
        "outputId": "080b500d-8110-4602-fcef-7d6f2ebfc6bc"
      },
      "outputs": [
        {
          "name": "stdout",
          "output_type": "stream",
          "text": [
            "The xbow and xbow3 are equal\n"
          ]
        }
      ],
      "source": [
        "### version 3: use Softmax\n",
        "# Now we are going to use the weighted sum of features as in version 2\n",
        "# However, now we are going to use a softmax along the rows in order to assure that \n",
        "# the sum of each row will be 1\n",
        "# Hence, using the softmax is equal to what was done before in version 2\n",
        "# as the weight matrix used here for example 3 will be equal to what was done in version 2\n",
        "\n",
        "# The weight matrix here will tell us how much each of the tokens from the past will contribute to the value of the new prediction\n",
        "# Setting some values to -inf before the softmax will make sure that the current tokens will not be able to communicate with future tokens\n",
        "# This trick with taking some average of the earlier inputs will then allow for tokens to interact with earlier inputs\n",
        "# Later (the self-attention trick) will allow us to make weighted averages of the earlier tokens\n",
        "    # Hence, with a weigted average, we can interprete it as the tokens will tell which earlier tokens are important, and which are not\n",
        "    # Thus, the important earlier tokens will be attended to (i.e. getting a high value) where as the non-important tokens will get a low value \n",
        "# Remember, in a Transformer, we will have different heads to compute attention, similar to having different kernels in each layer in a CNN\n",
        "    # These different heads will attend to different parts of the input, i.e. find different input parts interesting \n",
        "\n",
        "tril = torch.tril(torch.ones(T, T))                                                                                                         # Create a lower triangular matrix of shape (T, T)\n",
        "wei = torch.zeros((T,T))                                                                                                                    # Initiate the weight matrix as all zeros of the same shape \n",
        "wei = wei.masked_fill(tril == 0, float('-inf'))                                                                                             # Read all the indices where the lower triangular matrix is 0 and fill those with -inf values in the weights matrix\n",
        "wei = F.softmax(wei, dim=-1)                                                                                                                # Compute a softmax for each row. The filled -inf values turns to 0 in the softmax (as exp(-inf)=0). Hence this is equal to what was done before in example 2.\n",
        "xbow3 = wei @ x                                                                                                                             # Compute the normalized bag of features for the x input using the softmax-normalized weight matrix \n",
        "\n",
        "print(f\"The xbow and xbow3 are {'' if torch.allclose(xbow, xbow3, rtol=1e-15, atol=1e-6) else 'NOT '}equal\")"
      ]
    },
    {
      "cell_type": "markdown",
      "metadata": {},
      "source": [
        "##### v4) BoW features - matrix multiplication turns to self-attention"
      ]
    },
    {
      "cell_type": "code",
      "execution_count": 59,
      "metadata": {
        "colab": {
          "base_uri": "https://localhost:8080/"
        },
        "id": "EDarxEWIRMKq",
        "outputId": "07b587dd-a91c-4bb0-d7f1-e247cd5dacb5"
      },
      "outputs": [
        {
          "name": "stdout",
          "output_type": "stream",
          "text": [
            "This is the weight matrix of shape (4, 8, 8) with the first parameters\n",
            "tensor([[1.0000, 0.0000, 0.0000, 0.0000, 0.0000, 0.0000, 0.0000, 0.0000],\n",
            "        [0.1574, 0.8426, 0.0000, 0.0000, 0.0000, 0.0000, 0.0000, 0.0000],\n",
            "        [0.2088, 0.1646, 0.6266, 0.0000, 0.0000, 0.0000, 0.0000, 0.0000],\n",
            "        [0.5792, 0.1187, 0.1889, 0.1131, 0.0000, 0.0000, 0.0000, 0.0000],\n",
            "        [0.0294, 0.1052, 0.0469, 0.0276, 0.7909, 0.0000, 0.0000, 0.0000],\n",
            "        [0.0176, 0.2689, 0.0215, 0.0089, 0.6812, 0.0019, 0.0000, 0.0000],\n",
            "        [0.1691, 0.4066, 0.0438, 0.0416, 0.1048, 0.2012, 0.0329, 0.0000],\n",
            "        [0.0210, 0.0843, 0.0555, 0.2297, 0.0573, 0.0709, 0.2423, 0.2391]],\n",
            "       grad_fn=<SelectBackward0>)\n",
            "\n",
            "This is the output of shape (4, 8, 16) of the attention head with the selected parameters:\n",
            "tensor([[-0.1571,  0.8801,  0.1615, -0.7824, -0.1429,  0.7468,  0.1007, -0.5239,\n",
            "         -0.8873,  0.1907,  0.1762, -0.5943, -0.4812, -0.4860,  0.2862,  0.5710],\n",
            "        [ 0.6764, -0.5477, -0.2478,  0.3143, -0.1280, -0.2952, -0.4296, -0.1089,\n",
            "         -0.0493,  0.7268,  0.7130, -0.1164,  0.3266,  0.3431, -0.0710,  1.2716],\n",
            "        [ 0.4823, -0.1069, -0.4055,  0.1770,  0.1581, -0.1697,  0.0162,  0.0215,\n",
            "         -0.2490, -0.3773,  0.2787,  0.1629, -0.2895, -0.0676, -0.1416,  1.2194],\n",
            "        [ 0.1971,  0.2856, -0.1303, -0.2655,  0.0668,  0.1954,  0.0281, -0.2451,\n",
            "         -0.4647,  0.0693,  0.1528, -0.2032, -0.2479, -0.1621,  0.1947,  0.7678],\n",
            "        [ 0.2510,  0.7346,  0.5939,  0.2516,  0.2606,  0.7582,  0.5595,  0.3539,\n",
            "         -0.5934, -1.0807, -0.3111, -0.2781, -0.9054,  0.1318, -0.1382,  0.6371],\n",
            "        [ 0.3428,  0.4960,  0.4725,  0.3028,  0.1844,  0.5814,  0.3824,  0.2952,\n",
            "         -0.4897, -0.7705, -0.1172, -0.2541, -0.6892,  0.1979, -0.1513,  0.7666],\n",
            "        [ 0.1866, -0.0964, -0.1430,  0.3059,  0.0834, -0.0069, -0.2047, -0.1535,\n",
            "         -0.0762,  0.3269,  0.3090,  0.0766,  0.0992,  0.1656,  0.1975,  0.7625],\n",
            "        [ 0.1301, -0.0328, -0.4965,  0.2865,  0.2704, -0.2636, -0.0738,  0.3786,\n",
            "          0.0746,  0.0338,  0.0147,  0.3194,  0.2993, -0.1653, -0.0386,  0.3375]],\n",
            "       grad_fn=<SelectBackward0>)\n"
          ]
        }
      ],
      "source": [
        "### version 4: self-attention!\n",
        "# This is self-attention for a single attention-head!\n",
        "\"\"\"\n",
        "Every single token will emit two vectors => a query (what am I looking for) and a key (what do I contain) \n",
        "    We will then find similarities by taking the dot product between the query and the key \n",
        "Hence, to begin with, we have to create the key and the value\n",
        "    - This is done by multiplying the input with a separate layer, one for the key, one for the query \n",
        "    - Our input is of shape (4, 8, 32). The layers are of shape (16, 32). Hence --> out = x @ w.T \n",
        "Now, the communication starts --> now we can start to find affinities (=likings) between keys and queries\n",
        "    - We will take the dot product between the keys and the queries \n",
        "        However, notice the shapes of the keys (4,8,16) and the queries (4,8,16)\n",
        "        As the first one is the batch dimension, which we don't want to multiply over, we need to transpose the keys ...\n",
        "        Hence, we transpose the keys from (4,8,16) into (4,16,8)\n",
        "        Then we can compute the dot product between the queries and the keys \n",
        "    - Hence, we can interprete this as the weight matrix and then do as before out = wei @ x\n",
        "        This will create an output of both positive and negative values \n",
        "            This we can interprete as the affinities between all the tokens (nodes)\n",
        "            However, we don't like negative affinities, hence we normalize and use the softmax to get numbers between 0 and 1, that sum to 1 \n",
        "    - However, we don't want any node/token to be able to communicate with future tokens (tokens with higher timesteps)\n",
        "        Hence, if we use the masking future information/tokens are washed out\n",
        "Now we have the attention weights for the inputs\n",
        "    - Though, we are not quite done, as we still need the final layer of the attention head --> the values \n",
        "        The values (v tensor) are what is returned to the inputs, if the queries and keys are matched \n",
        "Attention is a communication mechanism - we have a number of connections between each of the nodes corresponding to the tokens \n",
        "    - In this scenario we have a block size of 8, which means we always have 8 nodes\n",
        "        The first node will only point to itself\n",
        "        The second node points to itself and the first node \n",
        "        The third node points to itself, the second and the first node \n",
        "        ....\n",
        "        The eighth node points to all the other nodes in our context \n",
        "There is NO communication across the batch dimension\n",
        "    - No two samples in the batch are talking to each other, there are only communication across the tokens in the input sequence in each batch \n",
        "At the moment, as we have implemented it now, the tokens cannot talk to future tokens \n",
        "    - In a Transformer decoder block, where we might want to perform text generation by always predicting the next token, we will have to mask future tokens in our training sequence \n",
        "    - However, it doesn't necessarily has to be like that.\n",
        "        For encoder based applications we will remove the masking ---> remove: wei = wei.masked_fill(tril == 0, float('-inf'))\n",
        "            If we are doing sentiment analysis, we may want to make all tokens in the sentence able to talk to each other across the time dimension\n",
        "            This we would do in order for the model to come up with a single sentiment score for the entire sequence \n",
        "    - However, we can remove the masking, and then everything will just run and work fine\n",
        "        The attention mechanishm itself doens't care whether or not it has been masked ... \n",
        "Notice here that we have no notion of positional space ---> hence, by default the tokens/nodes have no notion of where they are located in space\n",
        "    This is different from e.g. convolution, where the very definition of a filter sliding across an image will incorporate the positional knowledge\n",
        "    - Hence, in order to gain positional knowledge we have to make positional embeddings as well\n",
        "        We will usually simply make these positional embeddings learnable as well, like the token embeddings\n",
        "            token_embedding_table = nn.Embedding(vocab_size, n_embd)\n",
        "            position_embedding_table = nn.Embedding(block_size, n_embd)\n",
        "            x = token_embedding_table + position_embedding_table\n",
        "        Hence, the embeddings for the tokens and the positions will start of by being random, but will be learnable through training \n",
        "Multiple kinds of attention:\n",
        "    - Self-Attention:\n",
        "        Self attention simply means that the keys, queries and values arrive from the same source\n",
        "        Hence, the inputs are attending to itself \n",
        "    - Cross-Attention:\n",
        "        In encoder-decoder transformers we can have a case where the queries are from the inputs, where the keys and values are from a separate source\n",
        "        Cross-attention happens when we have multiple sources where we want to incorporate some information from into our system\n",
        "            These other sources might be from other encoder blocks, where their outputs arrive into a decoder input \n",
        "Scaled dot product attention:\n",
        "    - If we look at the Attention Is All You Need paper we can see that the attention equation is scaled by the sqrt(dk)\n",
        "        This is for a similar reason as why weight initialization for neural networks are important\n",
        "    - If we don't scale the attention weights we can get a super high variance in our \"wei\" matrix \n",
        "        As the keys and queries can be unit variance, the variance of their dot product can be pretty high\n",
        "    - The problem is that if the wei matrix takes on too high numbers, the softmax will converge to a onehot encoding \n",
        "\"\"\"\n",
        "\n",
        "\n",
        "\n",
        "use_triangular_matrix = True                    # If True we use a decoder (masked future), if False we use an encoder \n",
        "use_softmax = True                              # If True, normalize the weight matrix along the rows \n",
        "use_value_layer = True                          # If true, use a Value layer to compute the outputs \n",
        "\n",
        "\n",
        "torch.manual_seed(1337)\n",
        "B,T,C = 4,8,32                                  # batch, time, channels\n",
        "x = torch.randn(B,T,C)                          # Create an input of random numbers \n",
        "\n",
        "# let's see a single Head perform self-attention\n",
        "head_size = 16                                  # The number of elements in the key, query, value tokens \n",
        "key = nn.Linear(C, head_size, bias=False)       # key: \"what do the token contain\" \n",
        "query = nn.Linear(C, head_size, bias=False)     # query: \"what do the token want\"\n",
        "value = nn.Linear(C, head_size, bias=False)     # value: \"what do the token receive\"\n",
        "k = key(x)                                      # (B, T, head_size)   --->   nn.Linear()(x) ==> x @ w --->  multiplying the input of...\n",
        "q = query(x)                                    # (B, T, head_size)   --->   ... shape (4,8,32) with the linear layer of shape (16, 30) ...\n",
        "v = value(x)                                    # (B, T, head_size)   --->   ... which gets transposed to (32, 16), yields a (4,8,16) \n",
        "k_transposed = k.transpose(-2, -1)              # Transpose from shape (4,8,16) --> (4,16,8).                                                               Remember that torch.transpose(source_dim, target_dim), hence we take the -2dim and swap with the -1 dim \n",
        "wei =  q @ k_transposed                         # (B, T, 16) @ (B, 16, T) ---> (B, T, T)\n",
        "\n",
        "### Now comes the trick, weighted averages of the inputs \n",
        "if use_triangular_matrix: \n",
        "    wei = wei.masked_fill(torch.tril(torch.ones(T, T))  == 0, float('-inf'))\n",
        "if use_softmax:\n",
        "    wei = F.softmax(wei, dim=-1)\n",
        "\n",
        "### Compute the output from either the orig input or the values \n",
        "out = wei @ (v if use_value_layer else x)\n",
        "\n",
        "print(f\"This is the weight matrix of shape {tuple(wei.shape)} with the first parameters\\n{wei[0]}\")\n",
        "print(f\"\\nThis is the output of shape {tuple(out.shape)} of the attention head with the selected parameters:\\n{out[0,]}\")"
      ]
    },
    {
      "cell_type": "markdown",
      "metadata": {},
      "source": [
        "##### Scaling the weight matrix with sqrt(dk) "
      ]
    },
    {
      "cell_type": "code",
      "execution_count": 60,
      "metadata": {},
      "outputs": [
        {
          "name": "stdout",
          "output_type": "stream",
          "text": [
            "Without scaling the variance of the weights matrix is 17.801.\n",
            "With scaling the variance of the weights matrix is 1.113.\n"
          ]
        }
      ],
      "source": [
        "### The reason why we need to scale the weights matrix before the softmax \n",
        "torch.manual_seed(4)\n",
        "k = torch.randn(B,T,head_size)\n",
        "q = torch.randn(B,T,head_size)\n",
        "wei = q @ k.transpose(-2,-1)\n",
        "wei_scaled = wei * head_size**-0.5\n",
        "print(f\"Without scaling the variance of the weights matrix is {wei.var():.3f}.\")\n",
        "print(f\"With scaling the variance of the weights matrix is {wei_scaled.var():.3f}.\")"
      ]
    },
    {
      "cell_type": "markdown",
      "metadata": {},
      "source": [
        "##### Scaled dot product attention"
      ]
    },
    {
      "cell_type": "code",
      "execution_count": 28,
      "metadata": {},
      "outputs": [
        {
          "name": "stdout",
          "output_type": "stream",
          "text": [
            "This is the output of the torch.softmax(test_tensor):    tensor([0.1925, 0.1426, 0.2351, 0.1426, 0.2872])\n",
            "This is the output of the torch.softmax(test_tensor)*8:  tensor([0.0326, 0.0030, 0.1615, 0.0030, 0.8000])\n"
          ]
        }
      ],
      "source": [
        "### The softmax will converge towards a one hot encoding \n",
        "# Especially at initialization we don't want the softmax outputs to be too peaky/sharp, as that would mean \n",
        "# that we would have only one node contributing to the attention mechanism, as a onehot encoded output\n",
        "# from the softmax would be equal to plugging out a single node of the weight matrix \n",
        "\n",
        "test_tensor = torch.tensor([0.1, -0.2, 0.3, -0.2, 0.5])\n",
        "test_scale = 8 \n",
        "print(f\"This is the output of the torch.softmax(test_tensor):\".ljust(57) + f\"{torch.softmax(test_tensor, dim=-1)}\")\n",
        "print(f\"This is the output of the torch.softmax(test_tensor)*{test_scale}:\".ljust(57) + f\"{torch.softmax(test_tensor*test_scale, dim=-1)}\")"
      ]
    },
    {
      "cell_type": "markdown",
      "metadata": {
        "id": "M5CvobiQ0pLr"
      },
      "source": [
        "Notes:\n",
        "- Attention is a **communication mechanism**. Can be seen as nodes in a directed graph looking at each other and aggregating information with a weighted sum from all nodes that point to them, with data-dependent weights.\n",
        "- There is no notion of space. Attention simply acts over a set of vectors. This is why we need to positionally encode tokens.\n",
        "- Each example across batch dimension is of course processed completely independently and never \"talk\" to each other\n",
        "- In an \"encoder\" attention block just delete the single line that does masking with `tril`, allowing all tokens to communicate. This block here is called a \"decoder\" attention block because it has triangular masking, and is usually used in autoregressive settings, like language modeling.\n",
        "- \"self-attention\" just means that the keys and values are produced from the same source as queries. In \"cross-attention\", the queries still get produced from x, but the keys and values come from some other, external source (e.g. an encoder module)\n",
        "- \"Scaled\" attention additional divides `wei` by 1/sqrt(head_size). This makes it so when input Q,K are unit variance, wei will be unit variance too and Softmax will stay diffuse and not saturate too much. "
      ]
    },
    {
      "cell_type": "markdown",
      "metadata": {},
      "source": [
        "## Implementing the Language model"
      ]
    },
    {
      "cell_type": "code",
      "execution_count": null,
      "metadata": {
        "colab": {
          "base_uri": "https://localhost:8080/"
        },
        "id": "2Num7sX9CKOH",
        "outputId": "929ceb78-a639-41d6-aac7-12997b5c93f0"
      },
      "outputs": [],
      "source": [
        "class LayerNorm1d: # (used to be BatchNorm1d)\n",
        "\n",
        "  def __init__(self, dim, eps=1e-5, momentum=0.1):\n",
        "    self.eps = eps\n",
        "    self.gamma = torch.ones(dim)\n",
        "    self.beta = torch.zeros(dim)\n",
        "\n",
        "  def __call__(self, x):\n",
        "    # calculate the forward pass\n",
        "    xmean = x.mean(1, keepdim=True) # batch mean\n",
        "    xvar = x.var(1, keepdim=True) # batch variance\n",
        "    xhat = (x - xmean) / torch.sqrt(xvar + self.eps) # normalize to unit variance\n",
        "    self.out = self.gamma * xhat + self.beta\n",
        "    return self.out\n",
        "\n",
        "  def parameters(self):\n",
        "    return [self.gamma, self.beta]\n",
        "\n",
        "torch.manual_seed(1337)\n",
        "module = LayerNorm1d(100)\n",
        "x = torch.randn(32, 100) # batch size 32 of 100-dimensional vectors\n",
        "x = module(x)\n",
        "x.shape"
      ]
    },
    {
      "cell_type": "code",
      "execution_count": null,
      "metadata": {
        "colab": {
          "base_uri": "https://localhost:8080/"
        },
        "id": "633T2cmnW1uk",
        "outputId": "7720fa58-0478-4e8a-86a7-502d4cce9443"
      },
      "outputs": [],
      "source": [
        "x[:,0].mean(), x[:,0].std() # mean,std of one feature across all batch inputs"
      ]
    },
    {
      "cell_type": "code",
      "execution_count": null,
      "metadata": {
        "colab": {
          "base_uri": "https://localhost:8080/"
        },
        "id": "LN9cK9BoXCYb",
        "outputId": "6368ece0-600e-417d-8a91-7c1e5d750ba8"
      },
      "outputs": [],
      "source": [
        "x[0,:].mean(), x[0,:].std() # mean,std of a single input from the batch, of its features"
      ]
    },
    {
      "cell_type": "code",
      "execution_count": null,
      "metadata": {
        "id": "dRJH6wM_XFfU"
      },
      "outputs": [],
      "source": [
        "# French to English translation example:\n",
        "\n",
        "# <--------- ENCODE ------------------><--------------- DECODE ----------------->\n",
        "# les réseaux de neurones sont géniaux! <START> neural networks are awesome!<END>\n",
        "\n"
      ]
    },
    {
      "cell_type": "markdown",
      "metadata": {
        "id": "ZcvKeBXoZFOY"
      },
      "source": [
        "### Full finished code, for reference\n",
        "\n",
        "You may want to refer directly to the git repo instead though."
      ]
    },
    {
      "cell_type": "code",
      "execution_count": null,
      "metadata": {
        "colab": {
          "base_uri": "https://localhost:8080/"
        },
        "id": "hoelkOrFY8bN",
        "outputId": "961304cd-e379-40d4-dd56-8de0b91d2861"
      },
      "outputs": [],
      "source": [
        "import torch\n",
        "import torch.nn as nn\n",
        "from torch.nn import functional as F\n",
        "\n",
        "# hyperparameters\n",
        "batch_size = 16 # how many independent sequences will we process in parallel?\n",
        "block_size = 32 # what is the maximum context length for predictions?\n",
        "max_iters = 5000\n",
        "eval_interval = 100\n",
        "learning_rate = 1e-3\n",
        "device = 'cuda' if torch.cuda.is_available() else 'cpu'\n",
        "eval_iters = 200\n",
        "n_embd = 64\n",
        "n_head = 4\n",
        "n_layer = 4\n",
        "dropout = 0.0\n",
        "# ------------\n",
        "\n",
        "torch.manual_seed(1337)\n",
        "\n",
        "# wget https://raw.githubusercontent.com/karpathy/char-rnn/master/data/tinyshakespeare/input.txt\n",
        "with open('input.txt', 'r', encoding='utf-8') as f:\n",
        "    shakespeare_text = f.read()\n",
        "\n",
        "# here are all the unique characters that occur in this text\n",
        "chars = sorted(list(set(shakespeare_text)))\n",
        "vocab_size = len(chars)\n",
        "# create a mapping from characters to integers\n",
        "stoi = { ch:i for i,ch in enumerate(chars) }\n",
        "itos = { i:ch for i,ch in enumerate(chars) }\n",
        "encode = lambda s: [stoi[c] for c in s] # encoder: take a string, output a list of integers\n",
        "decode = lambda l: ''.join([itos[i] for i in l]) # decoder: take a list of integers, output a string\n",
        "\n",
        "# Train and test splits\n",
        "data = torch.tensor(encode(shakespeare_text), dtype=torch.long)\n",
        "n = int(0.9*len(data)) # first 90% will be train, rest val\n",
        "train_data = data[:n]\n",
        "val_data = data[n:]\n",
        "\n",
        "# data loading\n",
        "def get_batch(split):\n",
        "    # generate a small batch of data of inputs x and targets y\n",
        "    data = train_data if split == 'train' else val_data\n",
        "    ix = torch.randint(len(data) - block_size, (batch_size,))\n",
        "    x = torch.stack([data[i:i+block_size] for i in ix])\n",
        "    y = torch.stack([data[i+1:i+block_size+1] for i in ix])\n",
        "    x, y = x.to(device), y.to(device)\n",
        "    return x, y\n",
        "\n",
        "@torch.no_grad()\n",
        "def estimate_loss():\n",
        "    out = {}\n",
        "    model.eval()\n",
        "    for split in ['train', 'val']:\n",
        "        losses = torch.zeros(eval_iters)\n",
        "        for k in range(eval_iters):\n",
        "            X, Y = get_batch(split)\n",
        "            logits, loss = model(X, Y)\n",
        "            losses[k] = loss.item()\n",
        "        out[split] = losses.mean()\n",
        "    model.train()\n",
        "    return out\n",
        "\n",
        "class Head(nn.Module):\n",
        "    \"\"\" one head of self-attention \"\"\"\n",
        "\n",
        "    def __init__(self, head_size):\n",
        "        super().__init__()\n",
        "        self.key = nn.Linear(n_embd, head_size, bias=False)\n",
        "        self.query = nn.Linear(n_embd, head_size, bias=False)\n",
        "        self.value = nn.Linear(n_embd, head_size, bias=False)\n",
        "        self.register_buffer('tril', torch.tril(torch.ones(block_size, block_size)))            # Not a weight parameter, hence in PyTorch we need to \"register_buffer\" \n",
        "\n",
        "        self.dropout = nn.Dropout(dropout)\n",
        "\n",
        "    def forward(self, x):\n",
        "        B,T,C = x.shape\n",
        "        k = self.key(x)   # (B,T,C)\n",
        "        q = self.query(x) # (B,T,C)\n",
        "        # compute attention scores (\"affinities\")\n",
        "        wei = q @ k.transpose(-2,-1) * C**-0.5 # (B, T, C) @ (B, C, T) -> (B, T, T)\n",
        "        wei = wei.masked_fill(self.tril[:T, :T] == 0, float('-inf')) # (B, T, T)\n",
        "        wei = F.softmax(wei, dim=-1) # (B, T, T)\n",
        "        wei = self.dropout(wei)\n",
        "        # perform the weighted aggregation of the values\n",
        "        v = self.value(x) # (B,T,C)\n",
        "        out = wei @ v # (B, T, T) @ (B, T, C) -> (B, T, C)\n",
        "        return out\n",
        "\n",
        "class MultiHeadAttention(nn.Module):\n",
        "    \"\"\" multiple heads of self-attention in parallel \"\"\"\n",
        "\n",
        "    def __init__(self, num_heads, head_size):\n",
        "        super().__init__()\n",
        "        self.heads = nn.ModuleList([Head(head_size) for _ in range(num_heads)])\n",
        "        self.proj = nn.Linear(n_embd, n_embd)\n",
        "        self.dropout = nn.Dropout(dropout)\n",
        "\n",
        "    def forward(self, x):\n",
        "        out = torch.cat([h(x) for h in self.heads], dim=-1)\n",
        "        out = self.dropout(self.proj(out))\n",
        "        return out\n",
        "\n",
        "class FeedFoward(nn.Module):\n",
        "    \"\"\" a simple linear layer followed by a non-linearity \"\"\"\n",
        "\n",
        "    def __init__(self, n_embd):\n",
        "        super().__init__()\n",
        "        self.net = nn.Sequential(\n",
        "            nn.Linear(n_embd, 4 * n_embd),\n",
        "            nn.ReLU(),\n",
        "            nn.Linear(4 * n_embd, n_embd),\n",
        "            nn.Dropout(dropout),\n",
        "        )\n",
        "\n",
        "    def forward(self, x):\n",
        "        return self.net(x)\n",
        "\n",
        "class Block(nn.Module):\n",
        "    \"\"\" Transformer block: communication followed by computation \"\"\"\n",
        "\n",
        "    def __init__(self, n_embd, n_head):\n",
        "        # n_embd: embedding dimension, n_head: the number of heads we'd like\n",
        "        super().__init__()\n",
        "        head_size = n_embd // n_head\n",
        "        self.sa = MultiHeadAttention(n_head, head_size)\n",
        "        self.ffwd = FeedFoward(n_embd)\n",
        "        self.ln1 = nn.LayerNorm(n_embd)\n",
        "        self.ln2 = nn.LayerNorm(n_embd)\n",
        "\n",
        "    def forward(self, x):\n",
        "        x = x + self.sa(self.ln1(x))\n",
        "        x = x + self.ffwd(self.ln2(x))\n",
        "        return x\n",
        "\n",
        "# super simple bigram model\n",
        "class BigramLanguageModel(nn.Module):\n",
        "\n",
        "    def __init__(self):\n",
        "        super().__init__()\n",
        "        # each token directly reads off the logits for the next token from a lookup table\n",
        "        self.token_embedding_table = nn.Embedding(vocab_size, n_embd)\n",
        "        self.position_embedding_table = nn.Embedding(block_size, n_embd)\n",
        "        self.blocks = nn.Sequential(*[Block(n_embd, n_head=n_head) for _ in range(n_layer)])\n",
        "        self.ln_f = nn.LayerNorm(n_embd) # final layer norm\n",
        "        self.lm_head = nn.Linear(n_embd, vocab_size)\n",
        "\n",
        "    def forward(self, idx, targets=None):\n",
        "        B, T = idx.shape\n",
        "\n",
        "        # idx and targets are both (B,T) tensor of integers\n",
        "        tok_emb = self.token_embedding_table(idx) # (B,T,C)\n",
        "        pos_emb = self.position_embedding_table(torch.arange(T, device=device)) # (T,C)\n",
        "        x = tok_emb + pos_emb # (B,T,C)\n",
        "        x = self.blocks(x) # (B,T,C)\n",
        "        x = self.ln_f(x) # (B,T,C)\n",
        "        logits = self.lm_head(x) # (B,T,vocab_size)\n",
        "\n",
        "        if targets is None:\n",
        "            loss = None\n",
        "        else:\n",
        "            B, T, C = logits.shape\n",
        "            logits = logits.view(B*T, C)\n",
        "            targets = targets.view(B*T)\n",
        "            loss = F.cross_entropy(logits, targets)\n",
        "\n",
        "        return logits, loss\n",
        "\n",
        "    def generate(self, idx, max_new_tokens):\n",
        "        # idx is (B, T) array of indices in the current context\n",
        "        for _ in range(max_new_tokens):\n",
        "            # crop idx to the last block_size tokens\n",
        "            idx_cond = idx[:, -block_size:]\n",
        "            # get the predictions\n",
        "            logits, loss = self(idx_cond)\n",
        "            # focus only on the last time step\n",
        "            logits = logits[:, -1, :] # becomes (B, C)\n",
        "            # apply softmax to get probabilities\n",
        "            probs = F.softmax(logits, dim=-1) # (B, C)\n",
        "            # sample from the distribution\n",
        "            idx_next = torch.multinomial(probs, num_samples=1) # (B, 1)\n",
        "            # append sampled index to the running sequence\n",
        "            idx = torch.cat((idx, idx_next), dim=1) # (B, T+1)\n",
        "        return idx\n",
        "\n",
        "model = BigramLanguageModel()\n",
        "m = model.to(device)\n",
        "# print the number of parameters in the model\n",
        "print(sum(p.numel() for p in m.parameters())/1e6, 'M parameters')\n",
        "\n",
        "# create a PyTorch optimizer\n",
        "optimizer = torch.optim.AdamW(model.parameters(), lr=learning_rate)\n",
        "\n",
        "for iter in range(max_iters):\n",
        "\n",
        "    # every once in a while evaluate the loss on train and val sets\n",
        "    if iter % eval_interval == 0 or iter == max_iters - 1:\n",
        "        losses = estimate_loss()\n",
        "        print(f\"step {iter}: train loss {losses['train']:.4f}, val loss {losses['val']:.4f}\")\n",
        "\n",
        "    # sample a batch of data\n",
        "    xb, yb = get_batch('train')\n",
        "\n",
        "    # evaluate the loss\n",
        "    logits, loss = model(xb, yb)\n",
        "    optimizer.zero_grad(set_to_none=True)\n",
        "    loss.backward()\n",
        "    optimizer.step()\n",
        "\n",
        "# generate from the model\n",
        "context = torch.zeros((1, 1), dtype=torch.long, device=device)\n",
        "print(decode(m.generate(context, max_new_tokens=2000)[0].tolist()))\n"
      ]
    },
    {
      "cell_type": "code",
      "execution_count": null,
      "metadata": {
        "id": "fjjvMifYZf7x"
      },
      "outputs": [],
      "source": []
    }
  ],
  "metadata": {
    "colab": {
      "provenance": []
    },
    "kernelspec": {
      "display_name": "Python 3",
      "name": "python3"
    },
    "language_info": {
      "codemirror_mode": {
        "name": "ipython",
        "version": 3
      },
      "file_extension": ".py",
      "mimetype": "text/x-python",
      "name": "python",
      "nbconvert_exporter": "python",
      "pygments_lexer": "ipython3",
      "version": "3.10.13"
    }
  },
  "nbformat": 4,
  "nbformat_minor": 0
}
