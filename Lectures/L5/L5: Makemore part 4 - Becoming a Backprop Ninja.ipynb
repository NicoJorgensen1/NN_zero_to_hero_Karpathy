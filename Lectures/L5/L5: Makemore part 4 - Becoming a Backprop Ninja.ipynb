{
 "cells": [
  {
   "cell_type": "markdown",
   "metadata": {},
   "source": [
    "# Makemore: Becoming a Backprop Ninja"
   ]
  },
  {
   "cell_type": "markdown",
   "metadata": {},
   "source": [
    "### Import libraries and create the dataset "
   ]
  },
  {
   "cell_type": "code",
   "execution_count": 76,
   "metadata": {},
   "outputs": [],
   "source": [
    "# Import libraries \n",
    "import math \n",
    "import random\n",
    "import torch\n",
    "import torch.nn as nn \n",
    "import torch.nn.functional as F\n",
    "import matplotlib.pyplot as plt         # for making figures\n",
    "%matplotlib inline\n",
    "from typing import Union, Dict, Tuple, List, Any \n",
    "from IPython.display import clear_output"
   ]
  },
  {
   "cell_type": "code",
   "execution_count": 77,
   "metadata": {},
   "outputs": [
    {
     "name": "stdout",
     "output_type": "stream",
     "text": [
      "Now we have read the 32033 words from the file. Here we display the first 8 words\n",
      "['emma', 'olivia', 'ava', 'isabella', 'sophia', 'charlotte', 'mia', 'amelia']\n"
     ]
    }
   ],
   "source": [
    "# Here we will import the list with all the words/names \n",
    "import os \n",
    "words_txt_file_path = os.path.join(os.path.expanduser(\"~\"), \"NN_zero_to_hero\", \"Lectures\", \"Makemore_repo\", \"names.txt\")\n",
    "words = open(words_txt_file_path, 'r').read().splitlines()\n",
    "\n",
    "print(f\"Now we have read the {len(words)} words from the file. Here we display the first 8 words\\n{words[:8]}\")"
   ]
  },
  {
   "cell_type": "code",
   "execution_count": 78,
   "metadata": {},
   "outputs": [
    {
     "name": "stdout",
     "output_type": "stream",
     "text": [
      "Now we have created the mappings between chars and integers and vice versa, which yields to 27 different, possible characters (i.e. classes) in our dataset:\n",
      "s_to_i={'a': 1, 'b': 2, 'c': 3, 'd': 4, 'e': 5, 'f': 6, 'g': 7, 'h': 8, 'i': 9, 'j': 10, 'k': 11, 'l': 12, 'm': 13, 'n': 14, 'o': 15, 'p': 16, 'q': 17, 'r': 18, 's': 19, 't': 20, 'u': 21, 'v': 22, 'w': 23, 'x': 24, 'y': 25, 'z': 26, '.': 0}\n",
      "i_to_s={1: 'a', 2: 'b', 3: 'c', 4: 'd', 5: 'e', 6: 'f', 7: 'g', 8: 'h', 9: 'i', 10: 'j', 11: 'k', 12: 'l', 13: 'm', 14: 'n', 15: 'o', 16: 'p', 17: 'q', 18: 'r', 19: 's', 20: 't', 21: 'u', 22: 'v', 23: 'w', 24: 'x', 25: 'y', 26: 'z', 0: '.'}\n"
     ]
    }
   ],
   "source": [
    "### Here we are building the vocabulary and mapping from char to integer and vice versa \n",
    "chars = sorted(list(set(''.join(words))))           # Read all unique characters in all words \n",
    "s_to_i = {s:i+1 for i,s in enumerate(chars)}        # Create a mapping from char to index integer\n",
    "s_to_i['.'] = 0                                     # Assign the index of our special start/end token '.' to 0\n",
    "i_to_s = {i:s for s,i in s_to_i.items()}            # Reverse the mapping from integer to char \n",
    "num_classes = len(s_to_i)                           # Read the different number of characters available in our dataset \n",
    "vocab_size = num_classes                            # Vocabulary = number of different tokens available for the model \n",
    "\n",
    "print(f\"Now we have created the mappings between chars and integers and vice versa, which yields to {num_classes} different, possible characters (i.e. classes) in our dataset:\\n{s_to_i=}\\n{i_to_s=}\")"
   ]
  },
  {
   "cell_type": "code",
   "execution_count": 79,
   "metadata": {},
   "outputs": [],
   "source": [
    "### Build the dataset\n",
    "\n",
    "# Create the dataset arrays from the words list\n",
    "def build_dataset(words, s2i: Dict = s_to_i, block_size: int = 3, num_words: Union[int, None] = None, ):  \n",
    "  X, Y = [], []\n",
    "  for w in (words if num_words is None else words[:num_words] if isinstance(words[:num_words], list) else [words[:num_words]]): \n",
    "    context = [0] * block_size\n",
    "    for ch in w + '.':\n",
    "      ix = s2i[ch]\n",
    "      X.append(context)\n",
    "      Y.append(ix)\n",
    "      context = context[1:] + [ix]                              # crop and append the next character to the context\n",
    "  return torch.tensor(X), torch.tensor(Y)\n",
    "\n",
    "\n",
    "# Print metadata \n",
    "random.seed(42)                                                 # Choose a seed for deterministic shuffling \n",
    "random.shuffle(words)                                           # inplace shuffling of the words list \n",
    "n1 = int(0.8*len(words))                                        # Extract an integer for the 80% of the dataset \n",
    "n2 = int(0.9*len(words))                                        # Extract an integer for the 90% of the dataset \n",
    "\n",
    "block_size = 3                                                  # context length: how many characters do we take to predict the next one?\n",
    "Xtr,  Ytr  = build_dataset(words[:n1], block_size=block_size)   # Build the training split \n",
    "Xdev, Ydev = build_dataset(words[n1:n2], block_size=block_size) # Build the validation (dev) split \n",
    "Xte,  Yte  = build_dataset(words[n2:], block_size=block_size)   # Build the test split \n"
   ]
  },
  {
   "cell_type": "markdown",
   "metadata": {},
   "source": [
    "### Utils "
   ]
  },
  {
   "cell_type": "code",
   "execution_count": 80,
   "metadata": {},
   "outputs": [],
   "source": [
    "# Utility function we will use later when comparing manual gradients to PyTorch gradients\n",
    "def cmp(s, dt, t):\n",
    "  ex = torch.all(dt == t.grad).item()\n",
    "  app = torch.allclose(dt, t.grad)\n",
    "  maxdiff = (dt - t.grad).abs().max().item()\n",
    "  print(f'{s:15s} | exact: {str(ex):5s} | approximate: {str(app):5s} | maxdiff: {maxdiff:.4e}')"
   ]
  },
  {
   "cell_type": "code",
   "execution_count": 81,
   "metadata": {},
   "outputs": [
    {
     "name": "stdout",
     "output_type": "stream",
     "text": [
      "Now we have created a few layers with a total of 4137 trainable parameters\n"
     ]
    }
   ],
   "source": [
    "def create_parameters(random_seed: int = 2147483647, n_embd: int = 10, n_hidden: int = 64, vocab_size: int = vocab_size, verbose: bool = True) -> List[torch.tensor]:\n",
    "    \"\"\"\n",
    "    Note: I am initializating many of these parameters in non-standard ways\n",
    "    because sometimes initializating with e.g. all zeros could mask an incorrect\n",
    "    implementation of the backward pass.\n",
    "    \"\"\"\n",
    "\n",
    "    g = torch.Generator().manual_seed(random_seed)              # For reproducibility\n",
    "\n",
    "    ### Create the parameters of the model \n",
    "    C = torch.randn((vocab_size, n_embd), generator=g)\n",
    "    # Layer 1\n",
    "    W1 = torch.randn((n_embd * block_size, n_hidden), generator=g) * (5/3)/((n_embd * block_size)**0.5)     # The weights of the first linear layer\n",
    "    b1 = torch.randn(n_hidden, generator=g) * 0.1                                                           # Using bias units b1 just for fun, it's useless because of BN\n",
    "    # Layer 2 \n",
    "    W2 = torch.randn((n_hidden, vocab_size), generator=g) * 0.1                                             # The weights of the second linear layer \n",
    "    b2 = torch.randn(vocab_size, generator=g) * 0.1                                                         # The bias of the second linear layer \n",
    "\n",
    "    # BatchNorm parameters\n",
    "    bngain = torch.randn((1, n_hidden))*0.1 + 1.0\n",
    "    bnbias = torch.randn((1, n_hidden))*0.1\n",
    "\n",
    "    ### Make all parameters require gradient \n",
    "    parameters = [C, W1, b1, W2, b2, bngain, bnbias]\n",
    "    for p in parameters:\n",
    "        p.requires_grad = True\n",
    "    if verbose:\n",
    "        print(f\"Now we have created a few layers with a total of {sum(p.nelement() for p in parameters)} trainable parameters\")\n",
    "\n",
    "    return parameters, g\n",
    "\n",
    "\n",
    "# Create the model with the parameters of the wanted size \n",
    "parameters, g = create_parameters(n_embd=10, n_hidden=64)\n",
    "C, W1, b1, W2, b2, bngain, bnbias = parameters"
   ]
  },
  {
   "cell_type": "markdown",
   "metadata": {},
   "source": [
    "### Forward pass"
   ]
  },
  {
   "cell_type": "code",
   "execution_count": 82,
   "metadata": {},
   "outputs": [],
   "source": [
    "# Defining small values used for training \n",
    "batch_size = 32\n",
    "n = batch_size                                                      # a shorter variable also, for convenience\n",
    "\n",
    "# Construct a minibatch\n",
    "ix = torch.randint(0, Xtr.shape[0], (batch_size,), generator=g)     # Randomly select 32 indices \n",
    "Xb, Yb = Xtr[ix], Ytr[ix]                                           # batch X,Y, i.e. inputs and targets "
   ]
  },
  {
   "cell_type": "code",
   "execution_count": 83,
   "metadata": {},
   "outputs": [
    {
     "name": "stdout",
     "output_type": "stream",
     "text": [
      "Now after a single forward pass we have a loss of 3.347675323486328\n"
     ]
    }
   ],
   "source": [
    "# Forward pass, \"chunkated\" into smaller steps that are possible to backward one at a time\n",
    "\n",
    "### Spelled out forward pass \n",
    "emb = C[Xb]                                                         # Embed the characters into vectors \n",
    "embcat = emb.view(emb.shape[0], -1)                                 # Concatenate the vectors\n",
    "\n",
    "# Linear layer 1\n",
    "hprebn = embcat @ W1 + b1                                           # hidden layer pre-activation pre-batch norm \n",
    "\n",
    "# BatchNorm layer\n",
    "bnmeani = 1/n*hprebn.sum(0, keepdim=True)                           # Compute the mean of the current mini-batch \n",
    "bndiff = hprebn - bnmeani                                           # Compute the difference between all activations and the mean of the mini-batch \n",
    "bndiff2 = bndiff**2                                                 # Square the difference \n",
    "bnvar = 1/(n-1)*(bndiff2).sum(0, keepdim=True)                      # Compute the variance of the mini-batch. Note: Bessel's correction (dividing by n-1, not n)\n",
    "bnvar_inv = (bnvar + 1e-5)**-0.5                                    # Compute std of the mini-batch by taking the 1/square root (raise x**0.5 == sqrt(x), raise x**-1 == 1/x) of the variance and add with epsi in order to avoid potential zero-division errors \n",
    "bnraw = bndiff * bnvar_inv                                          # \n",
    "hpreact = bngain * bnraw + bnbias \n",
    "\n",
    "# Non-linearity\n",
    "h = torch.tanh(hpreact)                                             # hidden layer\n",
    "\n",
    "# Linear layer 2\n",
    "logits = h @ W2 + b2                                                # output layer\n",
    "\n",
    "# Cross entropy loss (same as F.cross_entropy(logits, Yb))\n",
    "logit_maxes = logits.max(1, keepdim=True).values                    # Read the max value of the logits. \n",
    "norm_logits = logits - logit_maxes                                  # Subtract max for numerical stability\n",
    "counts = norm_logits.exp()                                          # Take the exponential of all values to assure they are positive \n",
    "counts_sum = counts.sum(1, keepdims=True)                           # Sum the exponentials of all the log-probs \n",
    "counts_sum_inv = counts_sum**-1                                     # if I use (1.0 / counts_sum) instead then I can't get backprop to be bit exact...\n",
    "probs = counts * counts_sum_inv                                     # This is similar to counts / sum(counts), as we simply say counts * 1/sum(counts) now ... \n",
    "logprobs = probs.log()                                              # Compute the log probs from the probabilities \n",
    "loss = -logprobs[range(n), Yb].mean()                               # Compute the negative log likelihood loss \n",
    "\n",
    "# PyTorch backward pass\n",
    "for p in parameters:\n",
    "  p.grad = None\n",
    "\n",
    "# Compute derivatives manualle for these tensors\n",
    "for t in [logprobs, probs, counts, counts_sum, counts_sum_inv,      # afaik there is no cleaner way to iterate through alle the variables \n",
    "          norm_logits, logit_maxes, logits, h, hpreact, bnraw,\n",
    "         bnvar_inv, bnvar, bndiff2, bndiff, hprebn, bnmeani,\n",
    "         embcat, emb]:\n",
    "  t.retain_grad()                                                   # retain_grad() will tell PyTorch to not clear the gradients for these tensors when doing the backward pass \n",
    "loss.backward()                                                     # Run the PyTorch implementation of the backward pass \n",
    "\n",
    "print(f\"Now after a single forward pass we have a loss of {loss.item()}\")"
   ]
  },
  {
   "cell_type": "markdown",
   "metadata": {},
   "source": [
    "## Exercise 1 \n",
    "Exercise 1: backprop through the whole thing manually, backpropagating through exactly all of the variables as they are defined in the forward pass above, one by one <br>\n",
    "\n",
    "We will create small markdowns, one for each of the derivatives that we need to compute"
   ]
  },
  {
   "cell_type": "markdown",
   "metadata": {},
   "source": [
    "##### Derivative of the loss"
   ]
  },
  {
   "cell_type": "code",
   "execution_count": 84,
   "metadata": {},
   "outputs": [],
   "source": [
    "# Backprop the equation: loss = loss\n",
    "\n",
    "# The derivative of the loss is simple, as dL/L = 1 \n",
    "# Hence, this we don't even want to calculate"
   ]
  },
  {
   "cell_type": "code",
   "execution_count": 85,
   "metadata": {},
   "outputs": [
    {
     "data": {
      "text/plain": [
       "tensor([[ 0.0000,  0.0000,  0.0000,  0.0000,  0.0000,  0.0000,  0.0000,  0.0000,\n",
       "         -0.0312,  0.0000,  0.0000,  0.0000,  0.0000,  0.0000,  0.0000,  0.0000,\n",
       "          0.0000,  0.0000,  0.0000,  0.0000,  0.0000,  0.0000,  0.0000,  0.0000,\n",
       "          0.0000,  0.0000,  0.0000],\n",
       "        [ 0.0000,  0.0000,  0.0000,  0.0000,  0.0000,  0.0000,  0.0000,  0.0000,\n",
       "          0.0000,  0.0000,  0.0000,  0.0000,  0.0000,  0.0000, -0.0312,  0.0000,\n",
       "          0.0000,  0.0000,  0.0000,  0.0000,  0.0000,  0.0000,  0.0000,  0.0000,\n",
       "          0.0000,  0.0000,  0.0000],\n",
       "        [ 0.0000,  0.0000,  0.0000,  0.0000,  0.0000,  0.0000,  0.0000,  0.0000,\n",
       "          0.0000,  0.0000,  0.0000,  0.0000,  0.0000,  0.0000,  0.0000, -0.0312,\n",
       "          0.0000,  0.0000,  0.0000,  0.0000,  0.0000,  0.0000,  0.0000,  0.0000,\n",
       "          0.0000,  0.0000,  0.0000],\n",
       "        [ 0.0000,  0.0000,  0.0000,  0.0000,  0.0000,  0.0000,  0.0000,  0.0000,\n",
       "          0.0000,  0.0000,  0.0000,  0.0000,  0.0000,  0.0000,  0.0000,  0.0000,\n",
       "          0.0000,  0.0000,  0.0000,  0.0000,  0.0000,  0.0000, -0.0312,  0.0000,\n",
       "          0.0000,  0.0000,  0.0000],\n",
       "        [-0.0312,  0.0000,  0.0000,  0.0000,  0.0000,  0.0000,  0.0000,  0.0000,\n",
       "          0.0000,  0.0000,  0.0000,  0.0000,  0.0000,  0.0000,  0.0000,  0.0000,\n",
       "          0.0000,  0.0000,  0.0000,  0.0000,  0.0000,  0.0000,  0.0000,  0.0000,\n",
       "          0.0000,  0.0000,  0.0000],\n",
       "        [ 0.0000,  0.0000,  0.0000,  0.0000,  0.0000,  0.0000,  0.0000,  0.0000,\n",
       "          0.0000,  0.0000,  0.0000,  0.0000,  0.0000,  0.0000,  0.0000,  0.0000,\n",
       "          0.0000,  0.0000,  0.0000, -0.0312,  0.0000,  0.0000,  0.0000,  0.0000,\n",
       "          0.0000,  0.0000,  0.0000],\n",
       "        [ 0.0000,  0.0000,  0.0000,  0.0000,  0.0000,  0.0000,  0.0000,  0.0000,\n",
       "          0.0000, -0.0312,  0.0000,  0.0000,  0.0000,  0.0000,  0.0000,  0.0000,\n",
       "          0.0000,  0.0000,  0.0000,  0.0000,  0.0000,  0.0000,  0.0000,  0.0000,\n",
       "          0.0000,  0.0000,  0.0000],\n",
       "        [ 0.0000,  0.0000,  0.0000,  0.0000,  0.0000,  0.0000,  0.0000,  0.0000,\n",
       "          0.0000,  0.0000,  0.0000,  0.0000,  0.0000,  0.0000, -0.0312,  0.0000,\n",
       "          0.0000,  0.0000,  0.0000,  0.0000,  0.0000,  0.0000,  0.0000,  0.0000,\n",
       "          0.0000,  0.0000,  0.0000],\n",
       "        [ 0.0000,  0.0000,  0.0000,  0.0000,  0.0000, -0.0312,  0.0000,  0.0000,\n",
       "          0.0000,  0.0000,  0.0000,  0.0000,  0.0000,  0.0000,  0.0000,  0.0000,\n",
       "          0.0000,  0.0000,  0.0000,  0.0000,  0.0000,  0.0000,  0.0000,  0.0000,\n",
       "          0.0000,  0.0000,  0.0000],\n",
       "        [ 0.0000, -0.0312,  0.0000,  0.0000,  0.0000,  0.0000,  0.0000,  0.0000,\n",
       "          0.0000,  0.0000,  0.0000,  0.0000,  0.0000,  0.0000,  0.0000,  0.0000,\n",
       "          0.0000,  0.0000,  0.0000,  0.0000,  0.0000,  0.0000,  0.0000,  0.0000,\n",
       "          0.0000,  0.0000,  0.0000],\n",
       "        [ 0.0000,  0.0000,  0.0000,  0.0000,  0.0000,  0.0000,  0.0000,  0.0000,\n",
       "          0.0000,  0.0000,  0.0000,  0.0000,  0.0000,  0.0000,  0.0000,  0.0000,\n",
       "          0.0000,  0.0000,  0.0000,  0.0000, -0.0312,  0.0000,  0.0000,  0.0000,\n",
       "          0.0000,  0.0000,  0.0000],\n",
       "        [ 0.0000,  0.0000,  0.0000, -0.0312,  0.0000,  0.0000,  0.0000,  0.0000,\n",
       "          0.0000,  0.0000,  0.0000,  0.0000,  0.0000,  0.0000,  0.0000,  0.0000,\n",
       "          0.0000,  0.0000,  0.0000,  0.0000,  0.0000,  0.0000,  0.0000,  0.0000,\n",
       "          0.0000,  0.0000,  0.0000],\n",
       "        [ 0.0000,  0.0000,  0.0000,  0.0000,  0.0000,  0.0000,  0.0000,  0.0000,\n",
       "         -0.0312,  0.0000,  0.0000,  0.0000,  0.0000,  0.0000,  0.0000,  0.0000,\n",
       "          0.0000,  0.0000,  0.0000,  0.0000,  0.0000,  0.0000,  0.0000,  0.0000,\n",
       "          0.0000,  0.0000,  0.0000],\n",
       "        [ 0.0000,  0.0000,  0.0000,  0.0000,  0.0000,  0.0000,  0.0000,  0.0000,\n",
       "          0.0000,  0.0000,  0.0000,  0.0000,  0.0000,  0.0000, -0.0312,  0.0000,\n",
       "          0.0000,  0.0000,  0.0000,  0.0000,  0.0000,  0.0000,  0.0000,  0.0000,\n",
       "          0.0000,  0.0000,  0.0000],\n",
       "        [ 0.0000,  0.0000,  0.0000,  0.0000,  0.0000,  0.0000,  0.0000,  0.0000,\n",
       "          0.0000,  0.0000,  0.0000,  0.0000, -0.0312,  0.0000,  0.0000,  0.0000,\n",
       "          0.0000,  0.0000,  0.0000,  0.0000,  0.0000,  0.0000,  0.0000,  0.0000,\n",
       "          0.0000,  0.0000,  0.0000],\n",
       "        [-0.0312,  0.0000,  0.0000,  0.0000,  0.0000,  0.0000,  0.0000,  0.0000,\n",
       "          0.0000,  0.0000,  0.0000,  0.0000,  0.0000,  0.0000,  0.0000,  0.0000,\n",
       "          0.0000,  0.0000,  0.0000,  0.0000,  0.0000,  0.0000,  0.0000,  0.0000,\n",
       "          0.0000,  0.0000,  0.0000],\n",
       "        [ 0.0000,  0.0000,  0.0000,  0.0000,  0.0000,  0.0000,  0.0000,  0.0000,\n",
       "          0.0000,  0.0000,  0.0000, -0.0312,  0.0000,  0.0000,  0.0000,  0.0000,\n",
       "          0.0000,  0.0000,  0.0000,  0.0000,  0.0000,  0.0000,  0.0000,  0.0000,\n",
       "          0.0000,  0.0000,  0.0000],\n",
       "        [-0.0312,  0.0000,  0.0000,  0.0000,  0.0000,  0.0000,  0.0000,  0.0000,\n",
       "          0.0000,  0.0000,  0.0000,  0.0000,  0.0000,  0.0000,  0.0000,  0.0000,\n",
       "          0.0000,  0.0000,  0.0000,  0.0000,  0.0000,  0.0000,  0.0000,  0.0000,\n",
       "          0.0000,  0.0000,  0.0000],\n",
       "        [ 0.0000,  0.0000,  0.0000,  0.0000,  0.0000,  0.0000,  0.0000,  0.0000,\n",
       "          0.0000,  0.0000,  0.0000,  0.0000,  0.0000,  0.0000,  0.0000,  0.0000,\n",
       "          0.0000,  0.0000,  0.0000,  0.0000,  0.0000,  0.0000,  0.0000,  0.0000,\n",
       "          0.0000,  0.0000, -0.0312],\n",
       "        [ 0.0000,  0.0000,  0.0000,  0.0000,  0.0000,  0.0000,  0.0000,  0.0000,\n",
       "          0.0000, -0.0312,  0.0000,  0.0000,  0.0000,  0.0000,  0.0000,  0.0000,\n",
       "          0.0000,  0.0000,  0.0000,  0.0000,  0.0000,  0.0000,  0.0000,  0.0000,\n",
       "          0.0000,  0.0000,  0.0000],\n",
       "        [ 0.0000,  0.0000,  0.0000,  0.0000,  0.0000,  0.0000,  0.0000,  0.0000,\n",
       "          0.0000,  0.0000,  0.0000,  0.0000,  0.0000,  0.0000,  0.0000,  0.0000,\n",
       "          0.0000,  0.0000,  0.0000,  0.0000,  0.0000,  0.0000,  0.0000,  0.0000,\n",
       "          0.0000, -0.0312,  0.0000],\n",
       "        [-0.0312,  0.0000,  0.0000,  0.0000,  0.0000,  0.0000,  0.0000,  0.0000,\n",
       "          0.0000,  0.0000,  0.0000,  0.0000,  0.0000,  0.0000,  0.0000,  0.0000,\n",
       "          0.0000,  0.0000,  0.0000,  0.0000,  0.0000,  0.0000,  0.0000,  0.0000,\n",
       "          0.0000,  0.0000,  0.0000],\n",
       "        [ 0.0000, -0.0312,  0.0000,  0.0000,  0.0000,  0.0000,  0.0000,  0.0000,\n",
       "          0.0000,  0.0000,  0.0000,  0.0000,  0.0000,  0.0000,  0.0000,  0.0000,\n",
       "          0.0000,  0.0000,  0.0000,  0.0000,  0.0000,  0.0000,  0.0000,  0.0000,\n",
       "          0.0000,  0.0000,  0.0000],\n",
       "        [ 0.0000, -0.0312,  0.0000,  0.0000,  0.0000,  0.0000,  0.0000,  0.0000,\n",
       "          0.0000,  0.0000,  0.0000,  0.0000,  0.0000,  0.0000,  0.0000,  0.0000,\n",
       "          0.0000,  0.0000,  0.0000,  0.0000,  0.0000,  0.0000,  0.0000,  0.0000,\n",
       "          0.0000,  0.0000,  0.0000],\n",
       "        [ 0.0000,  0.0000,  0.0000,  0.0000,  0.0000,  0.0000,  0.0000, -0.0312,\n",
       "          0.0000,  0.0000,  0.0000,  0.0000,  0.0000,  0.0000,  0.0000,  0.0000,\n",
       "          0.0000,  0.0000,  0.0000,  0.0000,  0.0000,  0.0000,  0.0000,  0.0000,\n",
       "          0.0000,  0.0000,  0.0000],\n",
       "        [ 0.0000,  0.0000,  0.0000,  0.0000,  0.0000,  0.0000,  0.0000,  0.0000,\n",
       "          0.0000,  0.0000,  0.0000,  0.0000,  0.0000,  0.0000,  0.0000,  0.0000,\n",
       "          0.0000,  0.0000, -0.0312,  0.0000,  0.0000,  0.0000,  0.0000,  0.0000,\n",
       "          0.0000,  0.0000,  0.0000],\n",
       "        [ 0.0000,  0.0000,  0.0000,  0.0000,  0.0000,  0.0000,  0.0000,  0.0000,\n",
       "          0.0000, -0.0312,  0.0000,  0.0000,  0.0000,  0.0000,  0.0000,  0.0000,\n",
       "          0.0000,  0.0000,  0.0000,  0.0000,  0.0000,  0.0000,  0.0000,  0.0000,\n",
       "          0.0000,  0.0000,  0.0000],\n",
       "        [ 0.0000,  0.0000,  0.0000, -0.0312,  0.0000,  0.0000,  0.0000,  0.0000,\n",
       "          0.0000,  0.0000,  0.0000,  0.0000,  0.0000,  0.0000,  0.0000,  0.0000,\n",
       "          0.0000,  0.0000,  0.0000,  0.0000,  0.0000,  0.0000,  0.0000,  0.0000,\n",
       "          0.0000,  0.0000,  0.0000],\n",
       "        [ 0.0000,  0.0000,  0.0000,  0.0000,  0.0000, -0.0312,  0.0000,  0.0000,\n",
       "          0.0000,  0.0000,  0.0000,  0.0000,  0.0000,  0.0000,  0.0000,  0.0000,\n",
       "          0.0000,  0.0000,  0.0000,  0.0000,  0.0000,  0.0000,  0.0000,  0.0000,\n",
       "          0.0000,  0.0000,  0.0000],\n",
       "        [ 0.0000,  0.0000,  0.0000,  0.0000,  0.0000,  0.0000,  0.0000,  0.0000,\n",
       "          0.0000, -0.0312,  0.0000,  0.0000,  0.0000,  0.0000,  0.0000,  0.0000,\n",
       "          0.0000,  0.0000,  0.0000,  0.0000,  0.0000,  0.0000,  0.0000,  0.0000,\n",
       "          0.0000,  0.0000,  0.0000],\n",
       "        [-0.0312,  0.0000,  0.0000,  0.0000,  0.0000,  0.0000,  0.0000,  0.0000,\n",
       "          0.0000,  0.0000,  0.0000,  0.0000,  0.0000,  0.0000,  0.0000,  0.0000,\n",
       "          0.0000,  0.0000,  0.0000,  0.0000,  0.0000,  0.0000,  0.0000,  0.0000,\n",
       "          0.0000,  0.0000,  0.0000],\n",
       "        [ 0.0000,  0.0000,  0.0000,  0.0000,  0.0000,  0.0000,  0.0000,  0.0000,\n",
       "          0.0000,  0.0000,  0.0000,  0.0000,  0.0000,  0.0000,  0.0000,  0.0000,\n",
       "          0.0000,  0.0000, -0.0312,  0.0000,  0.0000,  0.0000,  0.0000,  0.0000,\n",
       "          0.0000,  0.0000,  0.0000]])"
      ]
     },
     "execution_count": 85,
     "metadata": {},
     "output_type": "execute_result"
    }
   ],
   "source": [
    "logprobs.grad"
   ]
  },
  {
   "cell_type": "markdown",
   "metadata": {},
   "source": [
    "##### Derivative of the logprobs "
   ]
  },
  {
   "cell_type": "code",
   "execution_count": 86,
   "metadata": {},
   "outputs": [
    {
     "name": "stdout",
     "output_type": "stream",
     "text": [
      "The shape of logprobs is torch.Size([32, 27]), i.e. a probability row vector with 27 values for each of the 32 samples in our mini-batch\n",
      "\n",
      "The shape of the targets Yb is torch.Size([32]) with the first five elements: tensor([ 8, 14, 15, 22,  0])\n",
      "\n",
      "The shape of logprobs[range(n), Yb] is: torch.Size([32])\n",
      "\n",
      "CORRECT SOLUTION SPOILER => The gradients of the first sample in logprobs, where the target was 8 with logprobs.grad[0,Yb[0]] = -0.03125 is:\n",
      "tensor([ 0.0000,  0.0000,  0.0000,  0.0000,  0.0000,  0.0000,  0.0000,  0.0000,\n",
      "        -0.0312,  0.0000,  0.0000,  0.0000,  0.0000,  0.0000,  0.0000,  0.0000,\n",
      "         0.0000,  0.0000,  0.0000,  0.0000,  0.0000,  0.0000,  0.0000,  0.0000,\n",
      "         0.0000,  0.0000,  0.0000])\n",
      "Notice the 31 empty gradients!\n",
      "\n"
     ]
    }
   ],
   "source": [
    "# Backprop the equation: loss = -logprobs[range(batch_size), Yb].mean()\n",
    "\n",
    "# To start with, we have the output loss, which is a single number.\n",
    "# The loss is a function of the tensor logprobs, which have a shape of (32, 27), i.e. a 27-element probability vector for each of the 32 samples in our mini-batch \n",
    "# However, the loss is computed as => loss = -logprobs[range(batch_size), Yb].mean(), where Yb is simply the targets for this batch, which is then simply integer values for the correct characters to predict \n",
    "# This means that -logprobs[range(n), Yb] will create a new tensor of shape (32,), hence we have a single element in each of the 27 probability vectors, that are influencing the loss.\n",
    "# This means that the other (31, 27) elements in logprobs do NOT contribute to the loss, hence their gradients are 0 => this we can see if we print logprobs.grad\n",
    "# Hence, now we just need to take the mean and find the derivative of such an operation \n",
    "    # Lets assume we have a function saying mean(a,b,c) = (a+b+c) / 3.\n",
    "    # This function can be simplified into mean(a,b,c) = a/3 + b/3 + c/3 \n",
    "    # In this example we need to find the partial derivatives for all three input variables. Hence, d_mean/da, d_mean/db and d_mean/dc. \n",
    "    # Each of these are simply 1/3, i.e. d_mean/da = 1/3, d_mean/db = 1/3, d_mean/dc = 1/3, as that is the factor that we are multiplying the input with.\n",
    "    # Hence, the gradients for such a mean operation will always be 1/n \n",
    "# Thus, now we should compute the gradients for the logprobs: \n",
    "    # dlogprobs = 1 / batch_size \n",
    "# As our loss function is the negative log likelihood, we have to take the sign into the gradient aswell ...\n",
    "d_logprobs = (torch.zeros_like(logprobs))                   # First we initialize a tensor with all zeros, which we know that the derivative of the logprobs will have on 26 of 27 elements in each of the 32 rows \n",
    "d_logprobs[range(batch_size), Yb] = -1 / batch_size         # For the elements contributing to the gradient, we know it is by a mean function, hence we should simply set the gradient to be 1/batch_size and then negate that \n",
    "\n",
    "# The printing statements used \n",
    "print(f\"The shape of logprobs is {logprobs.size()}, i.e. a probability row vector with 27 values for each of the 32 samples in our mini-batch\\n\")\n",
    "print(f\"The shape of the targets Yb is {Yb.shape} with the first five elements: {Yb[:5]}\\n\")\n",
    "print(f\"The shape of logprobs[range(n), Yb] is: {logprobs[range(n), Yb].shape}\\n\")\n",
    "print(f\"CORRECT SOLUTION SPOILER => The gradients of the first sample in logprobs, where the target was {Yb[0]} with logprobs.grad[0,Yb[0]] = {logprobs.grad[0,Yb[0]]} is:\\n{logprobs.grad[0,:]}\\nNotice the 31 empty gradients!\\n\")"
   ]
  },
  {
   "cell_type": "code",
   "execution_count": 87,
   "metadata": {},
   "outputs": [
    {
     "name": "stdout",
     "output_type": "stream",
     "text": [
      "This is the result of the compare function between our analytically derived solution and the actual pytorch solution:\n",
      "logprobs        | exact: True  | approximate: True  | maxdiff: 0.0000e+00\n"
     ]
    }
   ],
   "source": [
    "# Compare the derived result with the actual result \n",
    "print(f\"This is the result of the compare function between our analytically derived solution and the actual pytorch solution:\")\n",
    "cmp('logprobs', d_logprobs, logprobs)"
   ]
  },
  {
   "cell_type": "markdown",
   "metadata": {},
   "source": [
    "##### Derivative of the probs "
   ]
  },
  {
   "cell_type": "code",
   "execution_count": 88,
   "metadata": {},
   "outputs": [],
   "source": [
    "# Backprop the equation: logprobs = probs.log()\n",
    "\n",
    "# To start with, we have the logprobs, which is a tensor of shape (32, 27) \n",
    "# To go from probabilities to log-probabilities we simply take the log\n",
    "# Hence, we need to find the derivative of the log() function and then multiply that by the derivative of the logprobs to get the derivative of the probs tensor \n",
    "# The derivative of the log function is 1/x \n",
    "# Hence, we simply do a 1/probs and then multiply with the d_logprobs that we computed before in order to get the derivative of the probabilities\n",
    "# The multiplication here is because of the chain rule => the derivative of the outer function should be multiplied with the derivative of the inner function \n",
    "\n",
    "d_probs = (1.0 / probs) * d_logprobs \n",
    "\n",
    "# Notice here how we can interprete this as the model boosting the characters with low confidence\n",
    "# If the probs has a high value (the model is very certain of a given example), then 1/probs will simply become 1 and the d_logprobs will be send right through \n",
    "# If the probs has a low value (the model is very uncertain of a given example), then 1/probs will become a very high number, hence the d_logprobs will be boosted and the learning for that uncertain example will become greater than for the certain examples "
   ]
  },
  {
   "cell_type": "code",
   "execution_count": 89,
   "metadata": {},
   "outputs": [
    {
     "name": "stdout",
     "output_type": "stream",
     "text": [
      "This is the result of the compare function between our analytically derived solution and the actual pytorch solution:\n",
      "probs           | exact: True  | approximate: True  | maxdiff: 0.0000e+00\n"
     ]
    }
   ],
   "source": [
    "# Compare the derived result with the actual result \n",
    "print(f\"This is the result of the compare function between our analytically derived solution and the actual pytorch solution:\")\n",
    "cmp('probs', d_probs, probs)"
   ]
  },
  {
   "cell_type": "markdown",
   "metadata": {},
   "source": [
    "##### Derivative of the counts_sum_inv "
   ]
  },
  {
   "cell_type": "code",
   "execution_count": 90,
   "metadata": {},
   "outputs": [],
   "source": [
    "# Backprop the equation: probs = counts * counts_sum_inv\n",
    "\n",
    "# To start with we have the probs which is a tensor of shape (32, 27)\n",
    "# We obtain the probs by multiplying the counts with the inverse counts\n",
    "# Hence, d_probs/d_counts = counts_sum_inv and d_probs/d_counts_sum_inv = counts \n",
    "# By the chain rule we need to multiply with the gradients of the probs as well \n",
    "# However, we know that the counts_sum_inv is of shape (32, 1), where counts.shape is (32, 27)\n",
    "# Hence, some broadcasting happens here, where python internally will copy the counts_sum_inv 27 times along the horizontal line in order to multiply with the counts\n",
    "# Hence, the equation       probs = counts * counts_sum_inv \n",
    "# turns into                probs = counts[:,0]*counts_sum_inv + counts[:,1]*counts_sum_inv + ... + counts[:,-1]*counts_sum_inv \n",
    "# If a node is used multiple times during the forward pass, then during the backward pass, all of its gradients gets summed together and pass through that node \n",
    "# This means that when we compute the derivative as d_probs/d_counts_sum_inv = counts, then we need to do this for all 27 times the counts_sum_inv was applied \n",
    "# Hence, we need to compute the gradient and then sum along the horizontal, column dimension\n",
    "# This will also assure that our derivative of the counts_sum_inv tensor has the same shape as the counts_sum_inv tensor itself \n",
    "\n",
    "d_counts_sum_inv = (counts * d_probs).sum(1, keepdim=True)"
   ]
  },
  {
   "cell_type": "code",
   "execution_count": 91,
   "metadata": {},
   "outputs": [
    {
     "name": "stdout",
     "output_type": "stream",
     "text": [
      "Computing a*b will broadcast into torch.Size([3, 3])\n",
      "Computing a@b will compute dot product torch.Size([3, 1])\n"
     ]
    }
   ],
   "source": [
    "# Examplifing the broadcasting that happens when we multiply tensors of different shapes\n",
    "# The MxN * NxM = MxM is only applicable in Python language through the use of the @ operator, i.e. the dot product \n",
    "a = torch.randn(3,3)\n",
    "b = torch.randn(3,1)\n",
    "print(f\"Computing a*b will broadcast into {(a * b).shape}\")\n",
    "print(f\"Computing a@b will compute dot product {(a @ b).shape}\")"
   ]
  },
  {
   "cell_type": "code",
   "execution_count": 92,
   "metadata": {},
   "outputs": [
    {
     "name": "stdout",
     "output_type": "stream",
     "text": [
      "This is the result of the compare function between our analytically derived solution and the actual pytorch solution:\n",
      "d_counts_inverse | exact: True  | approximate: True  | maxdiff: 0.0000e+00\n"
     ]
    }
   ],
   "source": [
    "# Compare the derived result with the actual result \n",
    "print(f\"This is the result of the compare function between our analytically derived solution and the actual pytorch solution:\")\n",
    "cmp(\"d_counts_inverse\", d_counts_sum_inv, counts_sum_inv)"
   ]
  },
  {
   "cell_type": "markdown",
   "metadata": {},
   "source": [
    "##### Derivative of the counts - part 1 "
   ]
  },
  {
   "cell_type": "code",
   "execution_count": 93,
   "metadata": {},
   "outputs": [],
   "source": [
    "# Backprop the equation: probs = counts * counts_sum_inv\n",
    "\n",
    "# To start with we have the probs which is a tensor of shape (32, 27)\n",
    "# We obtain the probs by multiplying the counts with the inverse counts\n",
    "# Hence, d_probs/d_counts = counts_sum_inv and d_probs/d_counts_sum_inv = counts \n",
    "# By the chain rule we need to multiply with the gradients of the probs as well \n",
    "# As opposed to the situation before where we had counts_sum_inv which was a summation of counts and thus of a shape (32,1), these counts are now of shape (32,27)\n",
    "# However, we have some broadcasting going on again when computing the derivative, as we can see the d_probs/d_counts = counts_sum_inv, hence by the chain rule we need to multiply with d_probs \n",
    "# This means that we are going to multiply a (32,1) with a (32,27)\n",
    "# As the counts have a shape of (32,27), our d_counts tensor also has to be of the same shape \n",
    "\n",
    "# However, take a look at the forward pass:\n",
    "\"\"\"\n",
    "counts = norm_logits.exp()                          # Creation of the counts \n",
    "counts_sum = counts.sum(1, keepdims=True)           # counts_sum is a function of the tensor counts \n",
    "counts_sum_inv = counts_sum**-1                     # counts_sum_inv is a function of the tensor counts \n",
    "probs = counts * counts_sum_inv                     # Now counts_sum_inv (a function of counts) is multiplied with counts => hence, here we are actually using counts twice \n",
    "\"\"\"\n",
    "# Note that the counts node is used twice -> so just like before where we backpropagated through counts_sum_inverse that was used 27 times (due to broadcasting) we have to add the two gradient components together in order to compute the full d_counts gradient \n",
    "\n",
    "# Hence, we need to backpropagate through the compute graph even further before we can compute the final gradient of counts \n",
    "\n",
    "# First part \n",
    "d_counts_1 = counts_sum_inv * d_probs"
   ]
  },
  {
   "cell_type": "markdown",
   "metadata": {},
   "source": [
    "##### Derivative of the counts_sum"
   ]
  },
  {
   "cell_type": "code",
   "execution_count": 94,
   "metadata": {},
   "outputs": [],
   "source": [
    "# Backprop the equation: counts_sum_inv = counts_sum**-1 \n",
    "\n",
    "# This operation is basically a elementwise operation of 1/x, for each element in the counts_sum tensor\n",
    "# counts_sum_inv is a tensor of shape (32, 1), which counts_sum also is. Hence, we need no broadcasting here\n",
    "\"\"\"\n",
    "    f(x) = 1/x          df/dx = -1/x²\n",
    "\"\"\"\n",
    "# We can see from the derivative of the 1/x function that the local gradient will be -1/counts_sum**2 \n",
    "# To obey the chain rule we have to multiply with the outer gradient, i.e. d_counts_sum_inv in this example \n",
    "\n",
    "d_counts_sum = (-1/counts_sum**2) * d_counts_sum_inv\n"
   ]
  },
  {
   "cell_type": "code",
   "execution_count": 95,
   "metadata": {},
   "outputs": [
    {
     "name": "stdout",
     "output_type": "stream",
     "text": [
      "This is the result of the compare function between our analytically derived solution and the actual pytorch solution:\n",
      "d_counts_sum    | exact: True  | approximate: True  | maxdiff: 0.0000e+00\n"
     ]
    }
   ],
   "source": [
    "# Compare the derived result with the actual result \n",
    "print(f\"This is the result of the compare function between our analytically derived solution and the actual pytorch solution:\")\n",
    "cmp(\"d_counts_sum\", d_counts_sum, counts_sum)"
   ]
  },
  {
   "cell_type": "markdown",
   "metadata": {},
   "source": [
    "##### Derivative of the counts - part 2"
   ]
  },
  {
   "cell_type": "code",
   "execution_count": 96,
   "metadata": {},
   "outputs": [],
   "source": [
    "# Backprop the equation: counts_sum = counts.sum(1, keepdims=True)\n",
    "\n",
    "# This operation is simply an addition operation, where we take the counts of shape (32,27) and sum across the columns to obtain counts_sum of shape (32,1)\n",
    "\"\"\"\n",
    "    f(x) = 1+x          df/dx = 1\n",
    "\"\"\"\n",
    "# Hence, the local gradient will simply be 1 here \n",
    "d_counts_2 = (1) * d_counts_sum\n",
    "\n",
    "# Add the two contributions to the gradient \n",
    "d_counts = d_counts_1 + d_counts_2"
   ]
  },
  {
   "cell_type": "code",
   "execution_count": 97,
   "metadata": {},
   "outputs": [
    {
     "name": "stdout",
     "output_type": "stream",
     "text": [
      "This is the result of the compare function between our analytically derived solution and the actual pytorch solution:\n",
      "d_counts        | exact: True  | approximate: True  | maxdiff: 0.0000e+00\n"
     ]
    }
   ],
   "source": [
    "# Compare the derived result with the actual result \n",
    "print(f\"This is the result of the compare function between our analytically derived solution and the actual pytorch solution:\")\n",
    "cmp(\"d_counts\", d_counts, counts)"
   ]
  },
  {
   "cell_type": "markdown",
   "metadata": {},
   "source": [
    "##### Derivative of the norm_logits"
   ]
  },
  {
   "cell_type": "code",
   "execution_count": 98,
   "metadata": {},
   "outputs": [],
   "source": [
    "# Backprop the equation: counts = norm_logits.exp()\n",
    "\n",
    "# Here we have counts, a tensor of shape (32, 27) that are a result of exponentiating the norm_logits, a tensor of shape (32, 27)\n",
    "# The norm_logits are only used here, hence we have no additional nodes to look out for or any broadcasting to be worried about here \n",
    "\"\"\"\n",
    "    f(x) = exp(x)       df/dx = exp(x)\n",
    "\"\"\"\n",
    "# Hence, the local gradient here will simply be norm_logits.exp()\n",
    "\n",
    "d_norm_logits = norm_logits.exp() * d_counts"
   ]
  },
  {
   "cell_type": "code",
   "execution_count": 99,
   "metadata": {},
   "outputs": [
    {
     "name": "stdout",
     "output_type": "stream",
     "text": [
      "This is the result of the compare function between our analytically derived solution and the actual pytorch solution:\n",
      "d_norm_logits   | exact: True  | approximate: True  | maxdiff: 0.0000e+00\n"
     ]
    }
   ],
   "source": [
    "# Compare the derived result with the actual result \n",
    "print(f\"This is the result of the compare function between our analytically derived solution and the actual pytorch solution:\")\n",
    "cmp(\"d_norm_logits\", d_norm_logits, norm_logits)"
   ]
  },
  {
   "cell_type": "markdown",
   "metadata": {},
   "source": [
    "##### Derivative of the logits - part 1"
   ]
  },
  {
   "cell_type": "code",
   "execution_count": 100,
   "metadata": {},
   "outputs": [],
   "source": [
    "# Backprop the equation: norm_logits = logits - logit_maxes \n",
    "\n",
    "# Here we have logits, a tensor of shape (32, 27) from which we subtract a tensor, logits_maxes, of shape (32, 1)\n",
    "\"\"\"\n",
    "    f(x) = x-1          df/dx = 1\n",
    "\"\"\"\n",
    "# Hence, the local gradient will simply be 1 here \n",
    "# However, the logits are (like counts) a tensor split into two branches, hence we need to compute the derivative of each branch and then add these together  \n",
    "# We can see that from the forward pass:\n",
    "\"\"\"\n",
    "logit_maxes = logits.max(1, keepdim=True).values        # logit_maxes is a function of logits \n",
    "norm_logits = logits - logit_maxes                      # Here we use both the logits and logit_maxes, which is a function of logits \n",
    "\"\"\"\n",
    "\n",
    "# First part \n",
    "d_logits_1 = 1 * d_norm_logits\n"
   ]
  },
  {
   "cell_type": "markdown",
   "metadata": {},
   "source": [
    "##### Derivative of the logits_maxes"
   ]
  },
  {
   "cell_type": "code",
   "execution_count": 101,
   "metadata": {},
   "outputs": [],
   "source": [
    "# Backprop the equation: norm_logits = logits - logit_maxes\n",
    "\n",
    "# Here we have a summation again, as logit_maxes is a tensor of shape (32, 1) where logits is a tensor of shape (32, 27)\n",
    "# Hence, as the equation states, we have an addition along the horizontal dimension \n",
    "# This means that at first we have a subtraction and then we have an addition in this equation \n",
    "\"\"\"\n",
    "    f(x) = 1-x          df/dx = -1\n",
    "    f(x) = x+1          df/dx = 1\n",
    "\"\"\"\n",
    "# Therefore, the local derivative here will simply be -1 \n",
    "d_logits_maxes = (-1*d_norm_logits).sum(1, keepdim=True)"
   ]
  },
  {
   "cell_type": "code",
   "execution_count": 102,
   "metadata": {},
   "outputs": [
    {
     "name": "stdout",
     "output_type": "stream",
     "text": [
      "The mean gradient of logits_max: 4.220e-10 and the max gradient: 6.519e-09\n"
     ]
    }
   ],
   "source": [
    "# Notice the gradient of d_logits_max is very small, approximately 0\n",
    "# This is because we only subtract logits_maxes from the logits in order to assure numerical stability\n",
    "# As we saw in an earlier lecture this doesn't affect the probs predicted from the model, and hence doesn't affect the loss \n",
    "# This is why, intuitively, we should have gradients of 0 \n",
    "# However, because of floating point arithmetics we only get values very, very close to 0, instead of getting exactely zeros \n",
    "print(f\"The mean gradient of logits_max: {logit_maxes.grad.mean():.3e} and the max gradient: {d_logits_maxes.max():.3e}\")"
   ]
  },
  {
   "cell_type": "code",
   "execution_count": 103,
   "metadata": {},
   "outputs": [
    {
     "name": "stdout",
     "output_type": "stream",
     "text": [
      "This is the result of the compare function between our analytically derived solution and the actual pytorch solution:\n",
      "d_logits_maxes  | exact: True  | approximate: True  | maxdiff: 0.0000e+00\n"
     ]
    }
   ],
   "source": [
    "# Compare the derived result with the actual result \n",
    "print(f\"This is the result of the compare function between our analytically derived solution and the actual pytorch solution:\")\n",
    "cmp(\"d_logits_maxes\", d_logits_maxes, logit_maxes)"
   ]
  },
  {
   "cell_type": "markdown",
   "metadata": {},
   "source": [
    "##### Derivative of the logits - part 2"
   ]
  },
  {
   "cell_type": "code",
   "execution_count": 104,
   "metadata": {},
   "outputs": [],
   "source": [
    "# Backprop the equation: logit_maxes = logits.max(1, keepdim=True).values\n",
    "\n",
    "# Here we now have the equation again where we take the maximum value of the logits, hence we go from logits of (32, 27) to logit_maxes of (32, 1)\n",
    "# Thus, as we take the max values, we simply plug out 1 single value for each row (sample) in the batch\n",
    "# Hence, all other elements in each of the rows does not contribute to the local derivative here, as they are \"left behind\", where as the plugged out elements will have a local gradient of 1 \n",
    "# Therefore, we need a smart way to get the indices of the maximum logit value for each row in the logits tensor \n",
    "max_logits_indices = logits.max(1).indices\n",
    "\n",
    "# Hence, now we have our indices telling us which position in the logits array contribute (and hence, we can know, which don't) \n",
    "# Therefore, we want to make a tensor of the same shape as logits, i.e. (32, 27), where we have ones on all indices and zeros at all other positions \n",
    "d_logits_2_local = F.one_hot(max_logits_indices, num_classes=num_classes)\n",
    "\n",
    "# Therefore, now we can compute the second part of the contribution to d_logits as we now have the local gradient and we have to multiply with the global gradient in order to obey the chain rule \n",
    "d_logits_2 = d_logits_2_local * d_logits_maxes\n",
    "\n",
    "# Add the two contributions to the gradient \n",
    "d_logits = d_logits_1 + d_logits_2"
   ]
  },
  {
   "cell_type": "code",
   "execution_count": 105,
   "metadata": {},
   "outputs": [
    {
     "name": "stdout",
     "output_type": "stream",
     "text": [
      "This is the result of the compare function between our analytically derived solution and the actual pytorch solution:\n",
      "d_logits        | exact: True  | approximate: True  | maxdiff: 0.0000e+00\n"
     ]
    }
   ],
   "source": [
    "# Compare the derived result with the actual result \n",
    "print(f\"This is the result of the compare function between our analytically derived solution and the actual pytorch solution:\")\n",
    "cmp(\"d_logits\", d_logits, logits)"
   ]
  },
  {
   "cell_type": "markdown",
   "metadata": {},
   "source": [
    "##### Derivative of h"
   ]
  },
  {
   "cell_type": "code",
   "execution_count": 106,
   "metadata": {},
   "outputs": [],
   "source": [
    "# Backprop the equation: logits = h @ W2 + b2 \n",
    "\n",
    "# We have now three different tensors that are interacting together to form the logits \n",
    "    # h:    activations from first tanh layer => shape (32, 64)\n",
    "    # W2:   weights of the second linear layer => shape (64, 27)\n",
    "    # b2:   bias of the second linear layer => shape (27)\n",
    "# Hence, notice that the bias unit is only 1D, where as (h@W2) is 2D => this means that the addition of the bias unit will become a broadcasting operation \n",
    "\"\"\" \n",
    "    f(x) = x * y + z        df/dx = y \n",
    "\"\"\"\n",
    "# Therefore, we can compute the local gradient for h as simply the weights of W2 times the outer gradient (the derivative of the logits)\n",
    "# Notice, that due to math arithmethics we need to transpose the W2 matrix in order for the shapes to match with the dot product \n",
    "d_h = d_logits @ W2.T"
   ]
  },
  {
   "cell_type": "code",
   "execution_count": 107,
   "metadata": {},
   "outputs": [
    {
     "name": "stdout",
     "output_type": "stream",
     "text": [
      "This is the result of the compare function between our analytically derived solution and the actual pytorch solution:\n",
      "d_h             | exact: True  | approximate: True  | maxdiff: 0.0000e+00\n"
     ]
    }
   ],
   "source": [
    "# Compare the derived result with the actual result \n",
    "print(f\"This is the result of the compare function between our analytically derived solution and the actual pytorch solution:\")\n",
    "cmp(\"d_h\", d_h, h)"
   ]
  },
  {
   "cell_type": "markdown",
   "metadata": {},
   "source": [
    "##### Derivative of W2"
   ]
  },
  {
   "cell_type": "code",
   "execution_count": 108,
   "metadata": {},
   "outputs": [],
   "source": [
    "# We have now three different tensors that are interacting together to form the logits \n",
    "    # h:    activations from first tanh layer => shape (32, 64)\n",
    "    # W2:   weights of the second linear layer => shape (64, 27)\n",
    "    # b2:   bias of the second linear layer => shape (27)\n",
    "# Hence, notice that the bias unit is only 1D, where as (h@W2) is 2D => this means that the addition of the bias unit will become a broadcasting operation \n",
    "\"\"\" \n",
    "    f(y) = x * y + z        df/dx = x \n",
    "\"\"\"\n",
    "\n",
    "# Therefore, we can compute the local gradient for W2 as simply the weights of h times the outer gradient (derivative of the logits)\n",
    "d_W2 = h.T @ d_logits"
   ]
  },
  {
   "cell_type": "code",
   "execution_count": 109,
   "metadata": {},
   "outputs": [
    {
     "name": "stdout",
     "output_type": "stream",
     "text": [
      "This is the result of the compare function between our analytically derived solution and the actual pytorch solution:\n",
      "d_W2            | exact: True  | approximate: True  | maxdiff: 0.0000e+00\n"
     ]
    }
   ],
   "source": [
    "# Compare the derived result with the actual result \n",
    "print(f\"This is the result of the compare function between our analytically derived solution and the actual pytorch solution:\")\n",
    "cmp(\"d_W2\", d_W2, W2)"
   ]
  },
  {
   "cell_type": "markdown",
   "metadata": {},
   "source": [
    "##### Derivative of b2"
   ]
  },
  {
   "cell_type": "code",
   "execution_count": 110,
   "metadata": {},
   "outputs": [],
   "source": [
    "# Backprop the equation: logits = h @ W2 + b2 \n",
    "\n",
    "# We have now three different tensors that are interacting together to form the logits \n",
    "    # h:    activations from first tanh layer => shape (32, 64)\n",
    "    # W2:   weights of the second linear layer => shape (64, 27)\n",
    "    # b2:   bias of the second linear layer => shape (27)\n",
    "# Hence, notice that the bias unit is only 1D, where as (h@W2) is 2D => this means that the addition of the bias unit will become a broadcasting operation \n",
    "# This broadcasting copies and adds the contributions of b2 along each of the rows\n",
    "\"\"\" \n",
    "    f(z) = x * y + z        df/dz = 1 \n",
    "\"\"\"\n",
    "# Therefore, we can compute the local gradient for b2 as a single 1 \n",
    "# However, as we have some broadcasting along the vertical row dimension, we need to sum the contributions for each row together \n",
    "d_b2 = (1 * d_logits).sum(0)"
   ]
  },
  {
   "cell_type": "code",
   "execution_count": 111,
   "metadata": {},
   "outputs": [
    {
     "name": "stdout",
     "output_type": "stream",
     "text": [
      "This is the result of the compare function between our analytically derived solution and the actual pytorch solution:\n",
      "d_b2            | exact: True  | approximate: True  | maxdiff: 0.0000e+00\n"
     ]
    }
   ],
   "source": [
    "# Compare the derived result with the actual result \n",
    "print(f\"This is the result of the compare function between our analytically derived solution and the actual pytorch solution:\")\n",
    "cmp(\"d_b2\", d_b2, b2)"
   ]
  },
  {
   "cell_type": "markdown",
   "metadata": {},
   "source": [
    "##### Derivative of hpreact"
   ]
  },
  {
   "cell_type": "code",
   "execution_count": 112,
   "metadata": {},
   "outputs": [],
   "source": [
    "# Backprop the equation: h = torch.tanh(hpreact) \n",
    "\n",
    "# Here we simply need to find the derivative of the tanh function\n",
    "\"\"\"\n",
    "    f(x) = tanh(x)          df/dx = 1-tanh(x)² = 1-f(x)² \n",
    "\"\"\"\n",
    "\n",
    "d_hpreact = (1 - h**2) * d_h "
   ]
  },
  {
   "cell_type": "code",
   "execution_count": 113,
   "metadata": {},
   "outputs": [
    {
     "name": "stdout",
     "output_type": "stream",
     "text": [
      "This is the result of the compare function between our analytically derived solution and the actual pytorch solution:\n",
      "d_hpreact       | exact: False | approximate: True  | maxdiff: 4.6566e-10\n"
     ]
    }
   ],
   "source": [
    "# Compare the derived result with the actual result \n",
    "print(f\"This is the result of the compare function between our analytically derived solution and the actual pytorch solution:\")\n",
    "cmp(\"d_hpreact\", d_hpreact, hpreact)"
   ]
  },
  {
   "cell_type": "markdown",
   "metadata": {},
   "source": [
    "##### Derivative of bngain"
   ]
  },
  {
   "cell_type": "code",
   "execution_count": 114,
   "metadata": {},
   "outputs": [],
   "source": [
    "# Backpropagate the equation: hpreact = bngain * bnraw + bnbias \n",
    "\n",
    "# Notice that we have hpreact of shape (32, 64), but bn_gain of shape (1, 64), bn_raw of shape (32, 64) and bn_bias of shape (1, 64) \n",
    "# Hence, we are going to have a lot of broadcasting for this equation \n",
    "# This is very similar to when backpropagating through the logits = h @ W2 + b2 from before\n",
    "\"\"\" \n",
    "    f(x) = x * y + z        df/dx = y \n",
    "\"\"\"\n",
    "\n",
    "# Hence, the local gradient for bn_gain will be bn_raw\n",
    "# As we are broadcasting bn_gain from (1, 64) into (32, 64), then we have to sum all the 32 contributions along the first, vertical dimension to get the proper shape and output for the derivative of bn_gain\n",
    "d_bngain = (bnraw * d_hpreact).sum(0, keepdim=True)"
   ]
  },
  {
   "cell_type": "code",
   "execution_count": 115,
   "metadata": {},
   "outputs": [
    {
     "name": "stdout",
     "output_type": "stream",
     "text": [
      "This is the result of the compare function between our analytically derived solution and the actual pytorch solution:\n",
      "d_bngain        | exact: False | approximate: True  | maxdiff: 1.8626e-09\n"
     ]
    }
   ],
   "source": [
    "# Compare the derived result with the actual result \n",
    "print(f\"This is the result of the compare function between our analytically derived solution and the actual pytorch solution:\")\n",
    "cmp(\"d_bngain\", d_bngain, bngain)"
   ]
  },
  {
   "cell_type": "markdown",
   "metadata": {},
   "source": [
    "##### Derivative of bnraw"
   ]
  },
  {
   "cell_type": "code",
   "execution_count": 116,
   "metadata": {},
   "outputs": [],
   "source": [
    "# Backpropagate the equation: hpreact = bngain * bnraw + bnbias \n",
    "\n",
    "# Notice that we have hpreact of shape (32, 64), but bn_gain of shape (1, 64), bn_raw of shape (32, 64) and bn_bias of shape (1, 64) \n",
    "# Hence, we are going to have a lot of broadcasting for this equation \n",
    "# This is very similar to when backpropagating through the logits = h @ W2 + b2 from before\n",
    "\"\"\" \n",
    "    f(x) = x * y + z        df/dy = x \n",
    "\"\"\"\n",
    "\n",
    "# Here we have the local gradient as bn_gain. \n",
    "# Note, for this operation here, pytorch will automatically broadcast our dimensions correctly\n",
    "d_bnraw = bngain * d_hpreact"
   ]
  },
  {
   "cell_type": "code",
   "execution_count": 117,
   "metadata": {},
   "outputs": [
    {
     "name": "stdout",
     "output_type": "stream",
     "text": [
      "This is the result of the compare function between our analytically derived solution and the actual pytorch solution:\n",
      "d_bnraw         | exact: False | approximate: True  | maxdiff: 6.9849e-10\n"
     ]
    }
   ],
   "source": [
    "# Compare the derived result with the actual result \n",
    "print(f\"This is the result of the compare function between our analytically derived solution and the actual pytorch solution:\")\n",
    "cmp(\"d_bnraw\", d_bnraw, bnraw)"
   ]
  },
  {
   "cell_type": "markdown",
   "metadata": {},
   "source": [
    "##### Derivative of bnbias"
   ]
  },
  {
   "cell_type": "code",
   "execution_count": 118,
   "metadata": {},
   "outputs": [],
   "source": [
    "# Backpropagate the equation: hpreact = bngain * bnraw + bnbias \n",
    "\n",
    "# Notice that we have hpreact of shape (32, 64), but bn_gain of shape (1, 64), bn_raw of shape (32, 64) and bn_bias of shape (1, 64)\n",
    "# Hence, we are going to have a lot of broadcasting for this equation \n",
    "# This is very similar to when backpropagating through the logits = h @ W2 + b2 from before\n",
    "\"\"\" \n",
    "    f(x) = x * y + z        df/dz = 1 \n",
    "\"\"\"\n",
    "# Notice the broadcasting happening, which copies bn_bias from (1, 64) to (32, 64)\n",
    "# Hence, we have to sum along the first, vertical dimension \n",
    "d_bnbias = d_hpreact.sum(0,keepdim=True)"
   ]
  },
  {
   "cell_type": "code",
   "execution_count": 119,
   "metadata": {},
   "outputs": [
    {
     "name": "stdout",
     "output_type": "stream",
     "text": [
      "This is the result of the compare function between our analytically derived solution and the actual pytorch solution:\n",
      "d_bnbias        | exact: False | approximate: True  | maxdiff: 3.7253e-09\n"
     ]
    }
   ],
   "source": [
    "# Compare the derived result with the actual result \n",
    "print(f\"This is the result of the compare function between our analytically derived solution and the actual pytorch solution:\")\n",
    "cmp(\"d_bnbias\", d_bnbias, bnbias)"
   ]
  },
  {
   "cell_type": "markdown",
   "metadata": {},
   "source": [
    "##### Derivative of bnvar_inv"
   ]
  },
  {
   "cell_type": "code",
   "execution_count": 120,
   "metadata": {},
   "outputs": [],
   "source": [
    "# Backpropagate the equation: bnraw = bndiff * bnvar_inv\n",
    "\n",
    "# Notice here we have bn_raw of shape (32, 64), bndiff of shape (32, 64) and bnvar_inv of shape (1, 64)\n",
    "\"\"\" \n",
    "    f(x) = x * y            df/dx = y\n",
    "\"\"\"\n",
    "\n",
    "d_bnvar_inv = (bndiff * d_bnraw).sum(0, keepdim=True)"
   ]
  },
  {
   "cell_type": "code",
   "execution_count": 121,
   "metadata": {},
   "outputs": [
    {
     "name": "stdout",
     "output_type": "stream",
     "text": [
      "This is the result of the compare function between our analytically derived solution and the actual pytorch solution:\n",
      "d_bnvar_inv     | exact: False | approximate: True  | maxdiff: 3.7253e-09\n"
     ]
    }
   ],
   "source": [
    "# Compare the derived result with the actual result \n",
    "print(f\"This is the result of the compare function between our analytically derived solution and the actual pytorch solution:\")\n",
    "cmp(\"d_bnvar_inv\", d_bnvar_inv, bnvar_inv)"
   ]
  },
  {
   "cell_type": "markdown",
   "metadata": {},
   "source": [
    "##### Derivative of bndiff - part 1 "
   ]
  },
  {
   "cell_type": "code",
   "execution_count": 122,
   "metadata": {},
   "outputs": [],
   "source": [
    "# Backpropagate the equation: bnraw = bndiff * bnvar_inv\n",
    "\n",
    "# Notice here we have bn_raw of shape (32, 64), bndiff of shape (32, 64) and bnvar_inv of shape (1, 64)\n",
    "\"\"\" \n",
    "    f(x) = x * y            df/dx = y\n",
    "\"\"\"\n",
    "# However, from looking at the forward pass, bndiff is used two times:\n",
    "\"\"\"\n",
    "bndiff2 = bndiff**2                                         # bndiff2 is a function of bndiff \n",
    "bnvar = 1/(n-1)*(bndiff2).sum(0, keepdim=True)              # bnvar is hence a function of bndiff\n",
    "bnvar_inv = (bnvar + 1e-5)**-0.5                            # bnvar_inv is then a function of bndiff\n",
    "bnraw = bndiff * bnvar_inv                                  # here we use bndiff a second time again \n",
    "\"\"\"\n",
    "\n",
    "# Hence, here we can only compute the first part of the contribution to the gradient of bndiff \n",
    "d_bndiff_1 = bnvar_inv * d_bnraw"
   ]
  },
  {
   "cell_type": "markdown",
   "metadata": {},
   "source": [
    "##### Derivative of bnvar "
   ]
  },
  {
   "cell_type": "code",
   "execution_count": 123,
   "metadata": {},
   "outputs": [],
   "source": [
    "# Backpropagate the equation: bnvar_inv = (bnvar + 1e-5)**-0.5 \n",
    "\n",
    "# Notice that we have a small amount of chain rule within this equation it self, as (bnvar+1e-5) is an inner function with ()**-0.5 is the outer function.\n",
    "# However, as the bnvar+1e-5 is a simple addition function, the gradient will flow right through it, as the derivative of an addition is 1  \n",
    "# We need to get the local derivative of our function, which is raised to a power of -0.5 => equivalent to saying 1/sqrt() \n",
    "\"\"\" \n",
    "    Remember here the exponential rules\n",
    "        x**-1 == 1/x \n",
    "        x**0.5 == sqrt(x)\n",
    "        x**a * x**b == x**(a+b)     <=>     x**-0.5 == 1/sqrt(x)\n",
    "    \n",
    "    f(x) = x**a             df/dx = a * x**(a-1) \n",
    "\"\"\"\n",
    "\n",
    "# Hence, we can now compute the local gradient and multiply with the gradient flowing from the bnvar_inv \n",
    "\n",
    "d_bnvar = (-0.5 * (bnvar+1e-5)**(-1.5)) * d_bnvar_inv"
   ]
  },
  {
   "cell_type": "code",
   "execution_count": 124,
   "metadata": {},
   "outputs": [
    {
     "name": "stdout",
     "output_type": "stream",
     "text": [
      "This is the result of the compare function between our analytically derived solution and the actual pytorch solution:\n",
      "d_bnvar         | exact: False | approximate: True  | maxdiff: 9.3132e-10\n"
     ]
    }
   ],
   "source": [
    "# Compare the derived result with the actual result \n",
    "print(f\"This is the result of the compare function between our analytically derived solution and the actual pytorch solution:\")\n",
    "cmp(\"d_bnvar\", d_bnvar, bnvar)"
   ]
  },
  {
   "cell_type": "markdown",
   "metadata": {},
   "source": [
    "##### Derivative of bndiff2 "
   ]
  },
  {
   "cell_type": "code",
   "execution_count": 125,
   "metadata": {},
   "outputs": [],
   "source": [
    "# Backpropagate the equation: bnvar = 1/(batch_size-1)*(bndiff2).sum(0, keepdim=True) \n",
    "\n",
    "# Notice here that this is again a multiplication and additions (from broadcasting) \n",
    "# The bndiff2 is a tensor of shape (32, 64) where bnvar has a shape of (1, 64).\n",
    "# Notice here that we are using Bessels correction => we take the mean as 1/(N-1), where as in the original batch normalization paper they are using 1/N \n",
    "    # The (N-1) version is what is called \"the unbiased\" variance estimation --> this the original batch norm paper uses during inference, where they use 1/N during training\n",
    "    # As we are using relatively small mini-batches, (i.e. N is relatively small) then the biased estimation (i.e. 1/N) will almost always underestimate the sample variance \n",
    "\"\"\"\n",
    "    f(x) = y * x            df/dx = y\n",
    "    f(x) = 1 + x            df/dx = 1 \n",
    "\"\"\"\n",
    "\n",
    "# Hence, we simply set up these two equations together \n",
    "d_bndiff2 = (1/(batch_size-1) * d_bnvar).sum(0, keepdim=True)"
   ]
  },
  {
   "cell_type": "code",
   "execution_count": 126,
   "metadata": {},
   "outputs": [
    {
     "name": "stdout",
     "output_type": "stream",
     "text": [
      "This is the result of the compare function between our analytically derived solution and the actual pytorch solution:\n",
      "d_bndiff2       | exact: False | approximate: True  | maxdiff: 2.9104e-11\n"
     ]
    }
   ],
   "source": [
    "# Compare the derived result with the actual result \n",
    "print(f\"This is the result of the compare function between our analytically derived solution and the actual pytorch solution:\")\n",
    "cmp(\"d_bndiff2\", d_bndiff2, bndiff2)"
   ]
  },
  {
   "cell_type": "markdown",
   "metadata": {},
   "source": [
    "##### Derivative of bndiff - part 2 "
   ]
  },
  {
   "cell_type": "code",
   "execution_count": 127,
   "metadata": {},
   "outputs": [],
   "source": [
    "# Backpropagate the equation: bndiff2 = bndiff**2 \n",
    "\n",
    "# This is the second branch of usage of bndiff \n",
    "\"\"\"\n",
    "    f(x) = x²               df/dx = 2x \n",
    "\"\"\"\n",
    "\n",
    "# Compute the gradient of the second usage of bndiff\n",
    "d_bndiff_2 = (2*bndiff) * d_bndiff2\n",
    "\n",
    "# Compute the full gradient as the two contributions added \n",
    "d_bndiff = d_bndiff_1 + d_bndiff_2"
   ]
  },
  {
   "cell_type": "code",
   "execution_count": 128,
   "metadata": {},
   "outputs": [
    {
     "name": "stdout",
     "output_type": "stream",
     "text": [
      "This is the result of the compare function between our analytically derived solution and the actual pytorch solution:\n",
      "d_bndiff        | exact: False | approximate: True  | maxdiff: 4.6566e-10\n"
     ]
    }
   ],
   "source": [
    "# Compare the derived result with the actual result \n",
    "print(f\"This is the result of the compare function between our analytically derived solution and the actual pytorch solution:\")\n",
    "cmp(\"d_bndiff\", d_bndiff, bndiff)"
   ]
  },
  {
   "cell_type": "markdown",
   "metadata": {},
   "source": [
    "##### Derivative of hprebn - part 1"
   ]
  },
  {
   "cell_type": "code",
   "execution_count": 129,
   "metadata": {},
   "outputs": [],
   "source": [
    "# Backpropagate the equation: bndiff = hprebn - bnmeani \n",
    "\n",
    "# Notice here that we are dealing with tensors of different shapes, as bndiff has a shape of (32, 64), hprebn has a shape of (32, 64) and bnmeani has a shape (1, 64) \n",
    "\"\"\"\n",
    "    f(x) = x - y            df/dx = 1 \n",
    "\"\"\"\n",
    "# Note from the forward pass that hprebn is used twice, hence this is only the first branch that we are going to calculate here \n",
    "\"\"\"\n",
    "bnmeani = 1/n*hprebn.sum(0, keepdim=True)   # bnmeani is a function of hprebn\n",
    "bndiff = hprebn - bnmeani                   # hprebn is then used again here \n",
    "\"\"\"\n",
    "\n",
    "# Compute the first contribution to the gradient \n",
    "d_hprebn_1 = 1 * bndiff.grad"
   ]
  },
  {
   "cell_type": "markdown",
   "metadata": {},
   "source": [
    "##### Derivative of bnmeani"
   ]
  },
  {
   "cell_type": "code",
   "execution_count": 130,
   "metadata": {},
   "outputs": [],
   "source": [
    "# Backpropagate the equation: bndiff = hprebn - bnmeani \n",
    "\n",
    "# Notice here that we are dealing with tensors of different shapes, as bndiff has a shape of (32, 64), hprebn has a shape of (32, 64) and bnmeani has a shape (1, 64) \n",
    "\"\"\"\n",
    "    f(x) = x - y            df/dy = -1 \n",
    "\"\"\"\n",
    "# Hence, this means here that the local gradient is -1, while the outer gradient is the derivative of bndiff.\n",
    "# This will result in a broadcasting as (-1 * d_bndiff) will be of the same shape as d_bndiff.\n",
    "# Hence, remember the duality, a broadcast in the forward pass results in a sum in the backward pass, along the broadcasted dimension \n",
    "\n",
    "# Note that we are multiplying by -1 in both cases... \n",
    "d_bnmeani = (-1 * d_bndiff).sum(0, keepdim=True)                                # Here pytorch will broadcast \n",
    "# d_bnmeani = (-torch.ones_like(bndiff) * d_bndiff).sum(0,keepdim=True)         # Here we are taking care of the broadcast our self - the results are identical \n"
   ]
  },
  {
   "cell_type": "code",
   "execution_count": 131,
   "metadata": {},
   "outputs": [
    {
     "name": "stdout",
     "output_type": "stream",
     "text": [
      "This is the result of the compare function between our analytically derived solution and the actual pytorch solution:\n",
      "d_bnmeani       | exact: False | approximate: True  | maxdiff: 1.0477e-09\n"
     ]
    }
   ],
   "source": [
    "# Compare the derived result with the actual result \n",
    "print(f\"This is the result of the compare function between our analytically derived solution and the actual pytorch solution:\")\n",
    "cmp(\"d_bnmeani\", d_bnmeani, bnmeani)"
   ]
  },
  {
   "cell_type": "markdown",
   "metadata": {},
   "source": [
    "##### Derivative of hprebn - part 2 "
   ]
  },
  {
   "cell_type": "code",
   "execution_count": 132,
   "metadata": {},
   "outputs": [],
   "source": [
    "# Backprop the equation: bnmeani = (1/batch_size)*hprebn.sum(0, keepdim=True)  \n",
    "\n",
    "# Notice here that we are dealing with a sum\n",
    "\"\"\"\n",
    "    f(x) = x + y            df/dx = 1\n",
    "    f(x) = x * y            df/dx = y \n",
    "\"\"\"\n",
    "# Hence, the local gradient over the summing is simply 1. According to the chain rule that local gradient is multiplied to the other, hence nothing happens \n",
    "# Therefore, we only need to do the part, where we are scaling our hprebn with the (1/batch_size) and take that as our local gradient\n",
    "# This local gradient will then be multiplied to the outer gradient (d_bnmeani) to form the final gradient\n",
    "d_hprebn_2 = (1/batch_size) * d_bnmeani\n",
    "\n",
    "# Compute the full gradient as the two contributions added\n",
    "d_hprebn = d_hprebn_1 + d_hprebn_2 "
   ]
  },
  {
   "cell_type": "code",
   "execution_count": 133,
   "metadata": {},
   "outputs": [
    {
     "name": "stdout",
     "output_type": "stream",
     "text": [
      "This is the result of the compare function between our analytically derived solution and the actual pytorch solution:\n",
      "d_hprebn        | exact: False | approximate: True  | maxdiff: 4.6566e-10\n"
     ]
    }
   ],
   "source": [
    "# Compare the derived result with the actual result \n",
    "print(f\"This is the result of the compare function between our analytically derived solution and the actual pytorch solution:\")\n",
    "cmp(\"d_hprebn\", d_hprebn, hprebn)"
   ]
  },
  {
   "cell_type": "markdown",
   "metadata": {},
   "source": [
    "##### Derivative of embcat "
   ]
  },
  {
   "cell_type": "code",
   "execution_count": 134,
   "metadata": {},
   "outputs": [],
   "source": [
    "# Backprop the equation: hprebn = embcat @ W1 + b1\n",
    "\n",
    "# Notice we have the shapes here:\n",
    "    # hprebn.shape  = (32, 64)\n",
    "    # embcat.shape  = (32, 30)\n",
    "    # W1.shape      = (30, 64)\n",
    "    # b1.shape      = (64)\n",
    "# Hence, some broadcasting will occur when adding the bias \n",
    "\"\"\"\n",
    "    f(x) = x * y + z            df/dx = y \n",
    "\"\"\"\n",
    "\n",
    "d_embcat = d_hprebn @ W1.T"
   ]
  },
  {
   "cell_type": "code",
   "execution_count": 135,
   "metadata": {},
   "outputs": [
    {
     "name": "stdout",
     "output_type": "stream",
     "text": [
      "This is the result of the compare function between our analytically derived solution and the actual pytorch solution:\n",
      "d_embcat        | exact: False | approximate: True  | maxdiff: 9.3132e-10\n"
     ]
    }
   ],
   "source": [
    "# Compare the derived result with the actual result \n",
    "print(f\"This is the result of the compare function between our analytically derived solution and the actual pytorch solution:\")\n",
    "cmp(\"d_embcat\", d_embcat, embcat)"
   ]
  },
  {
   "cell_type": "markdown",
   "metadata": {},
   "source": [
    "##### Derivative of W1"
   ]
  },
  {
   "cell_type": "code",
   "execution_count": 136,
   "metadata": {},
   "outputs": [],
   "source": [
    "# Backprop the equation: hprebn = embcat @ W1 + b1\n",
    "\n",
    "# Notice we have the shapes here:\n",
    "    # hprebn.shape  = (32, 64)\n",
    "    # embcat.shape  = (32, 30)\n",
    "    # W1.shape      = (30, 64)\n",
    "    # b1.shape      = (64)\n",
    "# Hence, some broadcasting will occur when adding the bias \n",
    "\"\"\"\n",
    "    f(x) = x * y + z            df/dy = x \n",
    "\"\"\"\n",
    "\n",
    "d_W1 = embcat.T @ d_hprebn"
   ]
  },
  {
   "cell_type": "code",
   "execution_count": 137,
   "metadata": {},
   "outputs": [
    {
     "name": "stdout",
     "output_type": "stream",
     "text": [
      "This is the result of the compare function between our analytically derived solution and the actual pytorch solution:\n",
      "d_W1            | exact: False | approximate: True  | maxdiff: 3.7253e-09\n"
     ]
    }
   ],
   "source": [
    "# Compare the derived result with the actual result \n",
    "print(f\"This is the result of the compare function between our analytically derived solution and the actual pytorch solution:\")\n",
    "cmp(\"d_W1\", d_W1, W1)"
   ]
  },
  {
   "cell_type": "markdown",
   "metadata": {},
   "source": [
    "##### Derivative of b1"
   ]
  },
  {
   "cell_type": "code",
   "execution_count": 138,
   "metadata": {},
   "outputs": [],
   "source": [
    "# Backprop the equation: hprebn = embcat @ W1 + b1\n",
    "\n",
    "# Notice we have the shapes here:\n",
    "    # hprebn.shape  = (32, 64)\n",
    "    # embcat.shape  = (32, 30)\n",
    "    # W1.shape      = (30, 64)\n",
    "    # b1.shape      = (64)\n",
    "# Hence, some broadcasting will occur when adding the bias \n",
    "\"\"\"\n",
    "    f(x) = x * y + z            df/dz = 1 \n",
    "\"\"\"\n",
    "\n",
    "d_b1 = (1 * d_hprebn).sum(0, keepdim=False)     # not keepdim in order to make the result a (64) shaped tensor "
   ]
  },
  {
   "cell_type": "code",
   "execution_count": 139,
   "metadata": {},
   "outputs": [
    {
     "name": "stdout",
     "output_type": "stream",
     "text": [
      "This is the result of the compare function between our analytically derived solution and the actual pytorch solution:\n",
      "d_b1            | exact: False | approximate: True  | maxdiff: 2.3283e-09\n"
     ]
    }
   ],
   "source": [
    "# Compare the derived result with the actual result \n",
    "print(f\"This is the result of the compare function between our analytically derived solution and the actual pytorch solution:\")\n",
    "cmp(\"d_b1\", d_b1, b1)"
   ]
  },
  {
   "cell_type": "markdown",
   "metadata": {},
   "source": [
    "##### Derivative of emb "
   ]
  },
  {
   "cell_type": "code",
   "execution_count": 140,
   "metadata": {},
   "outputs": [],
   "source": [
    "# Backprop the equation: embcat = emb.view(emb.shape[0], -1) \n",
    "\n",
    "# Here we have the different shapes:\n",
    "    # embcat.shape  = (32, 30)\n",
    "    # emb.shape     = (32, 3, 10) \n",
    "# Hence, this is simply the concatenation operation that we are going to find the derivative for \n",
    "\n",
    "# The view operation is simply a rearrangement operation, which have a derivative of 1 \n",
    "# Hence, we simply have to rearrange the derivative into the original view shape \n",
    "\n",
    "d_emb = d_embcat.view(emb.shape)"
   ]
  },
  {
   "cell_type": "code",
   "execution_count": 141,
   "metadata": {},
   "outputs": [
    {
     "name": "stdout",
     "output_type": "stream",
     "text": [
      "This is the result of the compare function between our analytically derived solution and the actual pytorch solution:\n",
      "d_emb           | exact: False | approximate: True  | maxdiff: 9.3132e-10\n"
     ]
    }
   ],
   "source": [
    "# Compare the derived result with the actual result \n",
    "print(f\"This is the result of the compare function between our analytically derived solution and the actual pytorch solution:\")\n",
    "cmp(\"d_emb\", d_emb, emb)"
   ]
  },
  {
   "cell_type": "markdown",
   "metadata": {},
   "source": [
    "##### Derivative of C - the embedding matrix "
   ]
  },
  {
   "cell_type": "code",
   "execution_count": 142,
   "metadata": {},
   "outputs": [],
   "source": [
    "# Backprop the equation: emb = C[Xb] \n",
    "\n",
    "# Notice here that this is a simple operation that will just plug out the randomly selected indices from our Xb tensor \n",
    "# Here we have the different shapes:\n",
    "    # Xb.shape  = (32, 3) \n",
    "    # C.shape   = (27, 10) \n",
    "    # emb.shape = (32, 3, 10) \n",
    "# Xb is simply an indexing tensor, i.e. for each of the 32 samples in our mini-batch, we plug out the 10 dimensional embedding vector for the chosen three indices, that are corresponding to the three characters that we input to the model \n",
    "# Plugging out is an operation with a derivative of 1\n",
    "# Hence, the final gradient is 1 * emb.grad (because, chain rule), for each of these plugged out arrays. \n",
    "# Remember, as each of the indices might occur more than once, we have to accumulate the gradient \n",
    "\n",
    "d_C = torch.zeros_like(C)\n",
    "for k in range(Xb.shape[0]):\n",
    "  for j in range(Xb.shape[1]):\n",
    "    idx = Xb[k,j]\n",
    "    d_C[idx] += d_emb[k,j]\n"
   ]
  },
  {
   "cell_type": "code",
   "execution_count": 143,
   "metadata": {},
   "outputs": [
    {
     "name": "stdout",
     "output_type": "stream",
     "text": [
      "This is the result of the compare function between our analytically derived solution and the actual pytorch solution:\n",
      "d_C             | exact: False | approximate: True  | maxdiff: 6.5193e-09\n"
     ]
    }
   ],
   "source": [
    "# Compare the derived result with the actual result \n",
    "print(f\"This is the result of the compare function between our analytically derived solution and the actual pytorch solution:\")\n",
    "cmp(\"d_C\", d_C, C)"
   ]
  },
  {
   "cell_type": "markdown",
   "metadata": {},
   "source": [
    "### **Solution**"
   ]
  },
  {
   "cell_type": "code",
   "execution_count": 144,
   "metadata": {},
   "outputs": [
    {
     "name": "stdout",
     "output_type": "stream",
     "text": [
      "logprobs        | exact: True  | approximate: True  | maxdiff: 0.0000e+00\n",
      "probs           | exact: True  | approximate: True  | maxdiff: 0.0000e+00\n",
      "counts_sum_inv  | exact: True  | approximate: True  | maxdiff: 0.0000e+00\n",
      "counts_sum      | exact: True  | approximate: True  | maxdiff: 0.0000e+00\n",
      "counts          | exact: True  | approximate: True  | maxdiff: 0.0000e+00\n",
      "norm_logits     | exact: True  | approximate: True  | maxdiff: 0.0000e+00\n",
      "logit_maxes     | exact: True  | approximate: True  | maxdiff: 0.0000e+00\n",
      "logits          | exact: True  | approximate: True  | maxdiff: 0.0000e+00\n",
      "h               | exact: True  | approximate: True  | maxdiff: 0.0000e+00\n",
      "W2              | exact: True  | approximate: True  | maxdiff: 0.0000e+00\n",
      "b2              | exact: True  | approximate: True  | maxdiff: 0.0000e+00\n",
      "hpreact         | exact: False | approximate: True  | maxdiff: 4.6566e-10\n",
      "bngain          | exact: False | approximate: True  | maxdiff: 1.8626e-09\n",
      "bnbias          | exact: False | approximate: True  | maxdiff: 3.7253e-09\n",
      "bnraw           | exact: False | approximate: True  | maxdiff: 6.9849e-10\n",
      "bnvar_inv       | exact: False | approximate: True  | maxdiff: 3.7253e-09\n",
      "bnvar           | exact: False | approximate: True  | maxdiff: 9.3132e-10\n",
      "bndiff2         | exact: False | approximate: True  | maxdiff: 2.9104e-11\n",
      "bndiff          | exact: False | approximate: True  | maxdiff: 4.6566e-10\n",
      "bnmeani         | exact: False | approximate: True  | maxdiff: 1.0477e-09\n",
      "hprebn          | exact: False | approximate: True  | maxdiff: 9.3132e-10\n",
      "embcat          | exact: False | approximate: True  | maxdiff: 1.8626e-09\n",
      "W1              | exact: False | approximate: True  | maxdiff: 3.7253e-09\n",
      "b1              | exact: False | approximate: True  | maxdiff: 2.3283e-09\n",
      "emb             | exact: False | approximate: True  | maxdiff: 1.8626e-09\n",
      "C               | exact: False | approximate: True  | maxdiff: 4.6566e-09\n"
     ]
    }
   ],
   "source": [
    "# Exercise 1: backprop through the whole thing manually, \n",
    "# backpropagating through exactly all of the variables \n",
    "# as they are defined in the forward pass above, one by one\n",
    "\n",
    "dlogprobs = torch.zeros_like(logprobs)\n",
    "dlogprobs[range(n), Yb] = -1.0/n\n",
    "dprobs = (1.0 / probs) * dlogprobs\n",
    "dcounts_sum_inv = (counts * dprobs).sum(1, keepdim=True)\n",
    "dcounts = counts_sum_inv * dprobs\n",
    "dcounts_sum = (-counts_sum**-2) * dcounts_sum_inv\n",
    "dcounts += torch.ones_like(counts) * dcounts_sum\n",
    "dnorm_logits = counts * dcounts\n",
    "dlogits = dnorm_logits.clone()\n",
    "dlogit_maxes = (-dnorm_logits).sum(1, keepdim=True)\n",
    "dlogits += F.one_hot(logits.max(1).indices, num_classes=logits.shape[1]) * dlogit_maxes\n",
    "dh = dlogits @ W2.T\n",
    "dW2 = h.T @ dlogits\n",
    "db2 = dlogits.sum(0)\n",
    "dhpreact = (1.0 - h**2) * dh\n",
    "dbngain = (bnraw * dhpreact).sum(0, keepdim=True)\n",
    "dbnraw = bngain * dhpreact\n",
    "dbnbias = dhpreact.sum(0, keepdim=True)\n",
    "dbndiff = bnvar_inv * dbnraw\n",
    "dbnvar_inv = (bndiff * dbnraw).sum(0, keepdim=True)\n",
    "dbnvar = (-0.5*(bnvar + 1e-5)**-1.5) * dbnvar_inv\n",
    "dbndiff2 = (1.0/(n-1))*torch.ones_like(bndiff2) * dbnvar\n",
    "dbndiff += (2*bndiff) * dbndiff2\n",
    "dhprebn = dbndiff.clone()\n",
    "dbnmeani = (-dbndiff).sum(0)\n",
    "dhprebn += 1.0/n * (torch.ones_like(hprebn) * dbnmeani)\n",
    "dembcat = dhprebn @ W1.T\n",
    "dW1 = embcat.T @ dhprebn\n",
    "db1 = dhprebn.sum(0)\n",
    "demb = dembcat.view(emb.shape)\n",
    "dC = torch.zeros_like(C)\n",
    "for k in range(Xb.shape[0]):\n",
    "  for j in range(Xb.shape[1]):\n",
    "    ix = Xb[k,j]\n",
    "    dC[ix] += demb[k,j]\n",
    "    \n",
    "cmp('logprobs', dlogprobs, logprobs)\n",
    "cmp('probs', dprobs, probs)\n",
    "cmp('counts_sum_inv', dcounts_sum_inv, counts_sum_inv)\n",
    "cmp('counts_sum', dcounts_sum, counts_sum)\n",
    "cmp('counts', dcounts, counts)\n",
    "cmp('norm_logits', dnorm_logits, norm_logits)\n",
    "cmp('logit_maxes', dlogit_maxes, logit_maxes)\n",
    "cmp('logits', dlogits, logits)\n",
    "cmp('h', dh, h)\n",
    "cmp('W2', dW2, W2)\n",
    "cmp('b2', db2, b2)\n",
    "cmp('hpreact', dhpreact, hpreact)\n",
    "cmp('bngain', dbngain, bngain)\n",
    "cmp('bnbias', dbnbias, bnbias)\n",
    "cmp('bnraw', dbnraw, bnraw)\n",
    "cmp('bnvar_inv', dbnvar_inv, bnvar_inv)\n",
    "cmp('bnvar', dbnvar, bnvar)\n",
    "cmp('bndiff2', dbndiff2, bndiff2)\n",
    "cmp('bndiff', dbndiff, bndiff)\n",
    "cmp('bnmeani', dbnmeani, bnmeani)\n",
    "cmp('hprebn', dhprebn, hprebn)\n",
    "cmp('embcat', dembcat, embcat)\n",
    "cmp('W1', dW1, W1)\n",
    "cmp('b1', db1, b1)\n",
    "cmp('emb', demb, emb)\n",
    "cmp('C', dC, C)"
   ]
  },
  {
   "cell_type": "markdown",
   "metadata": {},
   "source": [
    "## Exercise 2"
   ]
  },
  {
   "cell_type": "code",
   "execution_count": 145,
   "metadata": {},
   "outputs": [
    {
     "name": "stdout",
     "output_type": "stream",
     "text": [
      "3.3476755619049072 diff: 2.384185791015625e-07\n"
     ]
    }
   ],
   "source": [
    "# Exercise 2: backprop through cross_entropy but all in one go\n",
    "# to complete this challenge look at the mathematical expression of the loss,\n",
    "# take the derivative, simplify the expression, and just write it out\n",
    "\n",
    "# You can backprop through an entire function at a time - you don't have to backprop through all the way to the loss \n",
    "# You simply need to have the forward pass and the backward pass for the operation => similar to the tanh backward\n",
    "# This can be advantageous as the implementation of the combined backward pass can be much more efficient and simpler \n",
    "\n",
    "# forward pass\n",
    "\n",
    "# before:\n",
    "# logit_maxes = logits.max(1, keepdim=True).values\n",
    "# norm_logits = logits - logit_maxes # subtract max for numerical stability\n",
    "# counts = norm_logits.exp()\n",
    "# counts_sum = counts.sum(1, keepdims=True)\n",
    "# counts_sum_inv = counts_sum**-1 # if I use (1.0 / counts_sum) instead then I can't get backprop to be bit exact...\n",
    "# probs = counts * counts_sum_inv\n",
    "# logprobs = probs.log()\n",
    "# loss = -logprobs[range(n), Yb].mean()\n",
    "\n",
    "# now:\n",
    "loss_fast = F.cross_entropy(logits, Yb)\n",
    "print(loss_fast.item(), 'diff:', (loss_fast - loss).item())"
   ]
  },
  {
   "cell_type": "code",
   "execution_count": 146,
   "metadata": {},
   "outputs": [],
   "source": [
    "# backward pass\n",
    "\n",
    "# We can see that the cross entropy loss is simply plugging out the correct indices for each of the samples in the probability vector\n",
    "\n",
    "dlogits = F.softmax(logits, 1)          # Softmax along all the rows (i.e. for the logits for each of the samples)\n",
    "dlogits[range(batch_size), Yb] -= 1     # Subtract a 1 for each of the correct indices as for i==y: dL/dli = p[i]-1 and for i!=y: dL/dli = p[i]\n",
    "dlogits /= batch_size                   # As we are using batches where the loss will be meaned across the loss for each batch, we here need to dividie the derivatives with the batch size "
   ]
  },
  {
   "cell_type": "code",
   "execution_count": 147,
   "metadata": {},
   "outputs": [
    {
     "name": "stdout",
     "output_type": "stream",
     "text": [
      "logits          | exact: False | approximate: True  | maxdiff: 6.0536e-09\n"
     ]
    }
   ],
   "source": [
    "# Compare the pytorch grad computations with our analytically derived ones \n",
    "cmp('logits', dlogits, logits) "
   ]
  },
  {
   "cell_type": "code",
   "execution_count": 148,
   "metadata": {},
   "outputs": [
    {
     "name": "stdout",
     "output_type": "stream",
     "text": [
      "The softmaxes tensor for the first sample of our batch:\n",
      "tensor([0.0733, 0.0870, 0.0184, 0.0524, 0.0194, 0.0841, 0.0257, 0.0368, 0.0171,\n",
      "        0.0321, 0.0364, 0.0342, 0.0362, 0.0297, 0.0358, 0.0136, 0.0093, 0.0199,\n",
      "        0.0161, 0.0526, 0.0472, 0.0225, 0.0239, 0.0690, 0.0599, 0.0263, 0.0212],\n",
      "       grad_fn=<SelectBackward0>)\n",
      "\n",
      "The derivative of the logits (i.e. d_logits) for the same sample (multiplied by the batch size):\n",
      "tensor([ 0.0733,  0.0870,  0.0184,  0.0524,  0.0194,  0.0841,  0.0257,  0.0368,\n",
      "        -0.9829,  0.0321,  0.0364,  0.0342,  0.0362,  0.0297,  0.0358,  0.0136,\n",
      "         0.0093,  0.0199,  0.0161,  0.0526,  0.0472,  0.0225,  0.0239,  0.0690,\n",
      "         0.0599,  0.0263,  0.0212], grad_fn=<MulBackward0>)\n",
      "\n",
      "Note that the 8th derivative is -0.98287 where as all the other derivatives are positive just above 0\n",
      "\n",
      "Notice that the sum of this derivatives d_logits tensor is: 1.3969838619232178e-09\n"
     ]
    }
   ],
   "source": [
    "# Print some statements \n",
    "print(f\"The softmaxes tensor for the first sample of our batch:\\n{F.softmax(logits, 1)[0]}\\n\")\n",
    "\n",
    "print(f\"The derivative of the logits (i.e. d_logits) for the same sample (multiplied by the batch size):\\n{dlogits[0]*batch_size}\\n\") \n",
    "\n",
    "print(f\"Note that the {torch.argmin(dlogits[0])}th derivative is {dlogits[0,8]*n:.5f} where as all the other derivatives are positive just above 0\")\n",
    "\n",
    "print(f\"\\nNotice that the sum of this derivatives d_logits tensor is: {d_logits[0].sum()}\")"
   ]
  },
  {
   "cell_type": "code",
   "execution_count": 149,
   "metadata": {},
   "outputs": [
    {
     "data": {
      "image/png": "[encoded data removed]",
      "text/plain": [
       "<Figure size 600x600 with 2 Axes>"
      ]
     },
     "metadata": {},
     "output_type": "display_data"
    }
   ],
   "source": [
    "fig = plt.figure(figsize=(6, 6))\n",
    "im = plt.imshow(dlogits.detach(), cmap='gray')\n",
    "plt.title(label=f\"The derivatives for each of the {d_logits.shape[0]} samples and each of the {d_logits.shape[1]} classes\", fontsize=10)\n",
    "plt.yticks(torch.arange(-0.475, d_logits.shape[0]+0.5),labels=[f'{x}' if x%5==0 else '' for x in range(d_logits.shape[0]+1)])\n",
    "plt.xticks(torch.arange(-0.475, d_logits.shape[1]+0.5),labels=[f'{x}' if x%5==0 else '' for x in range(d_logits.shape[1]+1)])\n",
    "plt.grid(True, linestyle=\"--\", color=\"gray\", linewidth=1)\n",
    "fig.tight_layout()\n",
    "plt.colorbar(use_gridspec=True)\n",
    "plt.show()\n",
    "\n",
    "# Here all the rows represent each of the samples in our batch where as the i'th columns are the derivatives for each of the probabilities for the i'th character in our vocabulary (i.e. probability predicted for class i)\n",
    "# Notice all the black squares, which are the derivatives for the i'th characters where i==y, as their derivative was p[i]-1 instead of only p[i] \n",
    "# Remember from the earlier code cell that the sum of all of these derivatives are 0 => hence there are no extra \"force\" introduced by these derivatives into the network\n",
    "# Our weights are updated as: w[i,j] = -lr * w[i,j].grad \n",
    "# Hence, when the gradients here for the characters at the (i==y)'th index gets pushed to the ground (by the -1 interpretation) and all other gradients will be slightly above 0, then the gradients here can be seen as a truncation, \n",
    "# or a force pushing the weights contributing to all the wrong predictions to do that less, while pulling the weights contributing to the correct prediction, to do more of that \n",
    "# Hence, these derivative of the logits can be seen like pulleys that are controlling the network and parameters into becoming what we want\n",
    "# Hence, the amount of force is propertional to the amount of \"incorrectness\" in the predictions \n",
    "    # Due to the fact that the derivative of the exactely true prediction [0, 0, 1, 0] would be a row of all zeros, hence no push and pull (no parameter updates) would be applied \n",
    "# This is one of the reasons why the cross entropy is such a good loss function ... "
   ]
  },
  {
   "cell_type": "markdown",
   "metadata": {},
   "source": [
    "## Exercise 3"
   ]
  },
  {
   "cell_type": "code",
   "execution_count": 150,
   "metadata": {},
   "outputs": [
    {
     "name": "stdout",
     "output_type": "stream",
     "text": [
      "max diff: tensor(4.7684e-07, grad_fn=<MaxBackward1>)\n"
     ]
    }
   ],
   "source": [
    "# Exercise 3: backprop through batchnorm but all in one go\n",
    "# to complete this challenge look at the mathematical expression of the output of batchnorm,\n",
    "# take the derivative w.r.t. its input, simplify the expression, and just write it out\n",
    "\n",
    "# forward pass\n",
    "\n",
    "# before:\n",
    "# bnmeani = 1/n*hprebn.sum(0, keepdim=True)\n",
    "# bndiff = hprebn - bnmeani\n",
    "# bndiff2 = bndiff**2\n",
    "# bnvar = 1/(n-1)*(bndiff2).sum(0, keepdim=True) # note: Bessel's correction (dividing by n-1, not n)\n",
    "# bnvar_inv = (bnvar + 1e-5)**-0.5\n",
    "# bnraw = bndiff * bnvar_inv\n",
    "# hpreact = bngain * bnraw + bnbias\n",
    "\n",
    "### now:\n",
    "# This is a one-liner for the batch normalization forward pass:\n",
    "hpreact_fast = bngain * (hprebn - hprebn.mean(0, keepdim=True)) / torch.sqrt(hprebn.var(0, keepdim=True, unbiased=True) + 1e-5) + bnbias\n",
    "print('max diff:', (hpreact_fast - hpreact).abs().max())"
   ]
  },
  {
   "cell_type": "code",
   "execution_count": 151,
   "metadata": {},
   "outputs": [
    {
     "name": "stdout",
     "output_type": "stream",
     "text": [
      "hprebn          | exact: False | approximate: True  | maxdiff: 9.3132e-10\n"
     ]
    }
   ],
   "source": [
    "# backward pass\n",
    "\n",
    "# before we had:\n",
    "# dbnraw = bngain * dhpreact\n",
    "# dbndiff = bnvar_inv * dbnraw\n",
    "# dbnvar_inv = (bndiff * dbnraw).sum(0, keepdim=True)\n",
    "# dbnvar = (-0.5*(bnvar + 1e-5)**-1.5) * dbnvar_inv\n",
    "# dbndiff2 = (1.0/(n-1))*torch.ones_like(bndiff2) * dbnvar\n",
    "# dbndiff += (2*bndiff) * dbndiff2\n",
    "# dhprebn = dbndiff.clone()\n",
    "# dbnmeani = (-dbndiff).sum(0)\n",
    "# dhprebn += 1.0/n * (torch.ones_like(hprebn) * dbnmeani)\n",
    "\n",
    "# calculate dhprebn given dhpreact (i.e. backprop through the batchnorm)\n",
    "# (you'll also need to use some of the variables from the forward pass up above)\n",
    "\n",
    "### Pre-information\n",
    "# Remember that dL/dx^hat is a vector, as we have multiple x_hats.\n",
    "    # Remember that the running mean and variance (mu and sigma) is scalar values, hence we have some broadcasting in the forward pass (means summation in backprop)\n",
    "# \n",
    "\n",
    "\n",
    "dhprebn = bngain*bnvar_inv/n * (n*dhpreact - dhpreact.sum(0) - n/(n-1)*bnraw*(dhpreact*bnraw).sum(0))\n",
    "\n",
    "cmp('hprebn', dhprebn, hprebn) # I can only get approximate to be true, my maxdiff is 9e-10"
   ]
  },
  {
   "cell_type": "code",
   "execution_count": 152,
   "metadata": {},
   "outputs": [
    {
     "data": {
      "text/plain": [
       "(torch.Size([32, 64]),\n",
       " torch.Size([1, 64]),\n",
       " torch.Size([1, 64]),\n",
       " torch.Size([32, 64]),\n",
       " torch.Size([64]))"
      ]
     },
     "execution_count": 152,
     "metadata": {},
     "output_type": "execute_result"
    }
   ],
   "source": [
    "### Notice the different shapes here\n",
    "# This indicates that we have had some kind of broadcasting along the columns, during the forward pass of the batch norm layer \n",
    "dhprebn.shape, bngain.shape, bnvar_inv.shape, dbnraw.shape, dbnraw.sum(0).shape"
   ]
  },
  {
   "cell_type": "markdown",
   "metadata": {},
   "source": [
    "## Exercise 4"
   ]
  },
  {
   "cell_type": "code",
   "execution_count": null,
   "metadata": {},
   "outputs": [],
   "source": [
    "# Exercise 4: putting it all together!\n",
    "# Train the MLP neural net with your own backward pass\n",
    "\n",
    "# init\n",
    "n_embd = 10 # the dimensionality of the character embedding vectors\n",
    "n_hidden = 200 # the number of neurons in the hidden layer of the MLP\n",
    "\n",
    "g = torch.Generator().manual_seed(2147483647) # for reproducibility\n",
    "C  = torch.randn((vocab_size, n_embd),            generator=g)\n",
    "# Layer 1\n",
    "W1 = torch.randn((n_embd * block_size, n_hidden), generator=g) * (5/3)/((n_embd * block_size)**0.5)\n",
    "b1 = torch.randn(n_hidden,                        generator=g) * 0.1\n",
    "# Layer 2\n",
    "W2 = torch.randn((n_hidden, vocab_size),          generator=g) * 0.1\n",
    "b2 = torch.randn(vocab_size,                      generator=g) * 0.1\n",
    "# BatchNorm parameters\n",
    "bngain = torch.randn((1, n_hidden))*0.1 + 1.0\n",
    "bnbias = torch.randn((1, n_hidden))*0.1\n",
    "\n",
    "parameters = [C, W1, b1, W2, b2, bngain, bnbias]\n",
    "print(sum(p.nelement() for p in parameters)) # number of parameters in total\n",
    "for p in parameters:\n",
    "  p.requires_grad = True\n",
    "\n",
    "# same optimization as last time\n",
    "max_steps = 200000\n",
    "batch_size = 32\n",
    "n = batch_size # convenience\n",
    "lossi = []\n",
    "\n",
    "# use this context manager for efficiency once your backward pass is written (TODO)\n",
    "with torch.no_grad():\n",
    "\n",
    "  # kick off optimization\n",
    "  for i in range(max_steps):\n",
    "\n",
    "    # minibatch construct\n",
    "    ix = torch.randint(0, Xtr.shape[0], (batch_size,), generator=g)\n",
    "    Xb, Yb = Xtr[ix], Ytr[ix] # batch X,Y\n",
    "\n",
    "    # forward pass\n",
    "    emb = C[Xb] # embed the characters into vectors\n",
    "    embcat = emb.view(emb.shape[0], -1) # concatenate the vectors\n",
    "    # Linear layer\n",
    "    hprebn = embcat @ W1 + b1 # hidden layer pre-activation\n",
    "    # BatchNorm layer\n",
    "    # -------------------------------------------------------------\n",
    "    bnmean = hprebn.mean(0, keepdim=True)\n",
    "    bnvar = hprebn.var(0, keepdim=True, unbiased=True)\n",
    "    bnvar_inv = (bnvar + 1e-5)**-0.5\n",
    "    bnraw = (hprebn - bnmean) * bnvar_inv\n",
    "    hpreact = bngain * bnraw + bnbias\n",
    "    # -------------------------------------------------------------\n",
    "    # Non-linearity\n",
    "    h = torch.tanh(hpreact) # hidden layer\n",
    "    logits = h @ W2 + b2 # output layer\n",
    "    loss = F.cross_entropy(logits, Yb) # loss function\n",
    "\n",
    "    # backward pass\n",
    "    for p in parameters:\n",
    "      p.grad = None\n",
    "    #loss.backward() # use this for correctness comparisons, delete it later!\n",
    "\n",
    "    # manual backprop! #swole_doge_meme\n",
    "    # -----------------\n",
    "    dlogits = F.softmax(logits, 1)\n",
    "    dlogits[range(n), Yb] -= 1\n",
    "    dlogits /= n\n",
    "    # 2nd layer backprop\n",
    "    dh = dlogits @ W2.T\n",
    "    dW2 = h.T @ dlogits\n",
    "    db2 = dlogits.sum(0)\n",
    "    # tanh\n",
    "    dhpreact = (1.0 - h**2) * dh\n",
    "    # batchnorm backprop\n",
    "    dbngain = (bnraw * dhpreact).sum(0, keepdim=True)\n",
    "    dbnbias = dhpreact.sum(0, keepdim=True)\n",
    "    dhprebn = bngain*bnvar_inv/n * (n*dhpreact - dhpreact.sum(0) - n/(n-1)*bnraw*(dhpreact*bnraw).sum(0))\n",
    "    # 1st layer\n",
    "    dembcat = dhprebn @ W1.T\n",
    "    dW1 = embcat.T @ dhprebn\n",
    "    db1 = dhprebn.sum(0)\n",
    "    # embedding\n",
    "    demb = dembcat.view(emb.shape)\n",
    "    dC = torch.zeros_like(C)\n",
    "    for k in range(Xb.shape[0]):\n",
    "      for j in range(Xb.shape[1]):\n",
    "        ix = Xb[k,j]\n",
    "        dC[ix] += demb[k,j]\n",
    "    grads = [dC, dW1, db1, dW2, db2, dbngain, dbnbias]\n",
    "    # -----------------\n",
    "\n",
    "    # update\n",
    "    lr = 0.1 if i < 100000 else 0.01 # step learning rate decay\n",
    "    for p, grad in zip(parameters, grads):\n",
    "      #p.data += -lr * p.grad # old way of cheems doge (using PyTorch grad from .backward())\n",
    "      p.data += -lr * grad # new way of swole doge TODO: enable\n",
    "\n",
    "    # track stats\n",
    "    if i % 10000 == 0: # print every once in a while\n",
    "      print(f'{i:7d}/{max_steps:7d}: {loss.item():.4f}')\n",
    "    lossi.append(loss.log10().item())\n",
    "\n",
    "  #   if i >= 100: # TODO: delete early breaking when you're ready to train the full net\n",
    "  #     break"
   ]
  },
  {
   "cell_type": "code",
   "execution_count": null,
   "metadata": {},
   "outputs": [],
   "source": [
    "# useful for checking your gradients\n",
    "# for p,g in zip(parameters, grads):\n",
    "#   cmp(str(tuple(p.shape)), g, p)"
   ]
  },
  {
   "cell_type": "code",
   "execution_count": null,
   "metadata": {},
   "outputs": [],
   "source": [
    "# calibrate the batch norm at the end of training\n",
    "\n",
    "with torch.no_grad():\n",
    "  # pass the training set through\n",
    "  emb = C[Xtr]\n",
    "  embcat = emb.view(emb.shape[0], -1)\n",
    "  hpreact = embcat @ W1 + b1\n",
    "  # measure the mean/std over the entire training set\n",
    "  bnmean = hpreact.mean(0, keepdim=True)\n",
    "  bnvar = hpreact.var(0, keepdim=True, unbiased=True)\n"
   ]
  },
  {
   "cell_type": "code",
   "execution_count": null,
   "metadata": {},
   "outputs": [],
   "source": [
    "# evaluate train and val loss\n",
    "\n",
    "@torch.no_grad() # this decorator disables gradient tracking\n",
    "def split_loss(split):\n",
    "  x,y = {\n",
    "    'train': (Xtr, Ytr),\n",
    "    'val': (Xdev, Ydev),\n",
    "    'test': (Xte, Yte),\n",
    "  }[split]\n",
    "  emb = C[x] # (N, block_size, n_embd)\n",
    "  embcat = emb.view(emb.shape[0], -1) # concat into (N, block_size * n_embd)\n",
    "  hpreact = embcat @ W1 + b1\n",
    "  hpreact = bngain * (hpreact - bnmean) * (bnvar + 1e-5)**-0.5 + bnbias\n",
    "  h = torch.tanh(hpreact) # (N, n_hidden)\n",
    "  logits = h @ W2 + b2 # (N, vocab_size)\n",
    "  loss = F.cross_entropy(logits, y)\n",
    "  print(split, loss.item())\n",
    "\n",
    "split_loss('train')\n",
    "split_loss('val')"
   ]
  },
  {
   "cell_type": "code",
   "execution_count": null,
   "metadata": {},
   "outputs": [],
   "source": [
    "# I achieved:\n",
    "# train 2.0718822479248047\n",
    "# val 2.1162495613098145"
   ]
  },
  {
   "cell_type": "code",
   "execution_count": null,
   "metadata": {},
   "outputs": [],
   "source": [
    "# sample from the model\n",
    "g = torch.Generator().manual_seed(2147483647 + 10)\n",
    "\n",
    "for _ in range(20):\n",
    "    \n",
    "    out = []\n",
    "    context = [0] * block_size # initialize with all ...\n",
    "    while True:\n",
    "      # ------------\n",
    "      # forward pass:\n",
    "      # Embedding\n",
    "      emb = C[torch.tensor([context])] # (1,block_size,d)      \n",
    "      embcat = emb.view(emb.shape[0], -1) # concat into (N, block_size * n_embd)\n",
    "      hpreact = embcat @ W1 + b1\n",
    "      hpreact = bngain * (hpreact - bnmean) * (bnvar + 1e-5)**-0.5 + bnbias\n",
    "      h = torch.tanh(hpreact) # (N, n_hidden)\n",
    "      logits = h @ W2 + b2 # (N, vocab_size)\n",
    "      # ------------\n",
    "      # Sample\n",
    "      probs = F.softmax(logits, dim=1)\n",
    "      ix = torch.multinomial(probs, num_samples=1, generator=g).item()\n",
    "      context = context[1:] + [ix]\n",
    "      out.append(ix)\n",
    "      if ix == 0:\n",
    "        break\n",
    "    \n",
    "    print(''.join(i_to_s[i] for i in out))"
   ]
  },
  {
   "cell_type": "code",
   "execution_count": null,
   "metadata": {},
   "outputs": [],
   "source": []
  }
 ],
 "metadata": {
  "kernelspec": {
   "display_name": "Python 3",
   "language": "python",
   "name": "python3"
  },
  "language_info": {
   "codemirror_mode": {
    "name": "ipython",
    "version": 3
   },
   "file_extension": ".py",
   "mimetype": "text/x-python",
   "name": "python",
   "nbconvert_exporter": "python",
   "pygments_lexer": "ipython3",
   "version": "3.10.12"
  }
 },
 "nbformat": 4,
 "nbformat_minor": 4
}
